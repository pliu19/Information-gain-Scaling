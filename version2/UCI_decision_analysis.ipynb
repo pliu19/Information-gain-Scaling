{
 "cells": [
  {
   "cell_type": "code",
   "execution_count": 1,
   "metadata": {
    "collapsed": true
   },
   "outputs": [],
   "source": [
    "import numpy as np\n",
    "import matplotlib.pyplot as plt\n",
    "from sklearn.metrics import accuracy_score\n",
    "from sklearn.preprocessing import scale\n",
    "from sklearn.cross_validation import train_test_split, ShuffleSplit\n",
    "from classifiers import TransparentLogisticRegression, TransparentLinearRegression\n",
    "from matplotlib import pylab as pl\n",
    "from scipy.sparse import diags\n",
    "from IPython import display\n",
    "from scale import decision_tree_scale\n",
    "from IPython.display import display, HTML\n",
    "from ipy_table import *"
   ]
  },
  {
   "cell_type": "code",
   "execution_count": 2,
   "metadata": {
    "collapsed": true
   },
   "outputs": [],
   "source": [
    "# calculate # of instances between mean and splitting points for each feature\n",
    "def get_num_instances(X, mean1, mean2):\n",
    "    # m is # of instances, n is # of features, also the length of mean1 and mean2\n",
    "    m, n = np.shape(X)\n",
    "    result = []\n",
    "    for i in range(n):\n",
    "        current_feature = X[:,i]\n",
    "        if mean1[i]>mean2[i]:\n",
    "            a = mean2[i]\n",
    "            b = mean1[i]\n",
    "        else:\n",
    "            a = mean1[i]\n",
    "            b = mean2[i]\n",
    "        num = ((current_feature > a) & (current_feature < b)).sum()\n",
    "        result.append(num)\n",
    "   \n",
    "    return result"
   ]
  },
  {
   "cell_type": "code",
   "execution_count": 3,
   "metadata": {
    "collapsed": true
   },
   "outputs": [],
   "source": [
    "# All information for test instances\n",
    "class instance():\n",
    "    def __init__(self, feature_name, ori_features, ss_features, ig_features, clf_ori, clf_ss, clf_ig):\n",
    "        \n",
    "        self.feature_name = feature_name\n",
    "        self.ori_features = ori_features\n",
    "        self.ss_features = ss_features\n",
    "        self.ig_features = ig_features\n",
    "        self.clf_ori = clf_ori\n",
    "        self.clf_ss = clf_ss\n",
    "        self.clf_ig = clf_ig\n",
    "        \n",
    "        self.neg_evi_ori, self.pos_evi_ori = self.evidence_prediction(self.clf_ori, self.ori_features)\n",
    "        self.neg_evi_ss, self.pos_evi_ss = self.evidence_prediction(self.clf_ss, self.ss_features)\n",
    "        self.neg_evi_ig, self.pos_evi_ig = self.evidence_prediction(self.clf_ig, self.ig_features)\n",
    "        \n",
    "        self.proba_ori = self.proba_prediction(self.clf_ori, self.ori_features)\n",
    "        self.proba_ss = self.proba_prediction(self.clf_ss, self.ss_features)\n",
    "        self.proba_ig = self.proba_prediction(self.clf_ig, self.ig_features)\n",
    "                       \n",
    "    def get_information(self):\n",
    "        \n",
    "        other_info = ['Bias', 'Neg_evi', 'Pos_evi','Proba']\n",
    "        \n",
    "        header = [['Features', 'Ori_value', 'ss_value', 'ig_value','w * v_ori', 'w * v_ss', 'w * v_ig']]\n",
    "        \n",
    "        ori_evidence = np.multiply(self.ori_features, self.clf_ori.coef_).flatten()\n",
    "        ss_evidence = np.multiply(self.ss_features, self.clf_ss.coef_).flatten()\n",
    "        ig_evidence = np.multiply(self.ig_features, self.clf_ig.coef_).flatten()\n",
    "        \n",
    "        ori_evidence = np.around(ori_evidence, decimals=2)\n",
    "        ss_evidence = np.around(ss_evidence, decimals=2)\n",
    "        ig_evidence = np.around(ig_evidence, decimals=2)\n",
    "        \n",
    "        ori_features_round = np.around(self.ori_features, decimals=2)\n",
    "        ss_features_round = np.around(self.ss_features, decimals=2)\n",
    "        ig_features_round = np.around(self.ig_features, decimals=2)\n",
    "        \n",
    "        self.neg_evi_ori = np.around(self.neg_evi_ori, decimals=2); self.pos_evi_ori = np.around(self.pos_evi_ori, decimals=2)\n",
    "        self.neg_evi_ss = np.around(self.neg_evi_ss, decimals=2); self.pos_evi_ss = np.around(self.pos_evi_ss, decimals=2)\n",
    "        self.neg_evi_ig = np.around(self.neg_evi_ig, decimals=2); self.pos_evi_ig = np.around(self.pos_evi_ig, decimals=2)\n",
    "        \n",
    "        self.proba_ori = np.around(self.proba_ori[0], decimals=3)\n",
    "        self.proba_ss = np.around(self.proba_ss[0], decimals=3)\n",
    "        self.proba_ig = np.around(self.proba_ig[0], decimals=3)\n",
    "        \n",
    "        intercept_ori = round(self.clf_ori.intercept_[0], 2)\n",
    "        intercept_ss = round(self.clf_ss.intercept_[0], 2)\n",
    "        intercept_ig = round(self.clf_ig.intercept_[0], 2)\n",
    "\n",
    "        value_array = np.array([self.feature_name, ori_features_round, ss_features_round, ig_features_round, \n",
    "                                    ori_evidence, ss_evidence, ig_evidence])\n",
    "        \n",
    "        # print value_array.T\n",
    "        \n",
    "        value_array = combine_table(header, value_array.T)\n",
    "            \n",
    "        bias_list = np.array(['Bias', intercept_ori, intercept_ss, intercept_ig, 'None', 'None', 'None'])\n",
    "        neg_list = np.array(['Neg_evi', self.neg_evi_ori[0], self.neg_evi_ss[0], self.neg_evi_ig[0], 'None', 'None', 'None'])\n",
    "        pos_list = np.array(['Pos_evi', self.pos_evi_ori[0], self.pos_evi_ss[0], self.pos_evi_ig[0], 'None', 'None', 'None'])\n",
    "        prob_list = np.array(['Proba', str(self.proba_ori), str(self.proba_ss), str(self.proba_ig), 'None', 'None', 'None'])\n",
    "            \n",
    "        other_array = np.array([bias_list, neg_list, pos_list, prob_list])\n",
    "            \n",
    "        result = np.concatenate((value_array, other_array), axis=0) \n",
    "        \n",
    "        return make_table(result)\n",
    "        \n",
    "            \n",
    "    def evidence_prediction(self, clf, features):\n",
    "        \n",
    "        features = features.reshape((1,-1))\n",
    "        neg_evi, pos_evi = clf.predict_evidences(features)\n",
    "        return neg_evi, pos_evi\n",
    "    \n",
    "    def proba_prediction(self, clf, features):\n",
    "        features = features.reshape((1,-1))\n",
    "        proba = clf.predict_proba(features)\n",
    "        return proba"
   ]
  },
  {
   "cell_type": "code",
   "execution_count": 4,
   "metadata": {
    "collapsed": true
   },
   "outputs": [],
   "source": [
    "# combine header and table \n",
    "def combine_table(header, table):\n",
    "\n",
    "    result = np.concatenate((header, table), axis=0)\n",
    "    return result"
   ]
  },
  {
   "cell_type": "code",
   "execution_count": 5,
   "metadata": {
    "collapsed": true
   },
   "outputs": [],
   "source": [
    "def transform(X, mns, sstd, axis=0):\n",
    "    X = np.asanyarray(X)\n",
    "    if axis and mns.ndim < X.ndim:\n",
    "\n",
    "        return ((X - np.expand_dims(mns, axis=axis)) /\n",
    "                    np.expand_dims(sstd, axis=axis))\n",
    "    else:\n",
    "\n",
    "        return (X - mns) / sstd"
   ]
  },
  {
   "cell_type": "code",
   "execution_count": 6,
   "metadata": {
    "collapsed": true
   },
   "outputs": [],
   "source": [
    "# breast-w\n",
    "# source link: https://archive.ics.uci.edu/ml/datasets/Breast+Cancer+Wisconsin+%28Original%29\n",
    "# relevant paper: Multisurface method of pattern separation for medical diagnosis applied to breast cytology\n",
    "\n",
    "dataset = \"diabetes.csv\"\n",
    "class_index = 8\n",
    "num_cols = 9\n",
    "classes = ['tested_negative', 'tested_positive']\n",
    "read_cols = [i for i in range(num_cols) if i != class_index]\n",
    "file_path = \"D:\\\\IIT_Master\\\\2016 Spring\\\\CS597\\\\uci\\\\uci\\\\uci-tar\\\\nominal\\\\\" + dataset\n",
    "\n",
    "dataset = \"breast-w.csv\"\n",
    "class_index = 9\n",
    "num_cols = 10\n",
    "classes = ['benign', 'malignant']\n",
    "read_cols = [i for i in range(num_cols) if i != class_index]\n",
    "file_path = \"D:\\\\IIT_Master\\\\2016 Spring\\\\CS597\\\\uci\\\\uci\\\\uci-tar\\\\nominal\\\\\"+dataset\n"
   ]
  },
  {
   "cell_type": "code",
   "execution_count": 7,
   "metadata": {
    "collapsed": true
   },
   "outputs": [],
   "source": [
    "# ['Clump_Thickness' 'Cell_Size_Uniformity' 'Cell_Shape_Uniformity' 'Marginal_Adhesion' 'Single_Epi_Cell_Size' 'Bare_Nuclei' 'Bland_Chromatin'\n",
    "#  'Normal_Nucleoli' 'Mitoses' \n",
    "\n",
    "\n",
    "with open(file_path, 'r') as f:\n",
    "    header = f.readline()\n",
    "    #print header\n",
    "    #header = np.fromstring(\"a, b\", dtype=np.str_, sep=',')\n",
    "    header = np.array(header.split(','))\n",
    "    feature_names = header[read_cols]"
   ]
  },
  {
   "cell_type": "code",
   "execution_count": 8,
   "metadata": {
    "collapsed": false
   },
   "outputs": [
    {
     "name": "stdout",
     "output_type": "stream",
     "text": [
      "The shape of this data set: (699L, 9L)\n",
      "# of test instances:  665\n"
     ]
    }
   ],
   "source": [
    "# Loading the data and splitting the train, test\n",
    "\n",
    "X = np.loadtxt(file_path, dtype=float, delimiter=\",\", skiprows=1, \\\n",
    "                   usecols=read_cols)\n",
    "y = np.loadtxt(file_path, dtype=int, delimiter=\",\", skiprows=1, \\\n",
    "                   usecols=(class_index,), converters={class_index: lambda x: classes.index(x)})\n",
    "\n",
    "num_inst, num_feat = np.shape(X)\n",
    "print \"The shape of this data set:\",np.shape(X)\n",
    "\n",
    "ss = ShuffleSplit(num_inst, n_iter=1, test_size=0.95, random_state=42)\n",
    "\n",
    "for i, j in ss:\n",
    "    train_index = i \n",
    "    test_index = j\n",
    "    \n",
    "y_train = y[train_index]\n",
    "y_test = y[test_index]\n",
    "\n",
    "print \"# of test instances: \",len(y_test)"
   ]
  },
  {
   "cell_type": "code",
   "execution_count": 9,
   "metadata": {
    "collapsed": true
   },
   "outputs": [],
   "source": [
    "# Determine binary features\n",
    "num_features = X.shape[1]\n",
    "non_binary = []\n",
    "binary = []\n",
    "for i in range(num_features):\n",
    "    if len(np.unique(X[:,i])) != 2:\n",
    "        non_binary.append(i)\n",
    "    else:\n",
    "        binary.append(i)"
   ]
  },
  {
   "cell_type": "code",
   "execution_count": 10,
   "metadata": {
    "collapsed": false
   },
   "outputs": [
    {
     "name": "stdout",
     "output_type": "stream",
     "text": [
      "IG Scale for non_binary features -- Train\n",
      "IG Scale for non_binary features -- Test\n"
     ]
    }
   ],
   "source": [
    "# Original features\n",
    "X_original = np.copy(X)\n",
    "\n",
    "X_train_ori = X_original[train_index]\n",
    "X_test_ori = X_original[test_index]\n",
    "\n",
    "# Standard scale non binary features\n",
    "X_ss = np.copy(X)\n",
    "\n",
    "if len(non_binary) > 0:\n",
    "    X_ss[:,non_binary]=scale(X[:,non_binary])\n",
    "    \n",
    "if len(binary) > 0: \n",
    "    print \"binary features exist\"\n",
    "    X_b = X_ss[:,binary]\n",
    "    X_b[X_b == 0] = -1\n",
    "    X_ss[:,binary] = X_b\n",
    "    \n",
    "X_train_ss = X_ss[train_index]\n",
    "X_test_ss = X_ss[test_index]\n",
    "\n",
    "# Information gain scaling non binary features\n",
    "\n",
    "X_ig = np.copy(X_original)\n",
    "scale_ = decision_tree_scale()\n",
    "\n",
    "X_train_ig = X_ig[train_index]\n",
    "X_test_ig = X_ig[test_index]\n",
    "\n",
    "if len(non_binary) > 0: \n",
    "    print \"IG Scale for non_binary features -- Train\"\n",
    "    X_train_ig[:,non_binary]=scale_.fit_transform(X_train_ig[:,non_binary], y_train)\n",
    "\n",
    "if len(binary) > 0: \n",
    "    \n",
    "    X_b = X_train_ig[:,binary]\n",
    "    X_b[X_b == 0] = -1\n",
    "    X_train_ig[:,binary] = X_b\n",
    "    \n",
    "if len(non_binary) > 0:\n",
    "    \n",
    "    print \"IG Scale for non_binary features -- Test\"\n",
    "    X_test_ig[:,non_binary]=scale_.transform(X_test_ig[:,non_binary])\n",
    "    \n",
    "if len(binary) > 0:\n",
    "    print \"binary features exist\"\n",
    "    X_b = X_test_ig[:,binary]\n",
    "    X_b[X_b == 0] = -1\n",
    "    X_test_ig[:,binary] = X_b"
   ]
  },
  {
   "cell_type": "code",
   "execution_count": 11,
   "metadata": {
    "collapsed": false
   },
   "outputs": [
    {
     "data": {
      "text/html": [
       "<table border=\"1\" cellpadding=\"3\" cellspacing=\"0\"  style=\"border:1px solid black;border-collapse:collapse;\"><tr><td>Features</td><td>mean</td><td>splitting</td><td>#&nbspof&nbsptrain</td><td>#&nbspof&nbsptest</td><td>#&nbspof&nbsptotal</td></tr><tr><td>Clump_Thickness</td><td>4.42</td><td>6.5</td><td>10</td><td>154</td><td>164</td></tr><tr><td>Cell_Size_Uniformity</td><td>3.13</td><td>3.5</td><td>0</td><td>0</td><td>0</td></tr><tr><td>Cell_Shape_Uniformity</td><td>3.21</td><td>4.0</td><td>0</td><td>0</td><td>0</td></tr><tr><td>Marginal_Adhesion</td><td>2.81</td><td>1.5</td><td>3</td><td>55</td><td>58</td></tr><tr><td>Single_Epi_Cell_Size</td><td>3.22</td><td>2.5</td><td>6</td><td>66</td><td>72</td></tr><tr><td>Bare_Nuclei</td><td>3.54</td><td>1.5</td><td>3</td><td>55</td><td>58</td></tr><tr><td>Bland_Chromatin</td><td>3.44</td><td>3.5</td><td>0</td><td>0</td><td>0</td></tr><tr><td>Normal_Nucleoli</td><td>2.87</td><td>5.5</td><td>2</td><td>79</td><td>81</td></tr><tr><td>Mitoses</td><td>1.59</td><td>3.5</td><td>6</td><td>62</td><td>68</td></tr></table>"
      ],
      "text/plain": [
       "<ipy_table.IpyTable at 0x184cff60>"
      ]
     },
     "metadata": {},
     "output_type": "display_data"
    }
   ],
   "source": [
    "mean_feature_ss = np.mean(X, axis=0)\n",
    "split_feature_ig = scale_.mns\n",
    "\n",
    "mean_X = np.zeros((num_feat, ))\n",
    "split_X = np.zeros((num_feat, ))\n",
    "\n",
    "mean_X[non_binary] = mean_feature_ss\n",
    "mean_X[binary] = 0\n",
    "\n",
    "split_X[non_binary] = split_feature_ig\n",
    "split_X[binary] = 0 \n",
    "\n",
    "num_train = get_num_instances(X_train_ori, mean_X , split_X)\n",
    "num_test = get_num_instances(X_test_ori, mean_X , split_X)\n",
    "num_all = get_num_instances(X, mean_X , split_X)\n",
    "\n",
    "\n",
    "mean = np.around(mean_X, decimals=2)\n",
    "splitting = np.around(split_X, decimals=2)\n",
    "\n",
    "\n",
    "table1_header = [['Features', 'mean', 'splitting', '# of train', '# of test', '# of total']]\n",
    "\n",
    "result1 = np.array([header[:class_index].tolist(), mean.tolist(), splitting.tolist(), num_train, num_test, num_all])\n",
    "result1 = combine_table(table1_header,result1.T)\n",
    "\n",
    "\n",
    "display(make_table(result1))"
   ]
  },
  {
   "cell_type": "code",
   "execution_count": 12,
   "metadata": {
    "collapsed": false
   },
   "outputs": [
    {
     "data": {
      "text/plain": [
       "TransparentLogisticRegression(C=1.0, class_weight=None, dual=False,\n",
       "               fit_intercept=True, intercept_scaling=1, max_iter=100,\n",
       "               multi_class='ovr', n_jobs=1, penalty='l2',\n",
       "               random_state=None, solver='liblinear', tol=0.0001,\n",
       "               verbose=0, warm_start=False)"
      ]
     },
     "execution_count": 12,
     "metadata": {},
     "output_type": "execute_result"
    }
   ],
   "source": [
    "# fit train instances for each classifier\n",
    "\n",
    "clf_ori = TransparentLogisticRegression()\n",
    "clf_ss = TransparentLogisticRegression()\n",
    "clf_ig = TransparentLogisticRegression()\n",
    "\n",
    "clf_ori.fit(X_train_ori, y_train)\n",
    "clf_ss.fit(X_train_ss, y_train)\n",
    "clf_ig.fit(X_train_ig, y_train)"
   ]
  },
  {
   "cell_type": "code",
   "execution_count": 13,
   "metadata": {
    "collapsed": false
   },
   "outputs": [
    {
     "name": "stdout",
     "output_type": "stream",
     "text": [
      "0.896240601504\n",
      "0.962406015038\n",
      "0.962406015038\n"
     ]
    }
   ],
   "source": [
    "y_predict_ori = clf_ori.predict(X_test_ori)\n",
    "y_pred_prob_ori = clf_ori.predict_proba(X_test_ori)\n",
    "neg_evi_ori, pos_evi_ori = clf_ori.predict_evidences(X_test_ori)\n",
    "\n",
    "y_predict_ss = clf_ss.predict(X_test_ss)\n",
    "y_pred_prob_ss = clf_ss.predict_proba(X_test_ss)\n",
    "neg_evi_ss, pos_evi_ss = clf_ss.predict_evidences(X_test_ss)\n",
    "\n",
    "y_predict_ig = clf_ig.predict(X_test_ig)\n",
    "y_pred_prob_ig = clf_ig.predict_proba(X_test_ig)\n",
    "neg_evi_ig, pos_evi_ig = clf_ig.predict_evidences(X_test_ig)\n",
    "\n",
    "print accuracy_score(y_test,y_predict_ori)\n",
    "print accuracy_score(y_test,y_predict_ss)\n",
    "print accuracy_score(y_test,y_predict_ig)"
   ]
  },
  {
   "cell_type": "code",
   "execution_count": 14,
   "metadata": {
    "collapsed": false
   },
   "outputs": [
    {
     "data": {
      "text/html": [
       "<table border=\"1\" cellpadding=\"3\" cellspacing=\"0\"  style=\"border:1px solid black;border-collapse:collapse;\"><tr><td>Features</td><td>ori_weight</td><td>ss_weight</td><td>ig_weight</td></tr><tr><td>Bias</td><td>-1.74</td><td>-0.66</td><td>-0.27</td></tr><tr><td>Clump_Thickness</td><td>-0.55</td><td>0.41</td><td>0.67</td></tr><tr><td>Cell_Size_Uniformity</td><td>0.84</td><td>0.64</td><td>0.62</td></tr><tr><td>Cell_Shape_Uniformity</td><td>0.05</td><td>0.77</td><td>0.82</td></tr><tr><td>Marginal_Adhesion</td><td>0.11</td><td>0.19</td><td>0.11</td></tr><tr><td>Single_Epi_Cell_Size</td><td>-0.12</td><td>0.81</td><td>0.8</td></tr><tr><td>Bare_Nuclei</td><td>0.33</td><td>0.5</td><td>0.52</td></tr><tr><td>Bland_Chromatin</td><td>0.4</td><td>0.93</td><td>0.97</td></tr><tr><td>Normal_Nucleoli</td><td>0.11</td><td>0.25</td><td>0.36</td></tr><tr><td>Mitoses</td><td>-0.6</td><td>-0.11</td><td>0.16</td></tr></table>"
      ],
      "text/plain": [
       "<ipy_table.IpyTable at 0x184cfa58>"
      ]
     },
     "execution_count": 14,
     "metadata": {},
     "output_type": "execute_result"
    }
   ],
   "source": [
    "ori_weight = list(clf_ori.intercept_)+ clf_ori.coef_[0].tolist()\n",
    "ss_weight = list(clf_ss.intercept_)+ clf_ss.coef_[0].tolist()\n",
    "ig_weight = list(clf_ig.intercept_)+ clf_ig.coef_[0].tolist()\n",
    "\n",
    "ori_weight = np.around(ori_weight, decimals=2)\n",
    "ss_weight = np.around(ss_weight, decimals=2)\n",
    "ig_weight = np.around(ig_weight, decimals=2)\n",
    "\n",
    "\n",
    "table2_header = [['Features', 'ori_weight', 'ss_weight', 'ig_weight']]\n",
    "features = ['Bias']\n",
    "features.extend(header[:class_index].tolist())\n",
    "table2 = np.array([features, ori_weight, ss_weight, ig_weight])\n",
    "\n",
    "result2 = combine_table(table2_header,table2.T)\n",
    "\n",
    "make_table(result2)"
   ]
  },
  {
   "cell_type": "code",
   "execution_count": 15,
   "metadata": {
    "collapsed": false
   },
   "outputs": [],
   "source": [
    "diff_decision = y_predict_ss - y_predict_ig\n",
    "\n",
    "diff_proba = abs(y_pred_prob_ss[:,0] - y_pred_prob_ig[:,0])\n",
    "\n",
    "# print len(np.where(diff_decision!=0)[0])\n",
    "# print diff_proba"
   ]
  },
  {
   "cell_type": "code",
   "execution_count": 16,
   "metadata": {
    "collapsed": false,
    "scrolled": false
   },
   "outputs": [
    {
     "name": "stdout",
     "output_type": "stream",
     "text": [
      "This is feature  Clump_Thickness\n",
      "This is the instances that IG and SS made different decisions between mean and splitting. \n",
      "The # of the instances is  1\n",
      "The actual label of following instance is  0\n"
     ]
    },
    {
     "data": {
      "text/html": [
       "<table border=\"1\" cellpadding=\"3\" cellspacing=\"0\"  style=\"border:1px solid black;border-collapse:collapse;\"><tr><td>Features</td><td>Ori_value</td><td>ss_value</td><td>ig_value</td><td>w&nbsp*&nbspv_ori</td><td>w&nbsp*&nbspv_ss</td><td>w&nbsp*&nbspv_ig</td></tr><tr><td>Clump_Thickness</td><td>6.0</td><td>0.56</td><td>-0.17</td><td>-3.32</td><td>0.23</td><td>-0.11</td></tr><tr><td>Cell_Size_Uniformity</td><td>3.0</td><td>-0.04</td><td>-0.16</td><td>2.52</td><td>-0.03</td><td>-0.1</td></tr><tr><td>Cell_Shape_Uniformity</td><td>3.0</td><td>-0.07</td><td>-0.32</td><td>0.16</td><td>-0.05</td><td>-0.26</td></tr><tr><td>Marginal_Adhesion</td><td>3.0</td><td>0.07</td><td>0.41</td><td>0.34</td><td>0.01</td><td>0.04</td></tr><tr><td>Single_Epi_Cell_Size</td><td>3.0</td><td>-0.1</td><td>0.22</td><td>-0.37</td><td>-0.08</td><td>0.18</td></tr><tr><td>Bare_Nuclei</td><td>2.0</td><td>-0.43</td><td>0.09</td><td>0.67</td><td>-0.22</td><td>0.05</td></tr><tr><td>Bland_Chromatin</td><td>6.0</td><td>1.05</td><td>0.98</td><td>2.4</td><td>0.98</td><td>0.95</td></tr><tr><td>Normal_Nucleoli</td><td>1.0</td><td>-0.61</td><td>-1.14</td><td>0.11</td><td>-0.15</td><td>-0.41</td></tr><tr><td>Mitoses</td><td>1.0</td><td>-0.34</td><td>-1.03</td><td>-0.6</td><td>0.04</td><td>-0.16</td></tr><tr><td>Bias</td><td>-1.74</td><td>-0.66</td><td>-0.27</td><td>None</td><td>None</td><td>None</td></tr><tr><td>Neg_evi</td><td>-6.04</td><td>-1.18</td><td>-1.32</td><td>None</td><td>None</td><td>None</td></tr><tr><td>Pos_evi</td><td>6.21</td><td>1.26</td><td>1.22</td><td>None</td><td>None</td><td>None</td></tr><tr><td>Proba</td><td>[&nbsp0.457&nbsp&nbsp0.543]</td><td>[&nbsp0.48&nbsp&nbsp0.52]</td><td>[&nbsp0.523&nbsp&nbsp0.477]</td><td>None</td><td>None</td><td>None</td></tr></table>"
      ],
      "text/plain": [
       "<ipy_table.IpyTable at 0x18479128>"
      ]
     },
     "metadata": {},
     "output_type": "display_data"
    },
    {
     "name": "stdout",
     "output_type": "stream",
     "text": [
      "The most difference of probability between mean and splitting is following: \n",
      "The most difference of probability is  0.170628888321\n"
     ]
    },
    {
     "data": {
      "text/html": [
       "<table border=\"1\" cellpadding=\"3\" cellspacing=\"0\"  style=\"border:1px solid black;border-collapse:collapse;\"><tr><td>Features</td><td>Ori_value</td><td>ss_value</td><td>ig_value</td><td>w&nbsp*&nbspv_ori</td><td>w&nbsp*&nbspv_ss</td><td>w&nbsp*&nbspv_ig</td></tr><tr><td>Clump_Thickness</td><td>5.0</td><td>0.21</td><td>-0.5</td><td>-2.77</td><td>0.09</td><td>-0.33</td></tr><tr><td>Cell_Size_Uniformity</td><td>4.0</td><td>0.28</td><td>0.16</td><td>3.36</td><td>0.18</td><td>0.1</td></tr><tr><td>Cell_Shape_Uniformity</td><td>6.0</td><td>0.94</td><td>0.64</td><td>0.33</td><td>0.72</td><td>0.52</td></tr><tr><td>Marginal_Adhesion</td><td>10.0</td><td>2.52</td><td>2.35</td><td>1.14</td><td>0.49</td><td>0.25</td></tr><tr><td>Single_Epi_Cell_Size</td><td>2.0</td><td>-0.55</td><td>-0.22</td><td>-0.24</td><td>-0.44</td><td>-0.18</td></tr><tr><td>Bare_Nuclei</td><td>10.0</td><td>1.79</td><td>1.55</td><td>3.33</td><td>0.9</td><td>0.81</td></tr><tr><td>Bland_Chromatin</td><td>4.0</td><td>0.23</td><td>0.2</td><td>1.6</td><td>0.22</td><td>0.19</td></tr><tr><td>Normal_Nucleoli</td><td>1.0</td><td>-0.61</td><td>-1.14</td><td>0.11</td><td>-0.15</td><td>-0.41</td></tr><tr><td>Mitoses</td><td>1.0</td><td>-0.34</td><td>-1.03</td><td>-0.6</td><td>0.04</td><td>-0.16</td></tr><tr><td>Bias</td><td>-1.74</td><td>-0.66</td><td>-0.27</td><td>None</td><td>None</td><td>None</td></tr><tr><td>Neg_evi</td><td>-5.36</td><td>-1.25</td><td>-1.35</td><td>None</td><td>None</td><td>None</td></tr><tr><td>Pos_evi</td><td>9.87</td><td>2.64</td><td>1.88</td><td>None</td><td>None</td><td>None</td></tr><tr><td>Proba</td><td>[&nbsp0.011&nbsp&nbsp0.989]</td><td>[&nbsp0.2&nbsp&nbsp0.8]</td><td>[&nbsp0.371&nbsp&nbsp0.629]</td><td>None</td><td>None</td><td>None</td></tr></table>"
      ],
      "text/plain": [
       "<ipy_table.IpyTable at 0x18479828>"
      ]
     },
     "metadata": {},
     "output_type": "display_data"
    },
    {
     "name": "stdout",
     "output_type": "stream",
     "text": [
      "The acutal label is  1\n"
     ]
    }
   ],
   "source": [
    "# Clump_Thickness\n",
    "\n",
    "print \"This is feature \", header[0]\n",
    "\n",
    "current_feature = X_test_ori[:,0]\n",
    "\n",
    "num_feature1 = num_test[0]\n",
    "\n",
    "mean1 = mean[0]\n",
    "\n",
    "split1 = splitting[0]\n",
    "\n",
    "if num_feature1 == 0:\n",
    "    \n",
    "    print \"There is no instance between mean and splitting point.\"\n",
    "    \n",
    "else:\n",
    "\n",
    "    upper = max(mean1, split1)\n",
    "    lower = min(mean1, split1)\n",
    "    \n",
    "    index1 = np.where(np.logical_and(current_feature>lower, current_feature<upper))[0]\n",
    "    \n",
    "    diff_decision_interval = diff_decision[index1]\n",
    "    index1_different_decision = np.where(diff_decision_interval!=0)[0]\n",
    "    \n",
    "    if len(index1_different_decision)==0:\n",
    "        \n",
    "        print \"There is no different decision made by 2 classifiers.\"\n",
    "        \n",
    "    else:\n",
    "        \n",
    "        print \"This is the instances that IG and SS made different decisions between mean and splitting. \"\n",
    "        \n",
    "        print \"The # of the instances is \", len(index1_different_decision)\n",
    "        \n",
    "        for i in index1_different_decision:\n",
    "                      \n",
    "            temp_instance = instance(header[:class_index],X_test_ori[index1[i]], \n",
    "                                               X_test_ss[index1[i]], X_test_ig[index1[i]], \n",
    "                                               clf_ori, clf_ss, clf_ig)\n",
    "            temp_table = temp_instance.get_information()\n",
    "            print \"The actual label of following instance is \", y_test[index1[i]]\n",
    "            display(temp_table)\n",
    "    \n",
    "# The most differentce of probability between 2 classifiers.\n",
    "\n",
    "    print \"The most difference of probability between mean and splitting is following: \"\n",
    "    \n",
    "    proba_diff_interval = diff_proba[index1]\n",
    "    \n",
    "    most_diff_prob_index = np.argmax(proba_diff_interval)\n",
    "    \n",
    "    print \"The most difference of probability is \", diff_proba[index1[most_diff_prob_index]]\n",
    "    \n",
    "    most_diff_prob_instance = instance(header[:class_index],X_test_ori[index1[most_diff_prob_index]], X_test_ss[index1[most_diff_prob_index]],\n",
    "                                     X_test_ig[index1[most_diff_prob_index]], clf_ori, clf_ss, clf_ig)\n",
    "    most_diff_prob_instance_table = most_diff_prob_instance.get_information()\n",
    "    \n",
    "    display(most_diff_prob_instance_table)\n",
    "    \n",
    "    print \"The acutal label is \", y_test[index1[most_diff_prob_index]]"
   ]
  },
  {
   "cell_type": "code",
   "execution_count": 17,
   "metadata": {
    "collapsed": false
   },
   "outputs": [
    {
     "name": "stdout",
     "output_type": "stream",
     "text": [
      "This is feature  Cell_Size_Uniformity\n",
      "There is no instance between mean and splitting point.\n"
     ]
    }
   ],
   "source": [
    "# Cell_Size_Uniformity\n",
    "\n",
    "print \"This is feature \", header[1]\n",
    "current_feature = X_test_ori[:,1]\n",
    "\n",
    "num_feature1 = num_test[1]\n",
    "\n",
    "mean1 = mean[1]\n",
    "\n",
    "split1 = splitting[1]\n",
    "\n",
    "if num_feature1 == 0:\n",
    "    \n",
    "    print \"There is no instance between mean and splitting point.\"\n",
    "    \n",
    "else:\n",
    "\n",
    "    upper = max(mean1, split1)\n",
    "    lower = min(mean1, split1)\n",
    "    \n",
    "    index1 = np.where(np.logical_and(current_feature>lower, current_feature<upper))[0]\n",
    "    \n",
    "    diff_decision_interval = diff_decision[index1]\n",
    "    \n",
    "    index1_different_decision = np.where(diff_decision_interval!=0)[0]\n",
    "    \n",
    "    if len(index1_different_decision)==0:\n",
    "        print \"There is no different decision made by 2 classifiers.\"\n",
    "    else:\n",
    "        \n",
    "        print \"This is the instances that IG and SS made different decisions between mean and splitting. \"\n",
    "        \n",
    "        for i in index1_different_decision:\n",
    "            \n",
    "            print len(index1_different_decision)\n",
    "            \n",
    "            temp_instance = instance(header[:class_index],X_test_ori[index1[i]], \n",
    "                                               X_test_ss[index1[i]], X_test_ig[index1[i]], \n",
    "                                               clf_ori, clf_ss, clf_ig)\n",
    "            temp_table = temp_instance.get_information()\n",
    "            print \"The actual label of following instance is \", y_test[index1[i]]\n",
    "            display(temp_table)\n",
    "    \n",
    "# The most differentce of probability between 2 classifiers.\n",
    "    print \"The most difference of probability between mean and splitting is following: \"\n",
    "    proba_diff_interval = diff_proba[index1]\n",
    "    \n",
    "    most_diff_prob_index = np.argmax(proba_diff_interval)\n",
    "    \n",
    "    print \"The most difference of probability is \", diff_proba[index1[most_diff_prob_index]]\n",
    "    \n",
    "    most_diff_prob_instance = instance(header[:class_index],X_test_ori[index1[most_diff_prob_index]], X_test_ss[index1[most_diff_prob_index]],\n",
    "                                     X_test_ig[index1[most_diff_prob_index]], clf_ori, clf_ss, clf_ig)\n",
    "    most_diff_prob_instance_table = most_diff_prob_instance.get_information()\n",
    "    \n",
    "    display(most_diff_prob_instance_table)\n",
    "    \n",
    "    print \"The acutal label is \", y_test[index1[most_diff_prob_index]]"
   ]
  },
  {
   "cell_type": "code",
   "execution_count": 18,
   "metadata": {
    "collapsed": false
   },
   "outputs": [
    {
     "name": "stdout",
     "output_type": "stream",
     "text": [
      "This is feature  Cell_Shape_Uniformity\n",
      "There is no instance between mean and splitting point.\n"
     ]
    }
   ],
   "source": [
    "# Cell_Shape_Uniformity\n",
    "\n",
    "print \"This is feature \", header[2]\n",
    "current_feature = X_test_ori[:,2]\n",
    "\n",
    "num_feature1 = num_test[2]\n",
    "mean1 = mean[2]\n",
    "split1 = splitting[2]\n",
    "\n",
    "if num_feature1 == 0:\n",
    "    \n",
    "    print \"There is no instance between mean and splitting point.\"\n",
    "    \n",
    "else:\n",
    "\n",
    "    upper = max(mean1, split1)\n",
    "    lower = min(mean1, split1)\n",
    "    \n",
    "    index1 = np.where(np.logical_and(current_feature>lower, current_feature<upper))[0]\n",
    "    \n",
    "    diff_decision_interval = diff_decision[index1]\n",
    "    \n",
    "    index1_different_decision = np.where(diff_decision_interval!=0)[0]\n",
    "    \n",
    "    if len(index1_different_decision)==0:\n",
    "        print \"There is no different decision made by 2 classifiers.\"\n",
    "    else:\n",
    "        \n",
    "        print \"This is the instances that IG and SS made different decisions between mean and splitting. \"\n",
    "        \n",
    "        for i in index1_different_decision:\n",
    "            \n",
    "            print len(index1_different_decision)\n",
    "            \n",
    "            temp_instance = instance(header[:class_index],X_test_ori[index1[i]], \n",
    "                                               X_test_ss[index1[i]], X_test_ig[index1[i]], \n",
    "                                               clf_ori, clf_ss, clf_ig)\n",
    "            temp_table = temp_instance.get_information()\n",
    "            print \"The actual label of following instance is \", y_test[index1[i]]\n",
    "            display(temp_table)\n",
    "    \n",
    "# The most differentce of probability between 2 classifiers.\n",
    "    print \"The most difference of probability between mean and splitting is following: \"\n",
    "    proba_diff_interval = diff_proba[index1]\n",
    "    \n",
    "    most_diff_prob_index = np.argmax(proba_diff_interval)\n",
    "    \n",
    "    print \"The most difference of probability is \", diff_proba[index1[most_diff_prob_index]]\n",
    "    \n",
    "    most_diff_prob_instance = instance(header[:class_index],X_test_ori[index1[most_diff_prob_index]], X_test_ss[index1[most_diff_prob_index]],\n",
    "                                     X_test_ig[index1[most_diff_prob_index]], clf_ori, clf_ss, clf_ig)\n",
    "    most_diff_prob_instance_table = most_diff_prob_instance.get_information()\n",
    "    \n",
    "    display(most_diff_prob_instance_table)\n",
    "    \n",
    "    print \"The acutal label is \", y_test[index1[most_diff_prob_index]]\n"
   ]
  },
  {
   "cell_type": "code",
   "execution_count": 19,
   "metadata": {
    "collapsed": false
   },
   "outputs": [
    {
     "name": "stdout",
     "output_type": "stream",
     "text": [
      "This is feature  Marginal_Adhesion\n",
      "There is no different decision made by 2 classifiers.\n",
      "The most difference of probability between mean and splitting is following: \n",
      "The most difference of probability is  0.12341413856\n"
     ]
    },
    {
     "data": {
      "text/html": [
       "<table border=\"1\" cellpadding=\"3\" cellspacing=\"0\"  style=\"border:1px solid black;border-collapse:collapse;\"><tr><td>Features</td><td>Ori_value</td><td>ss_value</td><td>ig_value</td><td>w&nbsp*&nbspv_ori</td><td>w&nbsp*&nbspv_ss</td><td>w&nbsp*&nbspv_ig</td></tr><tr><td>Clump_Thickness</td><td>3.0</td><td>-0.5</td><td>-1.16</td><td>-1.66</td><td>-0.21</td><td>-0.77</td></tr><tr><td>Cell_Size_Uniformity</td><td>3.0</td><td>-0.04</td><td>-0.16</td><td>2.52</td><td>-0.03</td><td>-0.1</td></tr><tr><td>Cell_Shape_Uniformity</td><td>5.0</td><td>0.6</td><td>0.32</td><td>0.27</td><td>0.46</td><td>0.26</td></tr><tr><td>Marginal_Adhesion</td><td>2.0</td><td>-0.28</td><td>0.14</td><td>0.23</td><td>-0.05</td><td>0.01</td></tr><tr><td>Single_Epi_Cell_Size</td><td>3.0</td><td>-0.1</td><td>0.22</td><td>-0.37</td><td>-0.08</td><td>0.18</td></tr><tr><td>Bare_Nuclei</td><td>10.0</td><td>1.79</td><td>1.55</td><td>3.33</td><td>0.9</td><td>0.81</td></tr><tr><td>Bland_Chromatin</td><td>7.0</td><td>1.46</td><td>1.37</td><td>2.8</td><td>1.36</td><td>1.34</td></tr><tr><td>Normal_Nucleoli</td><td>1.0</td><td>-0.61</td><td>-1.14</td><td>0.11</td><td>-0.15</td><td>-0.41</td></tr><tr><td>Mitoses</td><td>1.0</td><td>-0.34</td><td>-1.03</td><td>-0.6</td><td>0.04</td><td>-0.16</td></tr><tr><td>Bias</td><td>-1.74</td><td>-0.66</td><td>-0.27</td><td>None</td><td>None</td><td>None</td></tr><tr><td>Neg_evi</td><td>-4.37</td><td>-1.18</td><td>-1.72</td><td>None</td><td>None</td><td>None</td></tr><tr><td>Pos_evi</td><td>9.27</td><td>2.77</td><td>2.6</td><td>None</td><td>None</td><td>None</td></tr><tr><td>Proba</td><td>[&nbsp0.007&nbsp&nbsp0.993]</td><td>[&nbsp0.169&nbsp&nbsp0.831]</td><td>[&nbsp0.292&nbsp&nbsp0.708]</td><td>None</td><td>None</td><td>None</td></tr></table>"
      ],
      "text/plain": [
       "<ipy_table.IpyTable at 0x3ee0550>"
      ]
     },
     "metadata": {},
     "output_type": "display_data"
    },
    {
     "name": "stdout",
     "output_type": "stream",
     "text": [
      "The acutal label is  1\n"
     ]
    }
   ],
   "source": [
    "# Marginal_Adhesion\n",
    "print \"This is feature \", header[3]\n",
    "current_feature = X_test_ori[:,3]\n",
    "\n",
    "num_feature1 = num_test[3]\n",
    "\n",
    "mean1 = mean[3]\n",
    "\n",
    "split1 = splitting[3]\n",
    "\n",
    "if num_feature1 == 0:\n",
    "    \n",
    "    print \"There is no instance between mean and splitting point.\"\n",
    "    \n",
    "else:\n",
    "\n",
    "    upper = max(mean1, split1)\n",
    "    lower = min(mean1, split1)\n",
    "    \n",
    "    index1 = np.where(np.logical_and(current_feature>lower, current_feature<upper))[0]\n",
    "    \n",
    "    diff_decision_interval = diff_decision[index1]\n",
    "    \n",
    "    index1_different_decision = np.where(diff_decision_interval!=0)[0]\n",
    "    \n",
    "    if len(index1_different_decision)==0:\n",
    "        print \"There is no different decision made by 2 classifiers.\"\n",
    "    else:\n",
    "        \n",
    "        print \"This is the instances that IG and SS made different decisions between mean and splitting. \"\n",
    "        \n",
    "        for i in index1_different_decision:\n",
    "            \n",
    "            print len(index1_different_decision)\n",
    "            \n",
    "            temp_instance = instance(header[:class_index],X_test_ori[index1[i]], \n",
    "                                               X_test_ss[index1[i]], X_test_ig[index1[i]], \n",
    "                                               clf_ori, clf_ss, clf_ig)\n",
    "            temp_table = temp_instance.get_information()\n",
    "            print \"The actual label of following instance is \", y_test[index1[i]]\n",
    "            display(temp_table)\n",
    "    \n",
    "# The most differentce of probability between 2 classifiers.\n",
    "    print \"The most difference of probability between mean and splitting is following: \"\n",
    "    proba_diff_interval = diff_proba[index1]\n",
    "    \n",
    "    most_diff_prob_index = np.argmax(proba_diff_interval)\n",
    "    \n",
    "    print \"The most difference of probability is \", diff_proba[index1[most_diff_prob_index]]\n",
    "    \n",
    "    most_diff_prob_instance = instance(header[:class_index],X_test_ori[index1[most_diff_prob_index]], X_test_ss[index1[most_diff_prob_index]],\n",
    "                                     X_test_ig[index1[most_diff_prob_index]], clf_ori, clf_ss, clf_ig)\n",
    "    most_diff_prob_instance_table = most_diff_prob_instance.get_information()\n",
    "    \n",
    "    display(most_diff_prob_instance_table)\n",
    "    \n",
    "    print \"The acutal label is \", y_test[index1[most_diff_prob_index]]"
   ]
  },
  {
   "cell_type": "code",
   "execution_count": 20,
   "metadata": {
    "collapsed": false
   },
   "outputs": [
    {
     "name": "stdout",
     "output_type": "stream",
     "text": [
      "This is feature  Single_Epi_Cell_Size\n",
      "This is the instances that IG and SS made different decisions between mean and splitting. \n",
      "3\n",
      "The actual label of following instance is  1\n"
     ]
    },
    {
     "data": {
      "text/html": [
       "<table border=\"1\" cellpadding=\"3\" cellspacing=\"0\"  style=\"border:1px solid black;border-collapse:collapse;\"><tr><td>Features</td><td>Ori_value</td><td>ss_value</td><td>ig_value</td><td>w&nbsp*&nbspv_ori</td><td>w&nbsp*&nbspv_ss</td><td>w&nbsp*&nbspv_ig</td></tr><tr><td>Clump_Thickness</td><td>10.0</td><td>1.98</td><td>1.16</td><td>-5.54</td><td>0.82</td><td>0.77</td></tr><tr><td>Cell_Size_Uniformity</td><td>4.0</td><td>0.28</td><td>0.16</td><td>3.36</td><td>0.18</td><td>0.1</td></tr><tr><td>Cell_Shape_Uniformity</td><td>2.0</td><td>-0.41</td><td>-0.64</td><td>0.11</td><td>-0.31</td><td>-0.52</td></tr><tr><td>Marginal_Adhesion</td><td>1.0</td><td>-0.63</td><td>-0.14</td><td>0.11</td><td>-0.12</td><td>-0.01</td></tr><tr><td>Single_Epi_Cell_Size</td><td>3.0</td><td>-0.1</td><td>0.22</td><td>-0.37</td><td>-0.08</td><td>0.18</td></tr><tr><td>Bare_Nuclei</td><td>2.0</td><td>-0.43</td><td>0.09</td><td>0.67</td><td>-0.22</td><td>0.05</td></tr><tr><td>Bland_Chromatin</td><td>4.0</td><td>0.23</td><td>0.2</td><td>1.6</td><td>0.22</td><td>0.19</td></tr><tr><td>Normal_Nucleoli</td><td>3.0</td><td>0.04</td><td>-0.63</td><td>0.33</td><td>0.01</td><td>-0.23</td></tr><tr><td>Mitoses</td><td>10.0</td><td>4.91</td><td>2.69</td><td>-6.03</td><td>-0.55</td><td>0.43</td></tr><tr><td>Bias</td><td>-1.74</td><td>-0.66</td><td>-0.27</td><td>None</td><td>None</td><td>None</td></tr><tr><td>Neg_evi</td><td>-13.68</td><td>-1.94</td><td>-1.03</td><td>None</td><td>None</td><td>None</td></tr><tr><td>Pos_evi</td><td>6.18</td><td>1.23</td><td>1.72</td><td>None</td><td>None</td><td>None</td></tr><tr><td>Proba</td><td>[&nbsp0.999&nbsp&nbsp0.001]</td><td>[&nbsp0.67&nbsp&nbsp0.33]</td><td>[&nbsp0.335&nbsp&nbsp0.665]</td><td>None</td><td>None</td><td>None</td></tr></table>"
      ],
      "text/plain": [
       "<ipy_table.IpyTable at 0x184d22b0>"
      ]
     },
     "metadata": {},
     "output_type": "display_data"
    },
    {
     "name": "stdout",
     "output_type": "stream",
     "text": [
      "3\n",
      "The actual label of following instance is  1\n"
     ]
    },
    {
     "data": {
      "text/html": [
       "<table border=\"1\" cellpadding=\"3\" cellspacing=\"0\"  style=\"border:1px solid black;border-collapse:collapse;\"><tr><td>Features</td><td>Ori_value</td><td>ss_value</td><td>ig_value</td><td>w&nbsp*&nbspv_ori</td><td>w&nbsp*&nbspv_ss</td><td>w&nbsp*&nbspv_ig</td></tr><tr><td>Clump_Thickness</td><td>3.0</td><td>-0.5</td><td>-1.16</td><td>-1.66</td><td>-0.21</td><td>-0.77</td></tr><tr><td>Cell_Size_Uniformity</td><td>6.0</td><td>0.94</td><td>0.82</td><td>5.05</td><td>0.6</td><td>0.51</td></tr><tr><td>Cell_Shape_Uniformity</td><td>4.0</td><td>0.27</td><td>0.0</td><td>0.22</td><td>0.2</td><td>0.0</td></tr><tr><td>Marginal_Adhesion</td><td>10.0</td><td>2.52</td><td>2.35</td><td>1.14</td><td>0.49</td><td>0.25</td></tr><tr><td>Single_Epi_Cell_Size</td><td>3.0</td><td>-0.1</td><td>0.22</td><td>-0.37</td><td>-0.08</td><td>0.18</td></tr><tr><td>Bare_Nuclei</td><td>3.0</td><td>-0.15</td><td>0.27</td><td>1.0</td><td>-0.08</td><td>0.14</td></tr><tr><td>Bland_Chromatin</td><td>3.0</td><td>-0.18</td><td>-0.2</td><td>1.2</td><td>-0.17</td><td>-0.19</td></tr><tr><td>Normal_Nucleoli</td><td>4.0</td><td>0.37</td><td>-0.38</td><td>0.43</td><td>0.09</td><td>-0.14</td></tr><tr><td>Mitoses</td><td>1.0</td><td>-0.34</td><td>-1.03</td><td>-0.6</td><td>0.04</td><td>-0.16</td></tr><tr><td>Bias</td><td>-1.74</td><td>-0.66</td><td>-0.27</td><td>None</td><td>None</td><td>None</td></tr><tr><td>Neg_evi</td><td>-4.37</td><td>-1.19</td><td>-1.53</td><td>None</td><td>None</td><td>None</td></tr><tr><td>Pos_evi</td><td>9.04</td><td>1.43</td><td>1.08</td><td>None</td><td>None</td><td>None</td></tr><tr><td>Proba</td><td>[&nbsp0.009&nbsp&nbsp0.991]</td><td>[&nbsp0.439&nbsp&nbsp0.561]</td><td>[&nbsp0.612&nbsp&nbsp0.388]</td><td>None</td><td>None</td><td>None</td></tr></table>"
      ],
      "text/plain": [
       "<ipy_table.IpyTable at 0x3f35470>"
      ]
     },
     "metadata": {},
     "output_type": "display_data"
    },
    {
     "name": "stdout",
     "output_type": "stream",
     "text": [
      "3\n",
      "The actual label of following instance is  0\n"
     ]
    },
    {
     "data": {
      "text/html": [
       "<table border=\"1\" cellpadding=\"3\" cellspacing=\"0\"  style=\"border:1px solid black;border-collapse:collapse;\"><tr><td>Features</td><td>Ori_value</td><td>ss_value</td><td>ig_value</td><td>w&nbsp*&nbspv_ori</td><td>w&nbsp*&nbspv_ss</td><td>w&nbsp*&nbspv_ig</td></tr><tr><td>Clump_Thickness</td><td>6.0</td><td>0.56</td><td>-0.17</td><td>-3.32</td><td>0.23</td><td>-0.11</td></tr><tr><td>Cell_Size_Uniformity</td><td>3.0</td><td>-0.04</td><td>-0.16</td><td>2.52</td><td>-0.03</td><td>-0.1</td></tr><tr><td>Cell_Shape_Uniformity</td><td>3.0</td><td>-0.07</td><td>-0.32</td><td>0.16</td><td>-0.05</td><td>-0.26</td></tr><tr><td>Marginal_Adhesion</td><td>3.0</td><td>0.07</td><td>0.41</td><td>0.34</td><td>0.01</td><td>0.04</td></tr><tr><td>Single_Epi_Cell_Size</td><td>3.0</td><td>-0.1</td><td>0.22</td><td>-0.37</td><td>-0.08</td><td>0.18</td></tr><tr><td>Bare_Nuclei</td><td>2.0</td><td>-0.43</td><td>0.09</td><td>0.67</td><td>-0.22</td><td>0.05</td></tr><tr><td>Bland_Chromatin</td><td>6.0</td><td>1.05</td><td>0.98</td><td>2.4</td><td>0.98</td><td>0.95</td></tr><tr><td>Normal_Nucleoli</td><td>1.0</td><td>-0.61</td><td>-1.14</td><td>0.11</td><td>-0.15</td><td>-0.41</td></tr><tr><td>Mitoses</td><td>1.0</td><td>-0.34</td><td>-1.03</td><td>-0.6</td><td>0.04</td><td>-0.16</td></tr><tr><td>Bias</td><td>-1.74</td><td>-0.66</td><td>-0.27</td><td>None</td><td>None</td><td>None</td></tr><tr><td>Neg_evi</td><td>-6.04</td><td>-1.18</td><td>-1.32</td><td>None</td><td>None</td><td>None</td></tr><tr><td>Pos_evi</td><td>6.21</td><td>1.26</td><td>1.22</td><td>None</td><td>None</td><td>None</td></tr><tr><td>Proba</td><td>[&nbsp0.457&nbsp&nbsp0.543]</td><td>[&nbsp0.48&nbsp&nbsp0.52]</td><td>[&nbsp0.523&nbsp&nbsp0.477]</td><td>None</td><td>None</td><td>None</td></tr></table>"
      ],
      "text/plain": [
       "<ipy_table.IpyTable at 0x18479128>"
      ]
     },
     "metadata": {},
     "output_type": "display_data"
    },
    {
     "name": "stdout",
     "output_type": "stream",
     "text": [
      "The most difference of probability between mean and splitting is following: \n",
      "The most difference of probability is  0.335179990581\n"
     ]
    },
    {
     "data": {
      "text/html": [
       "<table border=\"1\" cellpadding=\"3\" cellspacing=\"0\"  style=\"border:1px solid black;border-collapse:collapse;\"><tr><td>Features</td><td>Ori_value</td><td>ss_value</td><td>ig_value</td><td>w&nbsp*&nbspv_ori</td><td>w&nbsp*&nbspv_ss</td><td>w&nbsp*&nbspv_ig</td></tr><tr><td>Clump_Thickness</td><td>10.0</td><td>1.98</td><td>1.16</td><td>-5.54</td><td>0.82</td><td>0.77</td></tr><tr><td>Cell_Size_Uniformity</td><td>4.0</td><td>0.28</td><td>0.16</td><td>3.36</td><td>0.18</td><td>0.1</td></tr><tr><td>Cell_Shape_Uniformity</td><td>2.0</td><td>-0.41</td><td>-0.64</td><td>0.11</td><td>-0.31</td><td>-0.52</td></tr><tr><td>Marginal_Adhesion</td><td>1.0</td><td>-0.63</td><td>-0.14</td><td>0.11</td><td>-0.12</td><td>-0.01</td></tr><tr><td>Single_Epi_Cell_Size</td><td>3.0</td><td>-0.1</td><td>0.22</td><td>-0.37</td><td>-0.08</td><td>0.18</td></tr><tr><td>Bare_Nuclei</td><td>2.0</td><td>-0.43</td><td>0.09</td><td>0.67</td><td>-0.22</td><td>0.05</td></tr><tr><td>Bland_Chromatin</td><td>4.0</td><td>0.23</td><td>0.2</td><td>1.6</td><td>0.22</td><td>0.19</td></tr><tr><td>Normal_Nucleoli</td><td>3.0</td><td>0.04</td><td>-0.63</td><td>0.33</td><td>0.01</td><td>-0.23</td></tr><tr><td>Mitoses</td><td>10.0</td><td>4.91</td><td>2.69</td><td>-6.03</td><td>-0.55</td><td>0.43</td></tr><tr><td>Bias</td><td>-1.74</td><td>-0.66</td><td>-0.27</td><td>None</td><td>None</td><td>None</td></tr><tr><td>Neg_evi</td><td>-13.68</td><td>-1.94</td><td>-1.03</td><td>None</td><td>None</td><td>None</td></tr><tr><td>Pos_evi</td><td>6.18</td><td>1.23</td><td>1.72</td><td>None</td><td>None</td><td>None</td></tr><tr><td>Proba</td><td>[&nbsp0.999&nbsp&nbsp0.001]</td><td>[&nbsp0.67&nbsp&nbsp0.33]</td><td>[&nbsp0.335&nbsp&nbsp0.665]</td><td>None</td><td>None</td><td>None</td></tr></table>"
      ],
      "text/plain": [
       "<ipy_table.IpyTable at 0x3f35470>"
      ]
     },
     "metadata": {},
     "output_type": "display_data"
    },
    {
     "name": "stdout",
     "output_type": "stream",
     "text": [
      "The acutal label is  1\n"
     ]
    }
   ],
   "source": [
    "# Single_Epi_Cell_Size\n",
    "\n",
    "print \"This is feature \", header[4]\n",
    "current_feature = X_test_ori[:,4]\n",
    "\n",
    "num_feature1 = num_test[4]\n",
    "\n",
    "mean1 = mean[4]\n",
    "\n",
    "split1 = splitting[4]\n",
    "\n",
    "if num_feature1 == 0:\n",
    "    \n",
    "    print \"There is no instance between mean and splitting point.\"\n",
    "    \n",
    "else:\n",
    "\n",
    "    upper = max(mean1, split1)\n",
    "    lower = min(mean1, split1)\n",
    "    \n",
    "    index1 = np.where(np.logical_and(current_feature>lower, current_feature<upper))[0]\n",
    "    \n",
    "    diff_decision_interval = diff_decision[index1]\n",
    "    \n",
    "    index1_different_decision = np.where(diff_decision_interval!=0)[0]\n",
    "    \n",
    "    if len(index1_different_decision)==0:\n",
    "        print \"There is no different decision made by 2 classifiers.\"\n",
    "    else:\n",
    "        \n",
    "        print \"This is the instances that IG and SS made different decisions between mean and splitting. \"\n",
    "        \n",
    "        for i in index1_different_decision:\n",
    "            \n",
    "            print len(index1_different_decision)\n",
    "            \n",
    "            temp_instance = instance(header[:class_index],X_test_ori[index1[i]], \n",
    "                                               X_test_ss[index1[i]], X_test_ig[index1[i]], \n",
    "                                               clf_ori, clf_ss, clf_ig)\n",
    "            temp_table = temp_instance.get_information()\n",
    "            print \"The actual label of following instance is \", y_test[index1[i]]\n",
    "            display(temp_table)\n",
    "    \n",
    "# The most differentce of probability between 2 classifiers.\n",
    "    print \"The most difference of probability between mean and splitting is following: \"\n",
    "    proba_diff_interval = diff_proba[index1]\n",
    "    \n",
    "    most_diff_prob_index = np.argmax(proba_diff_interval)\n",
    "    \n",
    "    print \"The most difference of probability is \", diff_proba[index1[most_diff_prob_index]]\n",
    "    \n",
    "    most_diff_prob_instance = instance(header[:class_index],X_test_ori[index1[most_diff_prob_index]], X_test_ss[index1[most_diff_prob_index]],\n",
    "                                     X_test_ig[index1[most_diff_prob_index]], clf_ori, clf_ss, clf_ig)\n",
    "    most_diff_prob_instance_table = most_diff_prob_instance.get_information()\n",
    "    \n",
    "    display(most_diff_prob_instance_table)\n",
    "    \n",
    "    print \"The acutal label is \", y_test[index1[most_diff_prob_index]]"
   ]
  },
  {
   "cell_type": "code",
   "execution_count": 21,
   "metadata": {
    "collapsed": false
   },
   "outputs": [
    {
     "name": "stdout",
     "output_type": "stream",
     "text": [
      "This is feature  Bare_Nuclei\n",
      "This is the instances that IG and SS made different decisions between mean and splitting. \n",
      "3\n",
      "The actual label of following instance is  1\n"
     ]
    },
    {
     "data": {
      "text/html": [
       "<table border=\"1\" cellpadding=\"3\" cellspacing=\"0\"  style=\"border:1px solid black;border-collapse:collapse;\"><tr><td>Features</td><td>Ori_value</td><td>ss_value</td><td>ig_value</td><td>w&nbsp*&nbspv_ori</td><td>w&nbsp*&nbspv_ss</td><td>w&nbsp*&nbspv_ig</td></tr><tr><td>Clump_Thickness</td><td>10.0</td><td>1.98</td><td>1.16</td><td>-5.54</td><td>0.82</td><td>0.77</td></tr><tr><td>Cell_Size_Uniformity</td><td>4.0</td><td>0.28</td><td>0.16</td><td>3.36</td><td>0.18</td><td>0.1</td></tr><tr><td>Cell_Shape_Uniformity</td><td>2.0</td><td>-0.41</td><td>-0.64</td><td>0.11</td><td>-0.31</td><td>-0.52</td></tr><tr><td>Marginal_Adhesion</td><td>1.0</td><td>-0.63</td><td>-0.14</td><td>0.11</td><td>-0.12</td><td>-0.01</td></tr><tr><td>Single_Epi_Cell_Size</td><td>3.0</td><td>-0.1</td><td>0.22</td><td>-0.37</td><td>-0.08</td><td>0.18</td></tr><tr><td>Bare_Nuclei</td><td>2.0</td><td>-0.43</td><td>0.09</td><td>0.67</td><td>-0.22</td><td>0.05</td></tr><tr><td>Bland_Chromatin</td><td>4.0</td><td>0.23</td><td>0.2</td><td>1.6</td><td>0.22</td><td>0.19</td></tr><tr><td>Normal_Nucleoli</td><td>3.0</td><td>0.04</td><td>-0.63</td><td>0.33</td><td>0.01</td><td>-0.23</td></tr><tr><td>Mitoses</td><td>10.0</td><td>4.91</td><td>2.69</td><td>-6.03</td><td>-0.55</td><td>0.43</td></tr><tr><td>Bias</td><td>-1.74</td><td>-0.66</td><td>-0.27</td><td>None</td><td>None</td><td>None</td></tr><tr><td>Neg_evi</td><td>-13.68</td><td>-1.94</td><td>-1.03</td><td>None</td><td>None</td><td>None</td></tr><tr><td>Pos_evi</td><td>6.18</td><td>1.23</td><td>1.72</td><td>None</td><td>None</td><td>None</td></tr><tr><td>Proba</td><td>[&nbsp0.999&nbsp&nbsp0.001]</td><td>[&nbsp0.67&nbsp&nbsp0.33]</td><td>[&nbsp0.335&nbsp&nbsp0.665]</td><td>None</td><td>None</td><td>None</td></tr></table>"
      ],
      "text/plain": [
       "<ipy_table.IpyTable at 0x184cfef0>"
      ]
     },
     "metadata": {},
     "output_type": "display_data"
    },
    {
     "name": "stdout",
     "output_type": "stream",
     "text": [
      "3\n",
      "The actual label of following instance is  1\n"
     ]
    },
    {
     "data": {
      "text/html": [
       "<table border=\"1\" cellpadding=\"3\" cellspacing=\"0\"  style=\"border:1px solid black;border-collapse:collapse;\"><tr><td>Features</td><td>Ori_value</td><td>ss_value</td><td>ig_value</td><td>w&nbsp*&nbspv_ori</td><td>w&nbsp*&nbspv_ss</td><td>w&nbsp*&nbspv_ig</td></tr><tr><td>Clump_Thickness</td><td>3.0</td><td>-0.5</td><td>-1.16</td><td>-1.66</td><td>-0.21</td><td>-0.77</td></tr><tr><td>Cell_Size_Uniformity</td><td>6.0</td><td>0.94</td><td>0.82</td><td>5.05</td><td>0.6</td><td>0.51</td></tr><tr><td>Cell_Shape_Uniformity</td><td>4.0</td><td>0.27</td><td>0.0</td><td>0.22</td><td>0.2</td><td>0.0</td></tr><tr><td>Marginal_Adhesion</td><td>10.0</td><td>2.52</td><td>2.35</td><td>1.14</td><td>0.49</td><td>0.25</td></tr><tr><td>Single_Epi_Cell_Size</td><td>3.0</td><td>-0.1</td><td>0.22</td><td>-0.37</td><td>-0.08</td><td>0.18</td></tr><tr><td>Bare_Nuclei</td><td>3.0</td><td>-0.15</td><td>0.27</td><td>1.0</td><td>-0.08</td><td>0.14</td></tr><tr><td>Bland_Chromatin</td><td>3.0</td><td>-0.18</td><td>-0.2</td><td>1.2</td><td>-0.17</td><td>-0.19</td></tr><tr><td>Normal_Nucleoli</td><td>4.0</td><td>0.37</td><td>-0.38</td><td>0.43</td><td>0.09</td><td>-0.14</td></tr><tr><td>Mitoses</td><td>1.0</td><td>-0.34</td><td>-1.03</td><td>-0.6</td><td>0.04</td><td>-0.16</td></tr><tr><td>Bias</td><td>-1.74</td><td>-0.66</td><td>-0.27</td><td>None</td><td>None</td><td>None</td></tr><tr><td>Neg_evi</td><td>-4.37</td><td>-1.19</td><td>-1.53</td><td>None</td><td>None</td><td>None</td></tr><tr><td>Pos_evi</td><td>9.04</td><td>1.43</td><td>1.08</td><td>None</td><td>None</td><td>None</td></tr><tr><td>Proba</td><td>[&nbsp0.009&nbsp&nbsp0.991]</td><td>[&nbsp0.439&nbsp&nbsp0.561]</td><td>[&nbsp0.612&nbsp&nbsp0.388]</td><td>None</td><td>None</td><td>None</td></tr></table>"
      ],
      "text/plain": [
       "<ipy_table.IpyTable at 0x3f35198>"
      ]
     },
     "metadata": {},
     "output_type": "display_data"
    },
    {
     "name": "stdout",
     "output_type": "stream",
     "text": [
      "3\n",
      "The actual label of following instance is  0\n"
     ]
    },
    {
     "data": {
      "text/html": [
       "<table border=\"1\" cellpadding=\"3\" cellspacing=\"0\"  style=\"border:1px solid black;border-collapse:collapse;\"><tr><td>Features</td><td>Ori_value</td><td>ss_value</td><td>ig_value</td><td>w&nbsp*&nbspv_ori</td><td>w&nbsp*&nbspv_ss</td><td>w&nbsp*&nbspv_ig</td></tr><tr><td>Clump_Thickness</td><td>6.0</td><td>0.56</td><td>-0.17</td><td>-3.32</td><td>0.23</td><td>-0.11</td></tr><tr><td>Cell_Size_Uniformity</td><td>3.0</td><td>-0.04</td><td>-0.16</td><td>2.52</td><td>-0.03</td><td>-0.1</td></tr><tr><td>Cell_Shape_Uniformity</td><td>3.0</td><td>-0.07</td><td>-0.32</td><td>0.16</td><td>-0.05</td><td>-0.26</td></tr><tr><td>Marginal_Adhesion</td><td>3.0</td><td>0.07</td><td>0.41</td><td>0.34</td><td>0.01</td><td>0.04</td></tr><tr><td>Single_Epi_Cell_Size</td><td>3.0</td><td>-0.1</td><td>0.22</td><td>-0.37</td><td>-0.08</td><td>0.18</td></tr><tr><td>Bare_Nuclei</td><td>2.0</td><td>-0.43</td><td>0.09</td><td>0.67</td><td>-0.22</td><td>0.05</td></tr><tr><td>Bland_Chromatin</td><td>6.0</td><td>1.05</td><td>0.98</td><td>2.4</td><td>0.98</td><td>0.95</td></tr><tr><td>Normal_Nucleoli</td><td>1.0</td><td>-0.61</td><td>-1.14</td><td>0.11</td><td>-0.15</td><td>-0.41</td></tr><tr><td>Mitoses</td><td>1.0</td><td>-0.34</td><td>-1.03</td><td>-0.6</td><td>0.04</td><td>-0.16</td></tr><tr><td>Bias</td><td>-1.74</td><td>-0.66</td><td>-0.27</td><td>None</td><td>None</td><td>None</td></tr><tr><td>Neg_evi</td><td>-6.04</td><td>-1.18</td><td>-1.32</td><td>None</td><td>None</td><td>None</td></tr><tr><td>Pos_evi</td><td>6.21</td><td>1.26</td><td>1.22</td><td>None</td><td>None</td><td>None</td></tr><tr><td>Proba</td><td>[&nbsp0.457&nbsp&nbsp0.543]</td><td>[&nbsp0.48&nbsp&nbsp0.52]</td><td>[&nbsp0.523&nbsp&nbsp0.477]</td><td>None</td><td>None</td><td>None</td></tr></table>"
      ],
      "text/plain": [
       "<ipy_table.IpyTable at 0x18479128>"
      ]
     },
     "metadata": {},
     "output_type": "display_data"
    },
    {
     "name": "stdout",
     "output_type": "stream",
     "text": [
      "The most difference of probability between mean and splitting is following: \n",
      "The most difference of probability is  0.335179990581\n"
     ]
    },
    {
     "data": {
      "text/html": [
       "<table border=\"1\" cellpadding=\"3\" cellspacing=\"0\"  style=\"border:1px solid black;border-collapse:collapse;\"><tr><td>Features</td><td>Ori_value</td><td>ss_value</td><td>ig_value</td><td>w&nbsp*&nbspv_ori</td><td>w&nbsp*&nbspv_ss</td><td>w&nbsp*&nbspv_ig</td></tr><tr><td>Clump_Thickness</td><td>10.0</td><td>1.98</td><td>1.16</td><td>-5.54</td><td>0.82</td><td>0.77</td></tr><tr><td>Cell_Size_Uniformity</td><td>4.0</td><td>0.28</td><td>0.16</td><td>3.36</td><td>0.18</td><td>0.1</td></tr><tr><td>Cell_Shape_Uniformity</td><td>2.0</td><td>-0.41</td><td>-0.64</td><td>0.11</td><td>-0.31</td><td>-0.52</td></tr><tr><td>Marginal_Adhesion</td><td>1.0</td><td>-0.63</td><td>-0.14</td><td>0.11</td><td>-0.12</td><td>-0.01</td></tr><tr><td>Single_Epi_Cell_Size</td><td>3.0</td><td>-0.1</td><td>0.22</td><td>-0.37</td><td>-0.08</td><td>0.18</td></tr><tr><td>Bare_Nuclei</td><td>2.0</td><td>-0.43</td><td>0.09</td><td>0.67</td><td>-0.22</td><td>0.05</td></tr><tr><td>Bland_Chromatin</td><td>4.0</td><td>0.23</td><td>0.2</td><td>1.6</td><td>0.22</td><td>0.19</td></tr><tr><td>Normal_Nucleoli</td><td>3.0</td><td>0.04</td><td>-0.63</td><td>0.33</td><td>0.01</td><td>-0.23</td></tr><tr><td>Mitoses</td><td>10.0</td><td>4.91</td><td>2.69</td><td>-6.03</td><td>-0.55</td><td>0.43</td></tr><tr><td>Bias</td><td>-1.74</td><td>-0.66</td><td>-0.27</td><td>None</td><td>None</td><td>None</td></tr><tr><td>Neg_evi</td><td>-13.68</td><td>-1.94</td><td>-1.03</td><td>None</td><td>None</td><td>None</td></tr><tr><td>Pos_evi</td><td>6.18</td><td>1.23</td><td>1.72</td><td>None</td><td>None</td><td>None</td></tr><tr><td>Proba</td><td>[&nbsp0.999&nbsp&nbsp0.001]</td><td>[&nbsp0.67&nbsp&nbsp0.33]</td><td>[&nbsp0.335&nbsp&nbsp0.665]</td><td>None</td><td>None</td><td>None</td></tr></table>"
      ],
      "text/plain": [
       "<ipy_table.IpyTable at 0x3f35198>"
      ]
     },
     "metadata": {},
     "output_type": "display_data"
    },
    {
     "name": "stdout",
     "output_type": "stream",
     "text": [
      "The acutal label is  1\n"
     ]
    }
   ],
   "source": [
    "# Bare_Nuclei\n",
    "print \"This is feature \", header[5]\n",
    "current_feature = X_test_ori[:,5]\n",
    "\n",
    "num_feature1 = num_test[5]\n",
    "\n",
    "mean1 = mean[5]\n",
    "\n",
    "split1 = splitting[5]\n",
    "\n",
    "if num_feature1 == 0:\n",
    "    \n",
    "    print \"There is no instance between mean and splitting point.\"\n",
    "    \n",
    "else:\n",
    "\n",
    "    upper = max(mean1, split1)\n",
    "    lower = min(mean1, split1)\n",
    "    \n",
    "    index1 = np.where(np.logical_and(current_feature>lower, current_feature<upper))[0]\n",
    "    \n",
    "    diff_decision_interval = diff_decision[index1]\n",
    "    \n",
    "    index1_different_decision = np.where(diff_decision_interval!=0)[0]\n",
    "    \n",
    "    if len(index1_different_decision)==0:\n",
    "        print \"There is no different decision made by 2 classifiers.\"\n",
    "    else:\n",
    "        \n",
    "        print \"This is the instances that IG and SS made different decisions between mean and splitting. \"\n",
    "        \n",
    "        for i in index1_different_decision:\n",
    "            \n",
    "            print len(index1_different_decision)\n",
    "            \n",
    "            temp_instance = instance(header[:class_index],X_test_ori[index1[i]], \n",
    "                                               X_test_ss[index1[i]], X_test_ig[index1[i]], \n",
    "                                               clf_ori, clf_ss, clf_ig)\n",
    "            temp_table = temp_instance.get_information()\n",
    "            print \"The actual label of following instance is \", y_test[index1[i]]\n",
    "            display(temp_table)\n",
    "    \n",
    "# The most differentce of probability between 2 classifiers.\n",
    "    print \"The most difference of probability between mean and splitting is following: \"\n",
    "    proba_diff_interval = diff_proba[index1]\n",
    "    \n",
    "    most_diff_prob_index = np.argmax(proba_diff_interval)\n",
    "    \n",
    "    print \"The most difference of probability is \", diff_proba[index1[most_diff_prob_index]]\n",
    "    \n",
    "    most_diff_prob_instance = instance(header[:class_index],X_test_ori[index1[most_diff_prob_index]], X_test_ss[index1[most_diff_prob_index]],\n",
    "                                     X_test_ig[index1[most_diff_prob_index]], clf_ori, clf_ss, clf_ig)\n",
    "    most_diff_prob_instance_table = most_diff_prob_instance.get_information()\n",
    "    \n",
    "    display(most_diff_prob_instance_table)\n",
    "    \n",
    "    print \"The acutal label is \", y_test[index1[most_diff_prob_index]]"
   ]
  },
  {
   "cell_type": "code",
   "execution_count": 22,
   "metadata": {
    "collapsed": false
   },
   "outputs": [
    {
     "name": "stdout",
     "output_type": "stream",
     "text": [
      "This is feature  Bland_Chromatin\n",
      "There is no instance between mean and splitting point.\n"
     ]
    }
   ],
   "source": [
    "# Bland_Chromatin\n",
    "print \"This is feature \", header[6]\n",
    "current_feature = X_test_ori[:,6]\n",
    "\n",
    "num_feature1 = num_test[6]\n",
    "\n",
    "mean1 = mean[6]\n",
    "\n",
    "split1 = splitting[6]\n",
    "\n",
    "if num_feature1 == 0:\n",
    "    \n",
    "    print \"There is no instance between mean and splitting point.\"\n",
    "    \n",
    "else:\n",
    "\n",
    "    upper = max(mean1, split1)\n",
    "    lower = min(mean1, split1)\n",
    "    \n",
    "    index1 = np.where(np.logical_and(current_feature>lower, current_feature<upper))[0]\n",
    "    \n",
    "    diff_decision_interval = diff_decision[index1]\n",
    "    \n",
    "    index1_different_decision = np.where(diff_decision_interval!=0)[0]\n",
    "    \n",
    "    if len(index1_different_decision)==0:\n",
    "        print \"There is no different decision made by 2 classifiers.\"\n",
    "    else:\n",
    "        \n",
    "        print \"This is the instances that IG and SS made different decisions between mean and splitting. \"\n",
    "        \n",
    "        for i in index1_different_decision:\n",
    "            \n",
    "            print len(index1_different_decision)\n",
    "            \n",
    "            temp_instance = instance(header[:class_index],X_test_ori[index1[i]], \n",
    "                                               X_test_ss[index1[i]], X_test_ig[index1[i]], \n",
    "                                               clf_ori, clf_ss, clf_ig)\n",
    "            temp_table = temp_instance.get_information()\n",
    "            print \"The actual label of following instance is \", y_test[index1[i]]\n",
    "            display(temp_table)\n",
    "    \n",
    "# The most differentce of probability between 2 classifiers.\n",
    "    print \"The most difference of probability between mean and splitting is following: \"\n",
    "    proba_diff_interval = diff_proba[index1]\n",
    "    \n",
    "    most_diff_prob_index = np.argmax(proba_diff_interval)\n",
    "    \n",
    "    print \"The most difference of probability is \", diff_proba[index1[most_diff_prob_index]]\n",
    "    \n",
    "    most_diff_prob_instance = instance(header[:class_index],X_test_ori[index1[most_diff_prob_index]], X_test_ss[index1[most_diff_prob_index]],\n",
    "                                     X_test_ig[index1[most_diff_prob_index]], clf_ori, clf_ss, clf_ig)\n",
    "    most_diff_prob_instance_table = most_diff_prob_instance.get_information()\n",
    "    \n",
    "    display(most_diff_prob_instance_table)\n",
    "    \n",
    "    print \"The acutal label is \", y_test[index1[most_diff_prob_index]]"
   ]
  },
  {
   "cell_type": "code",
   "execution_count": 23,
   "metadata": {
    "collapsed": false
   },
   "outputs": [
    {
     "name": "stdout",
     "output_type": "stream",
     "text": [
      "This is feature  Normal_Nucleoli\n",
      "This is the instances that IG and SS made different decisions between mean and splitting. \n",
      "3\n",
      "The actual label of following instance is  1\n"
     ]
    },
    {
     "data": {
      "text/html": [
       "<table border=\"1\" cellpadding=\"3\" cellspacing=\"0\"  style=\"border:1px solid black;border-collapse:collapse;\"><tr><td>Features</td><td>Ori_value</td><td>ss_value</td><td>ig_value</td><td>w&nbsp*&nbspv_ori</td><td>w&nbsp*&nbspv_ss</td><td>w&nbsp*&nbspv_ig</td></tr><tr><td>Clump_Thickness</td><td>10.0</td><td>1.98</td><td>1.16</td><td>-5.54</td><td>0.82</td><td>0.77</td></tr><tr><td>Cell_Size_Uniformity</td><td>4.0</td><td>0.28</td><td>0.16</td><td>3.36</td><td>0.18</td><td>0.1</td></tr><tr><td>Cell_Shape_Uniformity</td><td>2.0</td><td>-0.41</td><td>-0.64</td><td>0.11</td><td>-0.31</td><td>-0.52</td></tr><tr><td>Marginal_Adhesion</td><td>1.0</td><td>-0.63</td><td>-0.14</td><td>0.11</td><td>-0.12</td><td>-0.01</td></tr><tr><td>Single_Epi_Cell_Size</td><td>3.0</td><td>-0.1</td><td>0.22</td><td>-0.37</td><td>-0.08</td><td>0.18</td></tr><tr><td>Bare_Nuclei</td><td>2.0</td><td>-0.43</td><td>0.09</td><td>0.67</td><td>-0.22</td><td>0.05</td></tr><tr><td>Bland_Chromatin</td><td>4.0</td><td>0.23</td><td>0.2</td><td>1.6</td><td>0.22</td><td>0.19</td></tr><tr><td>Normal_Nucleoli</td><td>3.0</td><td>0.04</td><td>-0.63</td><td>0.33</td><td>0.01</td><td>-0.23</td></tr><tr><td>Mitoses</td><td>10.0</td><td>4.91</td><td>2.69</td><td>-6.03</td><td>-0.55</td><td>0.43</td></tr><tr><td>Bias</td><td>-1.74</td><td>-0.66</td><td>-0.27</td><td>None</td><td>None</td><td>None</td></tr><tr><td>Neg_evi</td><td>-13.68</td><td>-1.94</td><td>-1.03</td><td>None</td><td>None</td><td>None</td></tr><tr><td>Pos_evi</td><td>6.18</td><td>1.23</td><td>1.72</td><td>None</td><td>None</td><td>None</td></tr><tr><td>Proba</td><td>[&nbsp0.999&nbsp&nbsp0.001]</td><td>[&nbsp0.67&nbsp&nbsp0.33]</td><td>[&nbsp0.335&nbsp&nbsp0.665]</td><td>None</td><td>None</td><td>None</td></tr></table>"
      ],
      "text/plain": [
       "<ipy_table.IpyTable at 0x184d25c0>"
      ]
     },
     "metadata": {},
     "output_type": "display_data"
    },
    {
     "name": "stdout",
     "output_type": "stream",
     "text": [
      "3\n",
      "The actual label of following instance is  1\n"
     ]
    },
    {
     "data": {
      "text/html": [
       "<table border=\"1\" cellpadding=\"3\" cellspacing=\"0\"  style=\"border:1px solid black;border-collapse:collapse;\"><tr><td>Features</td><td>Ori_value</td><td>ss_value</td><td>ig_value</td><td>w&nbsp*&nbspv_ori</td><td>w&nbsp*&nbspv_ss</td><td>w&nbsp*&nbspv_ig</td></tr><tr><td>Clump_Thickness</td><td>3.0</td><td>-0.5</td><td>-1.16</td><td>-1.66</td><td>-0.21</td><td>-0.77</td></tr><tr><td>Cell_Size_Uniformity</td><td>6.0</td><td>0.94</td><td>0.82</td><td>5.05</td><td>0.6</td><td>0.51</td></tr><tr><td>Cell_Shape_Uniformity</td><td>4.0</td><td>0.27</td><td>0.0</td><td>0.22</td><td>0.2</td><td>0.0</td></tr><tr><td>Marginal_Adhesion</td><td>10.0</td><td>2.52</td><td>2.35</td><td>1.14</td><td>0.49</td><td>0.25</td></tr><tr><td>Single_Epi_Cell_Size</td><td>3.0</td><td>-0.1</td><td>0.22</td><td>-0.37</td><td>-0.08</td><td>0.18</td></tr><tr><td>Bare_Nuclei</td><td>3.0</td><td>-0.15</td><td>0.27</td><td>1.0</td><td>-0.08</td><td>0.14</td></tr><tr><td>Bland_Chromatin</td><td>3.0</td><td>-0.18</td><td>-0.2</td><td>1.2</td><td>-0.17</td><td>-0.19</td></tr><tr><td>Normal_Nucleoli</td><td>4.0</td><td>0.37</td><td>-0.38</td><td>0.43</td><td>0.09</td><td>-0.14</td></tr><tr><td>Mitoses</td><td>1.0</td><td>-0.34</td><td>-1.03</td><td>-0.6</td><td>0.04</td><td>-0.16</td></tr><tr><td>Bias</td><td>-1.74</td><td>-0.66</td><td>-0.27</td><td>None</td><td>None</td><td>None</td></tr><tr><td>Neg_evi</td><td>-4.37</td><td>-1.19</td><td>-1.53</td><td>None</td><td>None</td><td>None</td></tr><tr><td>Pos_evi</td><td>9.04</td><td>1.43</td><td>1.08</td><td>None</td><td>None</td><td>None</td></tr><tr><td>Proba</td><td>[&nbsp0.009&nbsp&nbsp0.991]</td><td>[&nbsp0.439&nbsp&nbsp0.561]</td><td>[&nbsp0.612&nbsp&nbsp0.388]</td><td>None</td><td>None</td><td>None</td></tr></table>"
      ],
      "text/plain": [
       "<ipy_table.IpyTable at 0x18479128>"
      ]
     },
     "metadata": {},
     "output_type": "display_data"
    },
    {
     "name": "stdout",
     "output_type": "stream",
     "text": [
      "3\n",
      "The actual label of following instance is  1\n"
     ]
    },
    {
     "data": {
      "text/html": [
       "<table border=\"1\" cellpadding=\"3\" cellspacing=\"0\"  style=\"border:1px solid black;border-collapse:collapse;\"><tr><td>Features</td><td>Ori_value</td><td>ss_value</td><td>ig_value</td><td>w&nbsp*&nbspv_ori</td><td>w&nbsp*&nbspv_ss</td><td>w&nbsp*&nbspv_ig</td></tr><tr><td>Clump_Thickness</td><td>3.0</td><td>-0.5</td><td>-1.16</td><td>-1.66</td><td>-0.21</td><td>-0.77</td></tr><tr><td>Cell_Size_Uniformity</td><td>4.0</td><td>0.28</td><td>0.16</td><td>3.36</td><td>0.18</td><td>0.1</td></tr><tr><td>Cell_Shape_Uniformity</td><td>4.0</td><td>0.27</td><td>0.0</td><td>0.22</td><td>0.2</td><td>0.0</td></tr><tr><td>Marginal_Adhesion</td><td>10.0</td><td>2.52</td><td>2.35</td><td>1.14</td><td>0.49</td><td>0.25</td></tr><tr><td>Single_Epi_Cell_Size</td><td>5.0</td><td>0.81</td><td>1.1</td><td>-0.61</td><td>0.65</td><td>0.88</td></tr><tr><td>Bare_Nuclei</td><td>1.0</td><td>-0.71</td><td>-0.09</td><td>0.33</td><td>-0.36</td><td>-0.05</td></tr><tr><td>Bland_Chromatin</td><td>3.0</td><td>-0.18</td><td>-0.2</td><td>1.2</td><td>-0.17</td><td>-0.19</td></tr><tr><td>Normal_Nucleoli</td><td>3.0</td><td>0.04</td><td>-0.63</td><td>0.33</td><td>0.01</td><td>-0.23</td></tr><tr><td>Mitoses</td><td>1.0</td><td>-0.34</td><td>-1.03</td><td>-0.6</td><td>0.04</td><td>-0.16</td></tr><tr><td>Bias</td><td>-1.74</td><td>-0.66</td><td>-0.27</td><td>None</td><td>None</td><td>None</td></tr><tr><td>Neg_evi</td><td>-4.62</td><td>-1.39</td><td>-1.67</td><td>None</td><td>None</td><td>None</td></tr><tr><td>Pos_evi</td><td>6.58</td><td>1.58</td><td>1.23</td><td>None</td><td>None</td><td>None</td></tr><tr><td>Proba</td><td>[&nbsp0.123&nbsp&nbsp0.877]</td><td>[&nbsp0.452&nbsp&nbsp0.548]</td><td>[&nbsp0.609&nbsp&nbsp0.391]</td><td>None</td><td>None</td><td>None</td></tr></table>"
      ],
      "text/plain": [
       "<ipy_table.IpyTable at 0x184d2978>"
      ]
     },
     "metadata": {},
     "output_type": "display_data"
    },
    {
     "name": "stdout",
     "output_type": "stream",
     "text": [
      "The most difference of probability between mean and splitting is following: \n",
      "The most difference of probability is  0.335179990581\n"
     ]
    },
    {
     "data": {
      "text/html": [
       "<table border=\"1\" cellpadding=\"3\" cellspacing=\"0\"  style=\"border:1px solid black;border-collapse:collapse;\"><tr><td>Features</td><td>Ori_value</td><td>ss_value</td><td>ig_value</td><td>w&nbsp*&nbspv_ori</td><td>w&nbsp*&nbspv_ss</td><td>w&nbsp*&nbspv_ig</td></tr><tr><td>Clump_Thickness</td><td>10.0</td><td>1.98</td><td>1.16</td><td>-5.54</td><td>0.82</td><td>0.77</td></tr><tr><td>Cell_Size_Uniformity</td><td>4.0</td><td>0.28</td><td>0.16</td><td>3.36</td><td>0.18</td><td>0.1</td></tr><tr><td>Cell_Shape_Uniformity</td><td>2.0</td><td>-0.41</td><td>-0.64</td><td>0.11</td><td>-0.31</td><td>-0.52</td></tr><tr><td>Marginal_Adhesion</td><td>1.0</td><td>-0.63</td><td>-0.14</td><td>0.11</td><td>-0.12</td><td>-0.01</td></tr><tr><td>Single_Epi_Cell_Size</td><td>3.0</td><td>-0.1</td><td>0.22</td><td>-0.37</td><td>-0.08</td><td>0.18</td></tr><tr><td>Bare_Nuclei</td><td>2.0</td><td>-0.43</td><td>0.09</td><td>0.67</td><td>-0.22</td><td>0.05</td></tr><tr><td>Bland_Chromatin</td><td>4.0</td><td>0.23</td><td>0.2</td><td>1.6</td><td>0.22</td><td>0.19</td></tr><tr><td>Normal_Nucleoli</td><td>3.0</td><td>0.04</td><td>-0.63</td><td>0.33</td><td>0.01</td><td>-0.23</td></tr><tr><td>Mitoses</td><td>10.0</td><td>4.91</td><td>2.69</td><td>-6.03</td><td>-0.55</td><td>0.43</td></tr><tr><td>Bias</td><td>-1.74</td><td>-0.66</td><td>-0.27</td><td>None</td><td>None</td><td>None</td></tr><tr><td>Neg_evi</td><td>-13.68</td><td>-1.94</td><td>-1.03</td><td>None</td><td>None</td><td>None</td></tr><tr><td>Pos_evi</td><td>6.18</td><td>1.23</td><td>1.72</td><td>None</td><td>None</td><td>None</td></tr><tr><td>Proba</td><td>[&nbsp0.999&nbsp&nbsp0.001]</td><td>[&nbsp0.67&nbsp&nbsp0.33]</td><td>[&nbsp0.335&nbsp&nbsp0.665]</td><td>None</td><td>None</td><td>None</td></tr></table>"
      ],
      "text/plain": [
       "<ipy_table.IpyTable at 0x18479128>"
      ]
     },
     "metadata": {},
     "output_type": "display_data"
    },
    {
     "name": "stdout",
     "output_type": "stream",
     "text": [
      "The acutal label is  1\n"
     ]
    }
   ],
   "source": [
    "# Normal_Nucleoli\n",
    "print \"This is feature \", header[7]\n",
    "current_feature = X_test_ori[:,7]\n",
    "\n",
    "num_feature1 = num_test[7]\n",
    "\n",
    "mean1 = mean[7]\n",
    "\n",
    "split1 = splitting[7]\n",
    "\n",
    "if num_feature1 == 0:\n",
    "    \n",
    "    print \"There is no instance between mean and splitting point.\"\n",
    "    \n",
    "else:\n",
    "\n",
    "    upper = max(mean1, split1)\n",
    "    lower = min(mean1, split1)\n",
    "    \n",
    "    index1 = np.where(np.logical_and(current_feature>lower, current_feature<upper))[0]\n",
    "    \n",
    "    diff_decision_interval = diff_decision[index1]\n",
    "    \n",
    "    index1_different_decision = np.where(diff_decision_interval!=0)[0]\n",
    "    \n",
    "    if len(index1_different_decision)==0:\n",
    "        print \"There is no different decision made by 2 classifiers.\"\n",
    "    else:\n",
    "        \n",
    "        print \"This is the instances that IG and SS made different decisions between mean and splitting. \"\n",
    "        \n",
    "        for i in index1_different_decision:\n",
    "            \n",
    "            print len(index1_different_decision)\n",
    "            \n",
    "            temp_instance = instance(header[:class_index],X_test_ori[index1[i]], \n",
    "                                               X_test_ss[index1[i]], X_test_ig[index1[i]], \n",
    "                                               clf_ori, clf_ss, clf_ig)\n",
    "            temp_table = temp_instance.get_information()\n",
    "            print \"The actual label of following instance is \", y_test[index1[i]]\n",
    "            display(temp_table)\n",
    "    \n",
    "# The most differentce of probability between 2 classifiers.\n",
    "    print \"The most difference of probability between mean and splitting is following: \"\n",
    "    proba_diff_interval = diff_proba[index1]\n",
    "    \n",
    "    most_diff_prob_index = np.argmax(proba_diff_interval)\n",
    "    \n",
    "    print \"The most difference of probability is \", diff_proba[index1[most_diff_prob_index]]\n",
    "    \n",
    "    most_diff_prob_instance = instance(header[:class_index],X_test_ori[index1[most_diff_prob_index]], X_test_ss[index1[most_diff_prob_index]],\n",
    "                                     X_test_ig[index1[most_diff_prob_index]], clf_ori, clf_ss, clf_ig)\n",
    "    most_diff_prob_instance_table = most_diff_prob_instance.get_information()\n",
    "    \n",
    "    display(most_diff_prob_instance_table)\n",
    "    \n",
    "    print \"The acutal label is \", y_test[index1[most_diff_prob_index]]"
   ]
  },
  {
   "cell_type": "code",
   "execution_count": 24,
   "metadata": {
    "collapsed": false,
    "scrolled": false
   },
   "outputs": [
    {
     "name": "stdout",
     "output_type": "stream",
     "text": [
      "This is feature  Mitoses\n",
      "There is no different decision made by 2 classifiers.\n",
      "The most difference of probability between mean and splitting is following: \n",
      "This is the most differentce of probability between 2 classifiers.\n",
      "The most difference of probability is  0.0872682121408\n"
     ]
    },
    {
     "data": {
      "text/html": [
       "<table border=\"1\" cellpadding=\"3\" cellspacing=\"0\"  style=\"border:1px solid black;border-collapse:collapse;\"><tr><td>Features</td><td>Ori_value</td><td>ss_value</td><td>ig_value</td><td>w&nbsp*&nbspv_ori</td><td>w&nbsp*&nbspv_ss</td><td>w&nbsp*&nbspv_ig</td></tr><tr><td>Clump_Thickness</td><td>7.0</td><td>0.92</td><td>0.17</td><td>-3.88</td><td>0.38</td><td>0.11</td></tr><tr><td>Cell_Size_Uniformity</td><td>4.0</td><td>0.28</td><td>0.16</td><td>3.36</td><td>0.18</td><td>0.1</td></tr><tr><td>Cell_Shape_Uniformity</td><td>5.0</td><td>0.6</td><td>0.32</td><td>0.27</td><td>0.46</td><td>0.26</td></tr><tr><td>Marginal_Adhesion</td><td>10.0</td><td>2.52</td><td>2.35</td><td>1.14</td><td>0.49</td><td>0.25</td></tr><tr><td>Single_Epi_Cell_Size</td><td>2.0</td><td>-0.55</td><td>-0.22</td><td>-0.24</td><td>-0.44</td><td>-0.18</td></tr><tr><td>Bare_Nuclei</td><td>10.0</td><td>1.79</td><td>1.55</td><td>3.33</td><td>0.9</td><td>0.81</td></tr><tr><td>Bland_Chromatin</td><td>3.0</td><td>-0.18</td><td>-0.2</td><td>1.2</td><td>-0.17</td><td>-0.19</td></tr><tr><td>Normal_Nucleoli</td><td>8.0</td><td>1.68</td><td>0.63</td><td>0.87</td><td>0.42</td><td>0.23</td></tr><tr><td>Mitoses</td><td>2.0</td><td>0.24</td><td>-0.62</td><td>-1.21</td><td>-0.03</td><td>-0.1</td></tr><tr><td>Bias</td><td>-1.74</td><td>-0.66</td><td>-0.27</td><td>None</td><td>None</td><td>None</td></tr><tr><td>Neg_evi</td><td>-7.07</td><td>-1.29</td><td>-0.74</td><td>None</td><td>None</td><td>None</td></tr><tr><td>Pos_evi</td><td>10.18</td><td>2.83</td><td>1.76</td><td>None</td><td>None</td><td>None</td></tr><tr><td>Proba</td><td>[&nbsp0.043&nbsp&nbsp0.957]</td><td>[&nbsp0.177&nbsp&nbsp0.823]</td><td>[&nbsp0.264&nbsp&nbsp0.736]</td><td>None</td><td>None</td><td>None</td></tr></table>"
      ],
      "text/plain": [
       "<ipy_table.IpyTable at 0x2e5a748>"
      ]
     },
     "metadata": {},
     "output_type": "display_data"
    },
    {
     "name": "stdout",
     "output_type": "stream",
     "text": [
      "The acutal label is  1\n"
     ]
    }
   ],
   "source": [
    "# Mitoses\n",
    "print \"This is feature \", header[8]\n",
    "current_feature = X_test_ori[:,8]\n",
    "\n",
    "num_feature1 = num_test[8]\n",
    "\n",
    "mean1 = mean[8]\n",
    "\n",
    "split1 = splitting[8]\n",
    "\n",
    "if num_feature1 == 0:\n",
    "    \n",
    "    print \"There is no instance between mean and splitting point.\"\n",
    "    \n",
    "else:\n",
    "\n",
    "    upper = max(mean1, split1)\n",
    "    lower = min(mean1, split1)\n",
    "    \n",
    "    index1 = np.where(np.logical_and(current_feature>lower, current_feature<upper))[0]\n",
    "    \n",
    "    diff_decision_interval = diff_decision[index1]\n",
    "    \n",
    "    index1_different_decision = np.where(diff_decision_interval!=0)[0]\n",
    "    \n",
    "    if len(index1_different_decision)==0:\n",
    "        print \"There is no different decision made by 2 classifiers.\"\n",
    "    else:\n",
    "        \n",
    "        print \"This is the instances that IG and SS made different decisions between mean and splitting. \"\n",
    "        print len(index1_different_decision)\n",
    "        \n",
    "        for i in index1_different_decision:\n",
    "                     \n",
    "            temp_instance = instance(header[:class_index],X_test_ori[index1[i]], \n",
    "                                               X_test_ss[index1[i]], X_test_ig[index1[i]], \n",
    "                                               clf_ori, clf_ss, clf_ig)\n",
    "            temp_table = temp_instance.get_information()\n",
    "            print \"The actual label of following instance is \", y_test[index1[i]]\n",
    "            display(temp_table)\n",
    "    \n",
    "# The most differentce of probability between 2 classifiers.\n",
    "    print \"The most difference of probability between mean and splitting is following: \"\n",
    "    print \"This is the most differentce of probability between 2 classifiers.\"\n",
    "\n",
    "    proba_diff_interval = diff_proba[index1]\n",
    "    \n",
    "    most_diff_prob_index = np.argmax(proba_diff_interval)\n",
    "    \n",
    "    print \"The most difference of probability is \", diff_proba[index1[most_diff_prob_index]]\n",
    "    \n",
    "    most_diff_prob_instance = instance(header[:class_index],X_test_ori[index1[most_diff_prob_index]], X_test_ss[index1[most_diff_prob_index]],\n",
    "                                     X_test_ig[index1[most_diff_prob_index]], clf_ori, clf_ss, clf_ig)\n",
    "    most_diff_prob_instance_table = most_diff_prob_instance.get_information()\n",
    "    \n",
    "    display(most_diff_prob_instance_table)\n",
    "    \n",
    "    print \"The acutal label is \", y_test[index1[most_diff_prob_index]]"
   ]
  },
  {
   "cell_type": "code",
   "execution_count": 25,
   "metadata": {
    "collapsed": false,
    "scrolled": false
   },
   "outputs": [
    {
     "name": "stdout",
     "output_type": "stream",
     "text": [
      "4\n",
      "Index:  104\n",
      "Label:  1\n",
      "104 0.335179990581\n"
     ]
    },
    {
     "data": {
      "text/html": [
       "<table border=\"1\" cellpadding=\"3\" cellspacing=\"0\"  style=\"border:1px solid black;border-collapse:collapse;\"><tr><td>Features</td><td>Ori_value</td><td>ss_value</td><td>ig_value</td><td>w&nbsp*&nbspv_ori</td><td>w&nbsp*&nbspv_ss</td><td>w&nbsp*&nbspv_ig</td></tr><tr><td>Clump_Thickness</td><td>7.0</td><td>0.92</td><td>0.17</td><td>-3.88</td><td>0.38</td><td>0.11</td></tr><tr><td>Cell_Size_Uniformity</td><td>4.0</td><td>0.28</td><td>0.16</td><td>3.36</td><td>0.18</td><td>0.1</td></tr><tr><td>Cell_Shape_Uniformity</td><td>5.0</td><td>0.6</td><td>0.32</td><td>0.27</td><td>0.46</td><td>0.26</td></tr><tr><td>Marginal_Adhesion</td><td>10.0</td><td>2.52</td><td>2.35</td><td>1.14</td><td>0.49</td><td>0.25</td></tr><tr><td>Single_Epi_Cell_Size</td><td>2.0</td><td>-0.55</td><td>-0.22</td><td>-0.24</td><td>-0.44</td><td>-0.18</td></tr><tr><td>Bare_Nuclei</td><td>10.0</td><td>1.79</td><td>1.55</td><td>3.33</td><td>0.9</td><td>0.81</td></tr><tr><td>Bland_Chromatin</td><td>3.0</td><td>-0.18</td><td>-0.2</td><td>1.2</td><td>-0.17</td><td>-0.19</td></tr><tr><td>Normal_Nucleoli</td><td>8.0</td><td>1.68</td><td>0.63</td><td>0.87</td><td>0.42</td><td>0.23</td></tr><tr><td>Mitoses</td><td>2.0</td><td>0.24</td><td>-0.62</td><td>-1.21</td><td>-0.03</td><td>-0.1</td></tr><tr><td>Bias</td><td>-1.74</td><td>-0.66</td><td>-0.27</td><td>None</td><td>None</td><td>None</td></tr><tr><td>Neg_evi</td><td>-7.07</td><td>-1.29</td><td>-0.74</td><td>None</td><td>None</td><td>None</td></tr><tr><td>Pos_evi</td><td>10.18</td><td>2.83</td><td>1.76</td><td>None</td><td>None</td><td>None</td></tr><tr><td>Proba</td><td>[&nbsp0.043&nbsp&nbsp0.957]</td><td>[&nbsp0.177&nbsp&nbsp0.823]</td><td>[&nbsp0.264&nbsp&nbsp0.736]</td><td>None</td><td>None</td><td>None</td></tr></table>"
      ],
      "text/plain": [
       "<ipy_table.IpyTable at 0x2e5a748>"
      ]
     },
     "metadata": {},
     "output_type": "display_data"
    }
   ],
   "source": [
    "diff_decision = y_predict_ss - y_predict_ig\n",
    "\n",
    "index_diff_decision = np.where(diff_decision!=0)[0]\n",
    "\n",
    "print len(index_diff_decision)\n",
    "\n",
    "# if len(index_diff_decision) == 0:\n",
    "    \n",
    "#     print \"There is no different decision between 2 classifiers.\"\n",
    "    \n",
    "# else:\n",
    "\n",
    "#     print \"The index of test instances that SS and IG make different decisions：\", index_diff_decision\n",
    "#     print \"The probability that 2 classifiers made: \"\n",
    "#     print y_pred_prob_ss[index_diff_decision]\n",
    "#     print y_pred_prob_ig[index_diff_decision]\n",
    "    \n",
    "    \n",
    "#     for i in index_diff_decision:\n",
    "    \n",
    "#         most_diff_decision = instance(header[:class_index],X_test_ori[i], X_test_ss[i],\n",
    "#                                      X_test_ig[i], clf_ori, clf_ss, clf_ig)\n",
    "#         most_diff_decision_table = most_diff_decision.get_information()    \n",
    "#         display(most_diff_decision_table)\n",
    "    \n",
    "    \n",
    "    \n",
    "y_pred_prob_ss_false = y_pred_prob_ss[:,0]\n",
    "y_pred_prob_ig_false = y_pred_prob_ig[:,0]\n",
    "\n",
    "abs_diff = abs(y_pred_prob_ss_false-y_pred_prob_ig_false)\n",
    "\n",
    "max_diff_index = np.argmax(abs_diff)\n",
    "\n",
    "print \"Index: \", max_diff_index\n",
    "print \"Label: \", y_test[max_diff_index]\n",
    "print max_diff_index, abs_diff[max_diff_index]\n",
    "\n",
    "\n",
    "# print X_test_ori[max_diff_index], y_test[max_diff_index]\n",
    "\n",
    "most_diff = instance(header[:class_index],X_test_ori[max_diff_index], X_test_ss[max_diff_index],\n",
    "                                     X_test_ig[max_diff_index], clf_ori, clf_ss, clf_ig)\n",
    "most_diff_table = most_diff.get_information()\n",
    "display(most_diff_prob_instance_table)"
   ]
  },
  {
   "cell_type": "code",
   "execution_count": 26,
   "metadata": {
    "collapsed": false
   },
   "outputs": [
    {
     "name": "stdout",
     "output_type": "stream",
     "text": [
      "[0 0]\n",
      "[0 0]\n",
      "[[ 0.65823066  0.34176934]\n",
      " [ 0.64404638  0.35595362]]\n",
      "[[ 0.71375378  0.28624622]\n",
      " [ 0.56719262  0.43280738]]\n"
     ]
    }
   ],
   "source": [
    "made_test = [np.mean(X, axis=0).tolist(), scale_.mns.tolist()]\n",
    "\n",
    "X_mns = np.mean(X, axis=0)\n",
    "X_std = np.std(X, axis=0)\n",
    "\n",
    "made_test_ss = transform(made_test, X_mns, X_std)\n",
    "made_test_ig = scale_.transform(made_test)\n",
    "\n",
    "print clf_ss.predict(made_test_ss)\n",
    "print clf_ig.predict(made_test_ig)\n",
    "\n",
    "print clf_ss.predict_proba(made_test_ss)\n",
    "print clf_ig.predict_proba(made_test_ig)"
   ]
  },
  {
   "cell_type": "code",
   "execution_count": null,
   "metadata": {
    "collapsed": true
   },
   "outputs": [],
   "source": []
  }
 ],
 "metadata": {
  "kernelspec": {
   "display_name": "Python 2",
   "language": "python",
   "name": "python2"
  },
  "language_info": {
   "codemirror_mode": {
    "name": "ipython",
    "version": 2
   },
   "file_extension": ".py",
   "mimetype": "text/x-python",
   "name": "python",
   "nbconvert_exporter": "python",
   "pygments_lexer": "ipython2",
   "version": "2.7.10"
  }
 },
 "nbformat": 4,
 "nbformat_minor": 0
}
