{
 "cells": [
  {
   "cell_type": "code",
   "execution_count": 1,
   "metadata": {
    "collapsed": false,
    "scrolled": true
   },
   "outputs": [],
   "source": [
    "import numpy as np\n",
    "import matplotlib.pyplot as plt\n",
    "from sklearn.metrics import accuracy_score\n",
    "from sklearn.preprocessing import scale\n",
    "from sklearn.cross_validation import train_test_split, ShuffleSplit\n",
    "from classifiers import TransparentLogisticRegression, TransparentLinearRegression\n",
    "from matplotlib import pylab as pl\n",
    "from scipy.sparse import diags\n",
    "from IPython import display\n",
    "from scale import decision_tree_scale\n",
    "from IPython.display import display, HTML\n",
    "from ipy_table import *"
   ]
  },
  {
   "cell_type": "code",
   "execution_count": 2,
   "metadata": {
    "collapsed": true
   },
   "outputs": [],
   "source": [
    "# calculate # of instances between mean and splitting points for each feature\n",
    "def get_num_instances(X, mean1, mean2):\n",
    "    # m is # of instances, n is # of features, also the length of mean1 and mean2\n",
    "    m, n = np.shape(X)\n",
    "    result = []\n",
    "    for i in range(n):\n",
    "        current_feature = X[:,i]\n",
    "        if mean1[i]>mean2[i]:\n",
    "            a = mean2[i]\n",
    "            b = mean1[i]\n",
    "        else:\n",
    "            a = mean1[i]\n",
    "            b = mean2[i]\n",
    "        num = ((current_feature > a) & (current_feature < b)).sum()\n",
    "        result.append(num)\n",
    "   \n",
    "    return result"
   ]
  },
  {
   "cell_type": "code",
   "execution_count": 3,
   "metadata": {
    "collapsed": true
   },
   "outputs": [],
   "source": [
    "def transform(X, mns, sstd, axis=0):\n",
    "    X = np.asanyarray(X)\n",
    "    if axis and mns.ndim < X.ndim:\n",
    "\n",
    "        return ((X - np.expand_dims(mns, axis=axis)) /\n",
    "                    np.expand_dims(sstd, axis=axis))\n",
    "    else:\n",
    "\n",
    "        return (X - mns) / sstd"
   ]
  },
  {
   "cell_type": "code",
   "execution_count": 4,
   "metadata": {
    "collapsed": false
   },
   "outputs": [],
   "source": [
    "# combine header and table \n",
    "def combine_table(header, table):\n",
    "\n",
    "    result = np.concatenate((header, table), axis=0)\n",
    "    return result"
   ]
  },
  {
   "cell_type": "code",
   "execution_count": 5,
   "metadata": {
    "collapsed": false,
    "scrolled": true
   },
   "outputs": [],
   "source": [
    "#diabetes  http://archive.ics.uci.edu/ml/datasets/Pima+Indians+Diabetes\n",
    "# ['preg' 'plas' 'pres' 'skin' 'insu' 'mass' 'pedi' 'age']\n",
    "# preg: the # of pregnant \n",
    "# plas: Plasma glucose concentration a 2 hours in an oral glucose tolerance test \n",
    "# pres: Diastolic blood pressure\n",
    "# skin: Triceps skin fold thickness\n",
    "# insu: 2-Hour serum insulin\n",
    "# mass: Body mass index\n",
    "# pedi: Diabetes pedigree function \n",
    "# Age \n",
    "\n",
    "dataset = \"diabetes.csv\"\n",
    "class_index = 8\n",
    "num_cols = 9\n",
    "classes= ['tested_negative', 'tested_positive']\n",
    "read_cols = [i for i in range(num_cols) if i != class_index]\n",
    "file_path = \"D:\\\\IIT_Master\\\\2016 Spring\\\\CS597\\\\uci\\\\uci\\\\uci-tar\\\\nominal\\\\\"+dataset"
   ]
  },
  {
   "cell_type": "code",
   "execution_count": 6,
   "metadata": {
    "collapsed": false,
    "scrolled": true
   },
   "outputs": [],
   "source": [
    "with open(file_path, 'r') as f:\n",
    "    header = f.readline()\n",
    "    #print header\n",
    "    #header = np.fromstring(\"a, b\", dtype=np.str_, sep=',')\n",
    "    header = np.array(header.split(','))\n",
    "    feature_names = header[read_cols]"
   ]
  },
  {
   "cell_type": "code",
   "execution_count": 7,
   "metadata": {
    "collapsed": false,
    "scrolled": true
   },
   "outputs": [
    {
     "name": "stdout",
     "output_type": "stream",
     "text": [
      "The shape of this data set: (768L, 8L)\n"
     ]
    }
   ],
   "source": [
    "# Loading the data and splitting the train, test\n",
    "\n",
    "X = np.loadtxt(file_path, dtype=float, delimiter=\",\", skiprows=1, \\\n",
    "                   usecols=read_cols)\n",
    "y = np.loadtxt(file_path, dtype=int, delimiter=\",\", skiprows=1, \\\n",
    "                   usecols=(class_index,), converters={class_index: lambda x: classes.index(x)})\n",
    "\n",
    "num_inst, num_feat = np.shape(X)\n",
    "print \"The shape of this data set:\",np.shape(X)"
   ]
  },
  {
   "cell_type": "code",
   "execution_count": 8,
   "metadata": {
    "collapsed": false
   },
   "outputs": [
    {
     "name": "stdout",
     "output_type": "stream",
     "text": [
      "[   3.84505208  120.89453125   69.10546875   20.53645833   79.79947917\n",
      "   31.99257812    0.4718763    33.24088542]\n",
      "[   6.5     127.5      69.       31.5     121.       27.85      0.5275\n",
      "   28.5   ]\n"
     ]
    }
   ],
   "source": [
    "clf_ori = TransparentLogisticRegression()\n",
    "clf_ss = TransparentLogisticRegression()\n",
    "clf_ig = TransparentLogisticRegression()\n",
    "\n",
    "# Original feature\n",
    "\n",
    "X_ori = np.copy(X)\n",
    "\n",
    "X_min_ori = np.min(X_ori, axis=0)\n",
    "X_max_ori = np.max(X_ori, axis=0)\n",
    "\n",
    "# standard scaling \n",
    "\n",
    "X_ss = scale(X)\n",
    "\n",
    "X_mean_ss = np.mean(X, axis=0)\n",
    "X_std_ss = np.std(X, axis=0)\n",
    "\n",
    "\n",
    "\n",
    "# Information scaling\n",
    "\n",
    "X_ig = clf_ig.fit_transform(X, y)\n",
    "\n",
    "clf_ori.fit(X_ori, y)\n",
    "clf_ss.fit(X_ss, y)\n",
    "clf_ig.fit(X_ig, y)\n",
    "\n",
    "print X_mean_ss\n",
    "print clf_ig.mns"
   ]
  },
  {
   "cell_type": "code",
   "execution_count": 9,
   "metadata": {
    "collapsed": false
   },
   "outputs": [
    {
     "name": "stdout",
     "output_type": "stream",
     "text": [
      "[-5.89260365]\n",
      "[-0.85880534]\n",
      "[-0.71586814]\n"
     ]
    },
    {
     "data": {
      "text/html": [
       "<table border=\"1\" cellpadding=\"3\" cellspacing=\"0\"  style=\"border:1px solid black;border-collapse:collapse;\"><tr><td>preg</td><td>0.117062575265</td><td>0.407944199446</td><td>0.526243465785</td></tr><tr><td>plas</td><td>0.0283896431082</td><td>1.10555527346</td><td>1.13179009702</td></tr><tr><td>pres</td><td>-0.0168879917929</td><td>-0.250494932252</td><td>-0.249873315781</td></tr><tr><td>skin</td><td>0.000755653163125</td><td>0.0091394392303</td><td>0.0186791703777</td></tr><tr><td>insu</td><td>-0.000642933010045</td><td>-0.130888986405</td><td>-0.13907745844</td></tr><tr><td>mass</td><td>0.0597777103346</td><td>0.6944293345</td><td>0.774030193927</td></tr><tr><td>pedi</td><td>0.677457311212</td><td>0.30860250762</td><td>0.313735624065</td></tr><tr><td>age</td><td>0.00724197862592</td><td>0.175762070786</td><td>0.183629923141</td></tr></table>"
      ],
      "text/plain": [
       "<ipy_table.IpyTable at 0x1ae6e6d8>"
      ]
     },
     "metadata": {},
     "output_type": "display_data"
    }
   ],
   "source": [
    "print clf_ori.intercept_\n",
    "print clf_ss.intercept_\n",
    "print clf_ig.intercept_\n",
    "\n",
    "array1 = np.array([feature_names, clf_ori.coef_[0], clf_ss.coef_[0], clf_ig.coef_[0]])\n",
    "\n",
    "display(make_table(array1.T))"
   ]
  },
  {
   "cell_type": "code",
   "execution_count": 10,
   "metadata": {
    "collapsed": false
   },
   "outputs": [
    {
     "data": {
      "text/html": [
       "<table border=\"1\" cellpadding=\"3\" cellspacing=\"0\"  style=\"border:1px solid black;border-collapse:collapse;\"><tr><td>0.0000</td><td>0.0000</td><td>0.0000</td><td>0.0000</td><td>0.0000</td><td>0.0000</td><td>0.0780</td><td>21.0000</td></tr><tr><td>17.0000</td><td>199.0000</td><td>122.0000</td><td>99.0000</td><td>846.0000</td><td>67.1000</td><td>2.4200</td><td>81.0000</td></tr></table>"
      ],
      "text/plain": [
       "<ipy_table.IpyTable at 0x1ae5e400>"
      ]
     },
     "metadata": {},
     "output_type": "display_data"
    }
   ],
   "source": [
    "X_test_ori = np.array([X_min_ori, X_max_ori])\n",
    "display(make_table(X_test_ori))"
   ]
  },
  {
   "cell_type": "code",
   "execution_count": 23,
   "metadata": {
    "collapsed": false
   },
   "outputs": [
    {
     "name": "stdout",
     "output_type": "stream",
     "text": [
      "(array([-1.73315013]), array([ 1.73205965]))\n",
      "[[ 0.49953394  0.50046606]]\n",
      "[[ 0.50027262  0.49972738]]\n",
      "-0.000738680320287\n"
     ]
    }
   ],
   "source": [
    "most_difference2 = [[2, 131, 105, 43, 85, 41.5, 0.84, 34]]\n",
    "\n",
    "most_difference_ss2 = transform(most_difference2, X_mean_ss, X_std_ss)\n",
    "most_difference_ig2 = clf_ig.transform(most_difference2)\n",
    "\n",
    "\n",
    "\n",
    "a = clf_ss.predict_proba(most_difference_ss2)\n",
    "b = clf_ig.predict_proba(most_difference_ig2)\n",
    "\n",
    "predict_evidences_ig = clf_ig.predict_evidences(most_difference_ig2)\n",
    "\n",
    "print predict_evidences_ig\n",
    "\n",
    "print a \n",
    "print b \n",
    "\n",
    "print a[0][0] - b[0][0]"
   ]
  },
  {
   "cell_type": "code",
   "execution_count": 12,
   "metadata": {
    "collapsed": true
   },
   "outputs": [],
   "source": [
    "# 2 109 92 0 0 42.7 0.845 54 tested_negative\n",
    "\n",
    "# 0\t137\t40\t35\t168\t43.1\t2.288\t33\ttested_positive\n",
    "# 0\t100\t88\t60\t110\t46.8\t0.962\t31\ttested_negative\n",
    "# 10\t101\t86\t37\t0\t45.6\t1.136\t38\ttested_positive\n",
    "# 2\t128\t78\t37\t182\t43.3\t1.224\t31\ttested_positive\n",
    "# 0\t93\t100\t39\t72\t43.4\t1.021\t35\ttested_negative\n",
    "# 11\t111\t84\t40\t0\t46.8\t0.925\t45\ttested_positive\n",
    "# 1\t81\t74\t41\t57\t46.3\t1.096\t32\ttested_negative\n",
    "\n"
   ]
  },
  {
   "cell_type": "code",
   "execution_count": null,
   "metadata": {
    "collapsed": true
   },
   "outputs": [],
   "source": []
  }
 ],
 "metadata": {
  "kernelspec": {
   "display_name": "Python 2",
   "language": "python",
   "name": "python2"
  },
  "language_info": {
   "codemirror_mode": {
    "name": "ipython",
    "version": 2
   },
   "file_extension": ".py",
   "mimetype": "text/x-python",
   "name": "python",
   "nbconvert_exporter": "python",
   "pygments_lexer": "ipython2",
   "version": "2.7.10"
  }
 },
 "nbformat": 4,
 "nbformat_minor": 0
}
