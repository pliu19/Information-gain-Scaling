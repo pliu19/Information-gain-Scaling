{
 "cells": [
  {
   "cell_type": "code",
   "execution_count": 1,
   "metadata": {
    "collapsed": false,
    "scrolled": true
   },
   "outputs": [],
   "source": [
    "import numpy as np\n",
    "import matplotlib.pyplot as plt\n",
    "from sklearn.metrics import accuracy_score\n",
    "from sklearn.preprocessing import scale\n",
    "from sklearn.cross_validation import train_test_split, ShuffleSplit\n",
    "from classifiers import TransparentLogisticRegression, TransparentLinearRegression\n",
    "from matplotlib import pylab as pl\n",
    "from scipy.sparse import diags\n",
    "from IPython import display\n",
    "from scale import decision_tree_scale\n",
    "from IPython.display import display, HTML\n",
    "from ipy_table import *"
   ]
  },
  {
   "cell_type": "code",
   "execution_count": 2,
   "metadata": {
    "collapsed": true
   },
   "outputs": [],
   "source": [
    "# calculate # of instances between mean and splitting points for each feature\n",
    "def get_num_instances(X, mean1, mean2):\n",
    "    # m is # of instances, n is # of features, also the length of mean1 and mean2\n",
    "    m, n = np.shape(X)\n",
    "    result = []\n",
    "    for i in range(n):\n",
    "        current_feature = X[:,i]\n",
    "        if mean1[i]>mean2[i]:\n",
    "            a = mean2[i]\n",
    "            b = mean1[i]\n",
    "        else:\n",
    "            a = mean1[i]\n",
    "            b = mean2[i]\n",
    "        num = ((current_feature > a) & (current_feature < b)).sum()\n",
    "        result.append(num)\n",
    "   \n",
    "    return result"
   ]
  },
  {
   "cell_type": "code",
   "execution_count": 3,
   "metadata": {
    "collapsed": false
   },
   "outputs": [],
   "source": [
    "# combine header and table \n",
    "def combine_table(header, table):\n",
    "\n",
    "    result = np.concatenate((header, table), axis=0)\n",
    "    return result"
   ]
  },
  {
   "cell_type": "code",
   "execution_count": 4,
   "metadata": {
    "collapsed": false
   },
   "outputs": [],
   "source": [
    "# All information for test instances\n",
    "class instance():\n",
    "    def __init__(self, feature_name, ori_features, ss_features, ig_features, clf_ori, clf_ss, clf_ig):\n",
    "        \n",
    "        self.feature_name = feature_name\n",
    "        self.ori_features = ori_features\n",
    "        self.ss_features = ss_features\n",
    "        self.ig_features = ig_features\n",
    "        self.clf_ori = clf_ori\n",
    "        self.clf_ss = clf_ss\n",
    "        self.clf_ig = clf_ig\n",
    "        \n",
    "        self.neg_evi_ori, self.pos_evi_ori = self.evidence_prediction(self.clf_ori, self.ori_features)\n",
    "        self.neg_evi_ss, self.pos_evi_ss = self.evidence_prediction(self.clf_ss, self.ss_features)\n",
    "        self.neg_evi_ig, self.pos_evi_ig = self.evidence_prediction(self.clf_ig, self.ig_features)\n",
    "        \n",
    "        self.proba_ori = self.proba_prediction(self.clf_ori, self.ori_features)\n",
    "        self.proba_ss = self.proba_prediction(self.clf_ss, self.ss_features)\n",
    "        self.proba_ig = self.proba_prediction(self.clf_ig, self.ig_features)\n",
    "                       \n",
    "    def get_information(self, category):\n",
    "        \n",
    "        other_info = ['Bias', 'Neg_evi', 'Pos_evi','Proba']\n",
    "        \n",
    "        header = [['Features', 'Ori_value', 'ss_value', 'ig_value','w * v']]\n",
    "        \n",
    "        ori_evidence = np.multiply(self.ori_features, self.clf_ori.coef_).flatten()\n",
    "        ss_evidence = np.multiply(self.ss_features, self.clf_ss.coef_).flatten()\n",
    "        ig_evidence = np.multiply(self.ig_features, self.clf_ig.coef_).flatten()\n",
    "        \n",
    "        ori_features_round = np.around(self.ori_features, decimals=2)\n",
    "        ss_features_round = np.around(self.ss_features, decimals=2)\n",
    "        ig_features_round = np.around(self.ig_features, decimals=2)\n",
    "        \n",
    "        self.neg_evi_ori = np.around(self.neg_evi_ori, decimals=2); self.pos_evi_ori = np.around(self.pos_evi_ori, decimals=2)\n",
    "        self.neg_evi_ss = np.around(self.neg_evi_ss, decimals=2); self.pos_evi_ss = np.around(self.pos_evi_ss, decimals=2)\n",
    "        self.neg_evi_ig = np.around(self.neg_evi_ig, decimals=2); self.pos_evi_ig = np.around(self.pos_evi_ig, decimals=2)\n",
    "        \n",
    "        self.proba_ori = np.around(self.proba_ori[0], decimals=3)\n",
    "        self.proba_ss = np.around(self.proba_ss[0], decimals=3)\n",
    "        self.proba_ig = np.around(self.proba_ig[0], decimals=3)\n",
    "        \n",
    "        intercept_ori = round(self.clf_ori.intercept_[0], 2)\n",
    "        intercept_ss = round(self.clf_ss.intercept_[0], 2)\n",
    "        intercept_ig = round(self.clf_ig.intercept_[0], 2)\n",
    "        \n",
    "        if category==1:\n",
    "            \n",
    "            # print \"This is ori classifier: \"\n",
    "            current_evidence = np.around(ori_evidence, decimals=2)\n",
    "            value_array = np.array([self.feature_name, ori_features_round, ss_features_round, ig_features_round, current_evidence])\n",
    "            value_array = combine_table(header, value_array.T)\n",
    "            \n",
    "            bias_list = np.array(['Bias', intercept_ori, intercept_ss, intercept_ig, 'None'])\n",
    "            neg_list = np.array(['Neg_evi', self.neg_evi_ori[0], self.neg_evi_ss[0], self.neg_evi_ig[0], 'None'])\n",
    "            pos_list = np.array(['Pos_evi', self.pos_evi_ori[0], self.pos_evi_ss[0], self.pos_evi_ig[0], 'None'])\n",
    "            prob_list = np.array(['Proba', str(self.proba_ori), str(self.proba_ss), str(self.proba_ig), 'None'])\n",
    "            \n",
    "            other_array = np.array([bias_list, neg_list, pos_list, prob_list])\n",
    "            \n",
    "            result = np.concatenate((value_array, other_array), axis=0)               \n",
    "            return make_table(result)\n",
    "        \n",
    "        elif category==2:\n",
    "            \n",
    "            # print \"This is ss classifier: \"\n",
    "            current_evidence = np.around(ss_evidence, decimals=2)\n",
    "            value_array = np.array([self.feature_name, ori_features_round, ss_features_round, ig_features_round, current_evidence])\n",
    "            value_array = combine_table(header, value_array.T)\n",
    "            \n",
    "            bias_list = np.array(['Bias', intercept_ori, intercept_ss, intercept_ig, 'None'])\n",
    "            neg_list = np.array(['Neg_evi', self.neg_evi_ori[0], self.neg_evi_ss[0], self.neg_evi_ig[0], 'None'])\n",
    "            pos_list = np.array(['Pos_evi', self.pos_evi_ori[0], self.pos_evi_ss[0], self.pos_evi_ig[0], 'None'])\n",
    "            prob_list = np.array(['Proba', str(self.proba_ori), str(self.proba_ss), str(self.proba_ig), 'None'])\n",
    "            \n",
    "            other_array = np.array([bias_list, neg_list, pos_list, prob_list])\n",
    "            \n",
    "            result = np.concatenate((value_array, other_array), axis=0)               \n",
    "            return make_table(result)        \n",
    "                \n",
    "        elif category==3:\n",
    "            \n",
    "            # print \"This is ig classifier: \"\n",
    "            current_evidence = np.around(ig_evidence, decimals=2)\n",
    "            value_array = np.array([self.feature_name, ori_features_round, ss_features_round, ig_features_round, current_evidence])\n",
    "            value_array = combine_table(header, value_array.T)\n",
    "            \n",
    "            bias_list = np.array(['Bias', intercept_ori, intercept_ss, intercept_ig, 'None'])\n",
    "            neg_list = np.array(['Neg_evi', self.neg_evi_ori[0], self.neg_evi_ss[0], self.neg_evi_ig[0], 'None'])\n",
    "            pos_list = np.array(['Pos_evi', self.pos_evi_ori[0], self.pos_evi_ss[0], self.pos_evi_ig[0], 'None'])\n",
    "            prob_list = np.array(['Proba', str(self.proba_ori), str(self.proba_ss), str(self.proba_ig), 'None'])\n",
    "            \n",
    "            other_array = np.array([bias_list, neg_list, pos_list, prob_list])\n",
    "            \n",
    "            result = np.concatenate((value_array, other_array), axis=0)              \n",
    "            return make_table(result)        \n",
    "             \n",
    "        else:\n",
    "            \n",
    "            raise \"Error\"\n",
    "            \n",
    "    def evidence_prediction(self, clf, features):\n",
    "        \n",
    "        features = features.reshape((1,-1))\n",
    "        neg_evi, pos_evi = clf.predict_evidences(features)\n",
    "        return neg_evi, pos_evi\n",
    "    \n",
    "    def proba_prediction(self, clf, features):\n",
    "        features = features.reshape((1,-1))\n",
    "        proba = clf.predict_proba(features)\n",
    "        return proba"
   ]
  },
  {
   "cell_type": "code",
   "execution_count": 5,
   "metadata": {
    "collapsed": false,
    "scrolled": true
   },
   "outputs": [],
   "source": [
    "#diabetes  http://archive.ics.uci.edu/ml/datasets/Pima+Indians+Diabetes\n",
    "# ['preg' 'plas' 'pres' 'skin' 'insu' 'mass' 'pedi' 'age']\n",
    "# preg: the # of pregnant \n",
    "# plas: Plasma glucose concentration a 2 hours in an oral glucose tolerance test \n",
    "# pres: Diastolic blood pressure\n",
    "# skin: Triceps skin fold thickness\n",
    "# insu: 2-Hour serum insulin\n",
    "# mass: Body mass index\n",
    "# pedi: Diabetes pedigree function \n",
    "# Age \n",
    "\n",
    "dataset = \"diabetes.csv\"\n",
    "class_index = 8\n",
    "num_cols = 9\n",
    "classes= ['tested_negative', 'tested_positive']\n",
    "\n",
    "read_cols = [i for i in range(num_cols) if i != class_index]\n",
    "file_path = \"D:\\\\IIT_Master\\\\2016 Spring\\\\CS597\\\\uci\\\\uci\\\\uci-tar\\\\nominal\\\\\"+dataset"
   ]
  },
  {
   "cell_type": "code",
   "execution_count": 6,
   "metadata": {
    "collapsed": false,
    "scrolled": true
   },
   "outputs": [],
   "source": [
    "with open(file_path, 'r') as f:\n",
    "    header = f.readline()\n",
    "    #print header\n",
    "    #header = np.fromstring(\"a, b\", dtype=np.str_, sep=',')\n",
    "    header = np.array(header.split(','))\n",
    "    feature_names = header[read_cols]"
   ]
  },
  {
   "cell_type": "code",
   "execution_count": 7,
   "metadata": {
    "collapsed": false,
    "scrolled": true
   },
   "outputs": [
    {
     "name": "stdout",
     "output_type": "stream",
     "text": [
      "The shape of this data set: (768L, 8L)\n",
      "# of test instances:  254\n"
     ]
    }
   ],
   "source": [
    "# Loading the data and splitting the train, test\n",
    "\n",
    "X = np.loadtxt(file_path, dtype=float, delimiter=\",\", skiprows=1, \\\n",
    "                   usecols=read_cols)\n",
    "y = np.loadtxt(file_path, dtype=int, delimiter=\",\", skiprows=1, \\\n",
    "                   usecols=(class_index,), converters={class_index: lambda x: classes.index(x)})\n",
    "\n",
    "num_inst, num_feat = np.shape(X)\n",
    "print \"The shape of this data set:\",np.shape(X)\n",
    "\n",
    "ss = ShuffleSplit(num_inst, n_iter=1, test_size=0.33, random_state=40)\n",
    "\n",
    "for i, j in ss:\n",
    "    train_index = i \n",
    "    test_index = j\n",
    "    \n",
    "y_train = y[train_index]\n",
    "y_test = y[test_index]\n",
    "\n",
    "print \"# of test instances: \",len(y_test)"
   ]
  },
  {
   "cell_type": "code",
   "execution_count": 8,
   "metadata": {
    "collapsed": false,
    "scrolled": true
   },
   "outputs": [],
   "source": [
    "# Determine binary features\n",
    "num_features = X.shape[1]\n",
    "non_binary = []\n",
    "binary = []\n",
    "for i in range(num_features):\n",
    "    if len(np.unique(X[:,i])) != 2:\n",
    "        non_binary.append(i)\n",
    "    else:\n",
    "        binary.append(i)"
   ]
  },
  {
   "cell_type": "code",
   "execution_count": 9,
   "metadata": {
    "collapsed": false,
    "scrolled": true
   },
   "outputs": [
    {
     "name": "stdout",
     "output_type": "stream",
     "text": [
      "IG Scale for non_binary features -- Train\n",
      "IG Scale for non_binary features -- Test\n"
     ]
    }
   ],
   "source": [
    "# Original features\n",
    "X_original = np.copy(X)\n",
    "\n",
    "X_train_ori = X_original[train_index]\n",
    "X_test_ori = X_original[test_index]\n",
    "\n",
    "# Standard scale non binary features\n",
    "X_ss = np.copy(X)\n",
    "\n",
    "if len(non_binary) > 0:\n",
    "    X_ss[:,non_binary]=scale(X[:,non_binary])\n",
    "    \n",
    "if len(binary) > 0: \n",
    "    print \"binary features exist\"\n",
    "    X_b = X_ss[:,binary]\n",
    "    X_b[X_b == 0] = -1\n",
    "    X_ss[:,binary] = X_b\n",
    "    \n",
    "X_train_ss = X_ss[train_index]\n",
    "X_test_ss = X_ss[test_index]\n",
    "\n",
    "# Information gain scaling non binary features\n",
    "\n",
    "X_ig = np.copy(X_original)\n",
    "scale_ = decision_tree_scale()\n",
    "\n",
    "X_train_ig = X_ig[train_index]\n",
    "X_test_ig = X_ig[test_index]\n",
    "\n",
    "if len(non_binary) > 0: \n",
    "    print \"IG Scale for non_binary features -- Train\"\n",
    "    X_train_ig[:,non_binary]=scale_.fit_transform(X_train_ig[:,non_binary], y_train)\n",
    "\n",
    "if len(binary) > 0: \n",
    "    print \"binary features exist\"\n",
    "    X_b = X_train_ig[:,binary]\n",
    "    X_b[X_b == 0] = -1\n",
    "    X_train_ig[:,binary] = X_b\n",
    "    \n",
    "if len(non_binary) > 0:\n",
    "    \n",
    "    print \"IG Scale for non_binary features -- Test\"\n",
    "    X_test_ig[:,non_binary]=scale_.transform(X_test_ig[:,non_binary])\n",
    "    \n",
    "if len(binary) > 0:\n",
    "    \n",
    "    print \"binary features exist\"\n",
    "    X_b = X_test_ig[:,binary]\n",
    "    X_b[X_b == 0] = -1\n",
    "    X_test_ig[:,binary] = X_b"
   ]
  },
  {
   "cell_type": "code",
   "execution_count": 10,
   "metadata": {
    "collapsed": false,
    "scrolled": false
   },
   "outputs": [
    {
     "data": {
      "text/html": [
       "<table border=\"1\" cellpadding=\"3\" cellspacing=\"0\"  style=\"border:1px solid black;border-collapse:collapse;\"><tr><td>Features</td><td>mean</td><td>splitting</td><td>#&nbspof&nbsptrain</td><td>#&nbspof&nbsptest</td><td>#&nbspof&nbsptotal</td></tr><tr><td>preg</td><td>3.85</td><td>6.5</td><td>118</td><td>57</td><td>175</td></tr><tr><td>plas</td><td>120.89</td><td>127.5</td><td>43</td><td>23</td><td>66</td></tr><tr><td>pres</td><td>69.11</td><td>69.0</td><td>0</td><td>0</td><td>0</td></tr><tr><td>skin</td><td>20.54</td><td>28.5</td><td>81</td><td>54</td><td>135</td></tr><tr><td>insu</td><td>79.8</td><td>122.5</td><td>57</td><td>32</td><td>89</td></tr><tr><td>mass</td><td>31.99</td><td>26.9</td><td>129</td><td>61</td><td>190</td></tr><tr><td>pedi</td><td>0.47</td><td>0.24</td><td>196</td><td>95</td><td>291</td></tr><tr><td>age</td><td>33.24</td><td>28.5</td><td>75</td><td>32</td><td>107</td></tr></table>"
      ],
      "text/plain": [
       "<ipy_table.IpyTable at 0x3eeb630>"
      ]
     },
     "execution_count": 10,
     "metadata": {},
     "output_type": "execute_result"
    }
   ],
   "source": [
    "num_train = get_num_instances(X_train_ori, np.mean(X, axis=0), scale_.mns)\n",
    "num_test = get_num_instances(X_test_ori, np.mean(X, axis=0), scale_.mns)\n",
    "num_all = get_num_instances(X, np.mean(X, axis=0), scale_.mns)\n",
    "\n",
    "mean = np.around(np.mean(X, axis=0), decimals=2)\n",
    "splitting = np.around(scale_.mns, decimals=2)\n",
    "\n",
    "table1_header = [['Features', 'mean', 'splitting', '# of train', '# of test', '# of total']]\n",
    "\n",
    "result1 = np.array([header[:class_index].tolist(), mean.tolist(), splitting.tolist(), num_train, num_test, num_all])\n",
    "result1 = combine_table(table1_header,result1.T)\n",
    "\n",
    "make_table(result1)"
   ]
  },
  {
   "cell_type": "code",
   "execution_count": 11,
   "metadata": {
    "collapsed": false,
    "scrolled": true
   },
   "outputs": [
    {
     "name": "stdout",
     "output_type": "stream",
     "text": [
      "[[ 0.1439551   0.02524085 -0.01827704  0.00804746 -0.00147434  0.0478546\n",
      "   0.70378772  0.00439795]]\n"
     ]
    }
   ],
   "source": [
    "# fit train instances for each classifier\n",
    "\n",
    "clf_ori = TransparentLogisticRegression()\n",
    "clf_ss = TransparentLogisticRegression()\n",
    "clf_ig = TransparentLogisticRegression()\n",
    "\n",
    "clf_ori.fit(X_train_ori, y_train)\n",
    "clf_ss.fit(X_train_ss, y_train)\n",
    "clf_ig.fit(X_train_ig, y_train)\n",
    "\n",
    "print clf_ori.coef_"
   ]
  },
  {
   "cell_type": "code",
   "execution_count": 12,
   "metadata": {
    "collapsed": false
   },
   "outputs": [
    {
     "data": {
      "text/plain": [
       "TransparentLinearRegression(copy_X=True, fit_intercept=True, n_jobs=1,\n",
       "              normalize=False)"
      ]
     },
     "execution_count": 12,
     "metadata": {},
     "output_type": "execute_result"
    }
   ],
   "source": [
    "clf_linear_ori = TransparentLinearRegression()\n",
    "clf_linear_ss = TransparentLinearRegression()\n",
    "clf_linear_ig = TransparentLinearRegression()\n",
    "\n",
    "y_linear_train = np.copy(y_train)\n",
    "y_linear_train[y_linear_train == 0] = -1\n",
    "\n",
    "clf_linear_ori.fit(X_train_ori, y_linear_train)\n",
    "clf_linear_ss.fit(X_train_ss, y_linear_train)\n",
    "clf_linear_ig.fit(X_train_ig, y_linear_train)"
   ]
  },
  {
   "cell_type": "code",
   "execution_count": 13,
   "metadata": {
    "collapsed": false,
    "scrolled": true
   },
   "outputs": [
    {
     "data": {
      "text/html": [
       "<table border=\"1\" cellpadding=\"3\" cellspacing=\"0\"  style=\"border:1px solid black;border-collapse:collapse;\"><tr><td>Features</td><td>ori_weight</td><td>ss_weight</td><td>ig_weight</td><td>ori_linear_w</td><td>ss_linear_w</td><td>ig_linear_w</td></tr><tr><td>Bias</td><td>-5.214</td><td>-0.957</td><td>-1.001</td><td>-2.647</td><td>-0.344</td><td>-0.342</td></tr><tr><td>preg</td><td>0.144</td><td>0.53</td><td>0.687</td><td>0.056</td><td>0.188</td><td>0.24</td></tr><tr><td>plas</td><td>0.025</td><td>1.054</td><td>1.047</td><td>0.012</td><td>0.368</td><td>0.364</td></tr><tr><td>pres</td><td>-0.018</td><td>-0.281</td><td>-0.295</td><td>-0.005</td><td>-0.101</td><td>-0.107</td></tr><tr><td>skin</td><td>0.008</td><td>0.135</td><td>0.169</td><td>0.003</td><td>0.048</td><td>0.056</td></tr><tr><td>insu</td><td>-0.001</td><td>-0.245</td><td>-0.255</td><td>-0.001</td><td>-0.086</td><td>-0.09</td></tr><tr><td>mass</td><td>0.048</td><td>0.626</td><td>0.735</td><td>0.024</td><td>0.19</td><td>0.23</td></tr><tr><td>pedi</td><td>0.704</td><td>0.328</td><td>0.388</td><td>0.31</td><td>0.103</td><td>0.126</td></tr><tr><td>age</td><td>0.004</td><td>0.158</td><td>0.155</td><td>0.004</td><td>0.049</td><td>0.051</td></tr></table>"
      ],
      "text/plain": [
       "<ipy_table.IpyTable at 0x1ae5e240>"
      ]
     },
     "execution_count": 13,
     "metadata": {},
     "output_type": "execute_result"
    }
   ],
   "source": [
    "# print the weights for each classifiers\n",
    "\n",
    "ori_weight = list(clf_ori.intercept_)+ clf_ori.coef_[0].tolist()\n",
    "ss_weight = list(clf_ss.intercept_)+ clf_ss.coef_[0].tolist()\n",
    "ig_weight = list(clf_ig.intercept_)+ clf_ig.coef_[0].tolist()\n",
    "\n",
    "ori_weight = np.around(ori_weight, decimals=3)\n",
    "ss_weight = np.around(ss_weight, decimals=3)\n",
    "ig_weight = np.around(ig_weight, decimals=3)\n",
    "\n",
    "ori_linear_weight = [clf_linear_ori.intercept_]\n",
    "ori_linear_weight = ori_linear_weight + clf_linear_ori.coef_.tolist()\n",
    "\n",
    "ss_linear_weight = [clf_linear_ss.intercept_]\n",
    "ss_linear_weight = ss_linear_weight + clf_linear_ss.coef_.tolist()\n",
    "\n",
    "ig_linear_weight = [clf_linear_ig.intercept_]\n",
    "ig_linear_weight = ig_linear_weight + clf_linear_ig.coef_.tolist()\n",
    "\n",
    "ori_linear_weight = np.around(ori_linear_weight, decimals=3)\n",
    "ss_linear_weight = np.around(ss_linear_weight, decimals=3)\n",
    "ig_linear_weight = np.around(ig_linear_weight, decimals=3)\n",
    "\n",
    "\n",
    "table2_header = [['Features', 'ori_weight', 'ss_weight', 'ig_weight', 'ori_linear_w', 'ss_linear_w', 'ig_linear_w']]\n",
    "features = ['Bias']\n",
    "features.extend(header[:class_index].tolist())\n",
    "table2 = np.array([features, ori_weight, ss_weight, ig_weight, ori_linear_weight, ss_linear_weight, ig_linear_weight])\n",
    "\n",
    "result2 = combine_table(table2_header,table2.T)\n",
    "\n",
    "make_table(result2)"
   ]
  },
  {
   "cell_type": "code",
   "execution_count": 14,
   "metadata": {
    "collapsed": false
   },
   "outputs": [
    {
     "name": "stdout",
     "output_type": "stream",
     "text": [
      "0.732283464567\n",
      "0.732283464567\n",
      "0.740157480315\n"
     ]
    }
   ],
   "source": [
    "# Predict test instances for each classifier\n",
    "\n",
    "y_predict_ori = clf_ori.predict(X_test_ori)\n",
    "y_pred_prob_ori = clf_ori.predict_proba(X_test_ori)\n",
    "neg_evi_ori, pos_evi_ori = clf_ori.predict_evidences(X_test_ori)\n",
    "\n",
    "y_predict_ss = clf_ss.predict(X_test_ss)\n",
    "y_pred_prob_ss = clf_ss.predict_proba(X_test_ss)\n",
    "neg_evi_ss, pos_evi_ss = clf_ss.predict_evidences(X_test_ss)\n",
    "\n",
    "y_predict_ig = clf_ig.predict(X_test_ig)\n",
    "y_pred_prob_ig = clf_ig.predict_proba(X_test_ig)\n",
    "neg_evi_ig, pos_evi_ig = clf_ig.predict_evidences(X_test_ig)\n",
    "\n",
    "print accuracy_score(y_test,y_predict_ori)\n",
    "print accuracy_score(y_test,y_predict_ss)\n",
    "print accuracy_score(y_test,y_predict_ig)"
   ]
  },
  {
   "cell_type": "code",
   "execution_count": 15,
   "metadata": {
    "collapsed": false
   },
   "outputs": [],
   "source": [
    "# most negative, \"tested_negative\" -- Probability\n",
    "\n",
    "# Original features\n",
    "Most_negative_1 = np.argmax(y_pred_prob_ori[:,0])\n",
    "Most_neg_instance_ori = instance(header[:class_index],X_test_ori[Most_negative_1], X_test_ss[Most_negative_1],X_test_ig[Most_negative_1],\n",
    "                              clf_ori, clf_ss, clf_ig)\n",
    "Most_neg_instance_table1 = Most_neg_instance_ori.get_information(1)\n",
    "\n",
    "# standard scaling \n",
    "Most_negative_2 = np.argmax(y_pred_prob_ss[:,0])\n",
    "Most_neg_instance_ss = instance(header[:class_index],X_test_ori[Most_negative_2], X_test_ss[Most_negative_2],X_test_ig[Most_negative_2],\n",
    "                              clf_ori, clf_ss, clf_ig)\n",
    "Most_neg_instance_table2 = Most_neg_instance_ss.get_information(2)\n",
    "\n",
    "# Information gain scaling\n",
    "Most_negative_3 = np.argmax(y_pred_prob_ig[:,0])\n",
    "Most_neg_instance_ig = instance(header[:class_index],X_test_ori[Most_negative_3], X_test_ss[Most_negative_3],X_test_ig[Most_negative_3],\n",
    "                              clf_ori, clf_ss, clf_ig)\n",
    "Most_neg_instance_table3 = Most_neg_instance_ig.get_information(3)"
   ]
  },
  {
   "cell_type": "code",
   "execution_count": 16,
   "metadata": {
    "collapsed": false
   },
   "outputs": [
    {
     "name": "stdout",
     "output_type": "stream",
     "text": [
      "Original: Most negative(tested_negative) instances based on probability\n",
      "Index of test:  238\n"
     ]
    },
    {
     "data": {
      "text/html": [
       "<table border=\"1\" cellpadding=\"3\" cellspacing=\"0\"  style=\"border:1px solid black;border-collapse:collapse;\"><tr><td>Features</td><td>Ori_value</td><td>ss_value</td><td>ig_value</td><td>w&nbsp*&nbspv</td></tr><tr><td>preg</td><td>1.0</td><td>-0.84</td><td>-1.28</td><td>0.14</td></tr><tr><td>plas</td><td>0.0</td><td>-3.78</td><td>-4.04</td><td>0.0</td></tr><tr><td>pres</td><td>48.0</td><td>-1.09</td><td>-1.03</td><td>-0.88</td></tr><tr><td>skin</td><td>20.0</td><td>-0.03</td><td>-0.46</td><td>0.16</td></tr><tr><td>insu</td><td>0.0</td><td>-0.69</td><td>-1.01</td><td>-0.0</td></tr><tr><td>mass</td><td>24.7</td><td>-0.93</td><td>-0.23</td><td>1.18</td></tr><tr><td>pedi</td><td>0.14</td><td>-1.0</td><td>-0.24</td><td>0.1</td></tr><tr><td>age</td><td>22.0</td><td>-0.96</td><td>-0.53</td><td>0.1</td></tr><tr><td>Bias</td><td>-5.21</td><td>-0.96</td><td>-1.0</td><td>None</td></tr><tr><td>Neg_evi</td><td>-6.09</td><td>-6.46</td><td>-6.53</td><td>None</td></tr><tr><td>Pos_evi</td><td>1.68</td><td>0.48</td><td>0.56</td><td>None</td></tr><tr><td>Proba</td><td>[&nbsp0.988&nbsp&nbsp0.012]</td><td>[&nbsp0.997&nbsp&nbsp0.003]</td><td>[&nbsp0.997&nbsp&nbsp0.003]</td><td>None</td></tr></table>"
      ],
      "text/plain": [
       "<ipy_table.IpyTable at 0x1ae5e860>"
      ]
     },
     "execution_count": 16,
     "metadata": {},
     "output_type": "execute_result"
    }
   ],
   "source": [
    "print \"Original: Most negative(tested_negative) instances based on probability\"\n",
    "print \"Index of test: \",Most_negative_1\n",
    "Most_neg_instance_table1"
   ]
  },
  {
   "cell_type": "code",
   "execution_count": 17,
   "metadata": {
    "collapsed": false
   },
   "outputs": [
    {
     "name": "stdout",
     "output_type": "stream",
     "text": [
      "Standard scaling: Most negative(tested_negative) instances based on probability\n",
      "Index of test:  238\n"
     ]
    },
    {
     "data": {
      "text/html": [
       "<table border=\"1\" cellpadding=\"3\" cellspacing=\"0\"  style=\"border:1px solid black;border-collapse:collapse;\"><tr><td>Features</td><td>Ori_value</td><td>ss_value</td><td>ig_value</td><td>w&nbsp*&nbspv</td></tr><tr><td>preg</td><td>1.0</td><td>-0.84</td><td>-1.28</td><td>-0.45</td></tr><tr><td>plas</td><td>0.0</td><td>-3.78</td><td>-4.04</td><td>-3.99</td></tr><tr><td>pres</td><td>48.0</td><td>-1.09</td><td>-1.03</td><td>0.31</td></tr><tr><td>skin</td><td>20.0</td><td>-0.03</td><td>-0.46</td><td>0.0</td></tr><tr><td>insu</td><td>0.0</td><td>-0.69</td><td>-1.01</td><td>0.17</td></tr><tr><td>mass</td><td>24.7</td><td>-0.93</td><td>-0.23</td><td>-0.58</td></tr><tr><td>pedi</td><td>0.14</td><td>-1.0</td><td>-0.24</td><td>-0.33</td></tr><tr><td>age</td><td>22.0</td><td>-0.96</td><td>-0.53</td><td>-0.15</td></tr><tr><td>Bias</td><td>-5.21</td><td>-0.96</td><td>-1.0</td><td>None</td></tr><tr><td>Neg_evi</td><td>-6.09</td><td>-6.46</td><td>-6.53</td><td>None</td></tr><tr><td>Pos_evi</td><td>1.68</td><td>0.48</td><td>0.56</td><td>None</td></tr><tr><td>Proba</td><td>[&nbsp0.988&nbsp&nbsp0.012]</td><td>[&nbsp0.997&nbsp&nbsp0.003]</td><td>[&nbsp0.997&nbsp&nbsp0.003]</td><td>None</td></tr></table>"
      ],
      "text/plain": [
       "<ipy_table.IpyTable at 0x1ae5e8d0>"
      ]
     },
     "execution_count": 17,
     "metadata": {},
     "output_type": "execute_result"
    }
   ],
   "source": [
    "print \"Standard scaling: Most negative(tested_negative) instances based on probability\"\n",
    "print \"Index of test: \",Most_negative_2\n",
    "Most_neg_instance_table2"
   ]
  },
  {
   "cell_type": "code",
   "execution_count": 18,
   "metadata": {
    "collapsed": false,
    "scrolled": false
   },
   "outputs": [
    {
     "name": "stdout",
     "output_type": "stream",
     "text": [
      "Information gain scaling: Most negative(tested_negative) instances based on probability\n",
      "Index of test:  238\n"
     ]
    },
    {
     "data": {
      "text/html": [
       "<table border=\"1\" cellpadding=\"3\" cellspacing=\"0\"  style=\"border:1px solid black;border-collapse:collapse;\"><tr><td>Features</td><td>Ori_value</td><td>ss_value</td><td>ig_value</td><td>w&nbsp*&nbspv</td></tr><tr><td>preg</td><td>1.0</td><td>-0.84</td><td>-1.28</td><td>-0.88</td></tr><tr><td>plas</td><td>0.0</td><td>-3.78</td><td>-4.04</td><td>-4.23</td></tr><tr><td>pres</td><td>48.0</td><td>-1.09</td><td>-1.03</td><td>0.3</td></tr><tr><td>skin</td><td>20.0</td><td>-0.03</td><td>-0.46</td><td>-0.08</td></tr><tr><td>insu</td><td>0.0</td><td>-0.69</td><td>-1.01</td><td>0.26</td></tr><tr><td>mass</td><td>24.7</td><td>-0.93</td><td>-0.23</td><td>-0.17</td></tr><tr><td>pedi</td><td>0.14</td><td>-1.0</td><td>-0.24</td><td>-0.09</td></tr><tr><td>age</td><td>22.0</td><td>-0.96</td><td>-0.53</td><td>-0.08</td></tr><tr><td>Bias</td><td>-5.21</td><td>-0.96</td><td>-1.0</td><td>None</td></tr><tr><td>Neg_evi</td><td>-6.09</td><td>-6.46</td><td>-6.53</td><td>None</td></tr><tr><td>Pos_evi</td><td>1.68</td><td>0.48</td><td>0.56</td><td>None</td></tr><tr><td>Proba</td><td>[&nbsp0.988&nbsp&nbsp0.012]</td><td>[&nbsp0.997&nbsp&nbsp0.003]</td><td>[&nbsp0.997&nbsp&nbsp0.003]</td><td>None</td></tr></table>"
      ],
      "text/plain": [
       "<ipy_table.IpyTable at 0x1ae5e208>"
      ]
     },
     "execution_count": 18,
     "metadata": {},
     "output_type": "execute_result"
    }
   ],
   "source": [
    "print \"Information gain scaling: Most negative(tested_negative) instances based on probability\"\n",
    "print \"Index of test: \",Most_negative_3\n",
    "Most_neg_instance_table3"
   ]
  },
  {
   "cell_type": "code",
   "execution_count": 19,
   "metadata": {
    "collapsed": false
   },
   "outputs": [],
   "source": [
    "# most positive, \"tested_positive\" -- Probability\n",
    "\n",
    "# Original featuers\n",
    "Most_positive_1 = np.argmax(y_pred_prob_ori[:,1])\n",
    "Most_pos_instance_ori = instance(header[:class_index],X_test_ori[Most_positive_1], X_test_ss[Most_positive_1],X_test_ig[Most_positive_1],\n",
    "                              clf_ori, clf_ss, clf_ig)\n",
    "Most_pos_instance_table1 = Most_pos_instance_ori.get_information(1)\n",
    "\n",
    "# standard scaling\n",
    "Most_positive_2 = np.argmax(y_pred_prob_ss[:,1])\n",
    "Most_pos_instance_ss = instance(header[:class_index],X_test_ori[Most_positive_2], X_test_ss[Most_positive_2],X_test_ig[Most_positive_2],\n",
    "                              clf_ori, clf_ss, clf_ig)\n",
    "Most_pos_instance_table2 = Most_pos_instance_ss.get_information(2)\n",
    "\n",
    "# Information gain scaling\n",
    "Most_positive_3 = np.argmax(y_pred_prob_ig[:,1])\n",
    "Most_pos_instance_ig = instance(header[:class_index],X_test_ori[Most_positive_3], X_test_ss[Most_positive_3],X_test_ig[Most_positive_3],\n",
    "                              clf_ori, clf_ss, clf_ig)\n",
    "Most_pos_instance_table3 = Most_pos_instance_ig.get_information(3)"
   ]
  },
  {
   "cell_type": "code",
   "execution_count": 20,
   "metadata": {
    "collapsed": false
   },
   "outputs": [
    {
     "name": "stdout",
     "output_type": "stream",
     "text": [
      "Original: Most positive(tested_positive) instances based on probability\n",
      "Index of test:  199\n"
     ]
    },
    {
     "data": {
      "text/html": [
       "<table border=\"1\" cellpadding=\"3\" cellspacing=\"0\"  style=\"border:1px solid black;border-collapse:collapse;\"><tr><td>Features</td><td>Ori_value</td><td>ss_value</td><td>ig_value</td><td>w&nbsp*&nbspv</td></tr><tr><td>preg</td><td>17.0</td><td>3.91</td><td>2.44</td><td>2.45</td></tr><tr><td>plas</td><td>163.0</td><td>1.32</td><td>1.13</td><td>4.11</td></tr><tr><td>pres</td><td>72.0</td><td>0.15</td><td>0.15</td><td>-1.32</td></tr><tr><td>skin</td><td>41.0</td><td>1.28</td><td>0.68</td><td>0.33</td></tr><tr><td>insu</td><td>114.0</td><td>0.3</td><td>-0.07</td><td>-0.17</td></tr><tr><td>mass</td><td>40.9</td><td>1.13</td><td>1.46</td><td>1.96</td></tr><tr><td>pedi</td><td>0.82</td><td>1.04</td><td>1.43</td><td>0.57</td></tr><tr><td>age</td><td>47.0</td><td>1.17</td><td>1.5</td><td>0.21</td></tr><tr><td>Bias</td><td>-5.21</td><td>-0.96</td><td>-1.0</td><td>None</td></tr><tr><td>Neg_evi</td><td>-6.7</td><td>-1.07</td><td>-1.04</td><td>None</td></tr><tr><td>Pos_evi</td><td>9.63</td><td>4.87</td><td>4.85</td><td>None</td></tr><tr><td>Proba</td><td>[&nbsp0.051&nbsp&nbsp0.949]</td><td>[&nbsp0.022&nbsp&nbsp0.978]</td><td>[&nbsp0.022&nbsp&nbsp0.978]</td><td>None</td></tr></table>"
      ],
      "text/plain": [
       "<ipy_table.IpyTable at 0x1ae5e6a0>"
      ]
     },
     "execution_count": 20,
     "metadata": {},
     "output_type": "execute_result"
    }
   ],
   "source": [
    "print \"Original: Most positive(tested_positive) instances based on probability\"\n",
    "print \"Index of test: \",Most_positive_1\n",
    "Most_pos_instance_table1"
   ]
  },
  {
   "cell_type": "code",
   "execution_count": 21,
   "metadata": {
    "collapsed": false
   },
   "outputs": [
    {
     "name": "stdout",
     "output_type": "stream",
     "text": [
      "Standard scaling: Most positive(tested_positive) instances based on probability\n",
      "Index of test:  199\n"
     ]
    },
    {
     "data": {
      "text/html": [
       "<table border=\"1\" cellpadding=\"3\" cellspacing=\"0\"  style=\"border:1px solid black;border-collapse:collapse;\"><tr><td>Features</td><td>Ori_value</td><td>ss_value</td><td>ig_value</td><td>w&nbsp*&nbspv</td></tr><tr><td>preg</td><td>17.0</td><td>3.91</td><td>2.44</td><td>2.07</td></tr><tr><td>plas</td><td>163.0</td><td>1.32</td><td>1.13</td><td>1.39</td></tr><tr><td>pres</td><td>72.0</td><td>0.15</td><td>0.15</td><td>-0.04</td></tr><tr><td>skin</td><td>41.0</td><td>1.28</td><td>0.68</td><td>0.17</td></tr><tr><td>insu</td><td>114.0</td><td>0.3</td><td>-0.07</td><td>-0.07</td></tr><tr><td>mass</td><td>40.9</td><td>1.13</td><td>1.46</td><td>0.71</td></tr><tr><td>pedi</td><td>0.82</td><td>1.04</td><td>1.43</td><td>0.34</td></tr><tr><td>age</td><td>47.0</td><td>1.17</td><td>1.5</td><td>0.18</td></tr><tr><td>Bias</td><td>-5.21</td><td>-0.96</td><td>-1.0</td><td>None</td></tr><tr><td>Neg_evi</td><td>-6.7</td><td>-1.07</td><td>-1.04</td><td>None</td></tr><tr><td>Pos_evi</td><td>9.63</td><td>4.87</td><td>4.85</td><td>None</td></tr><tr><td>Proba</td><td>[&nbsp0.051&nbsp&nbsp0.949]</td><td>[&nbsp0.022&nbsp&nbsp0.978]</td><td>[&nbsp0.022&nbsp&nbsp0.978]</td><td>None</td></tr></table>"
      ],
      "text/plain": [
       "<ipy_table.IpyTable at 0x2e317b8>"
      ]
     },
     "execution_count": 21,
     "metadata": {},
     "output_type": "execute_result"
    }
   ],
   "source": [
    "print \"Standard scaling: Most positive(tested_positive) instances based on probability\"\n",
    "print \"Index of test: \",Most_positive_2\n",
    "Most_pos_instance_table2"
   ]
  },
  {
   "cell_type": "code",
   "execution_count": 22,
   "metadata": {
    "collapsed": false
   },
   "outputs": [
    {
     "name": "stdout",
     "output_type": "stream",
     "text": [
      "Information gain scaling: Most positive(tested_positive) instances based on probability\n",
      "Index of test:  199\n"
     ]
    },
    {
     "data": {
      "text/html": [
       "<table border=\"1\" cellpadding=\"3\" cellspacing=\"0\"  style=\"border:1px solid black;border-collapse:collapse;\"><tr><td>Features</td><td>Ori_value</td><td>ss_value</td><td>ig_value</td><td>w&nbsp*&nbspv</td></tr><tr><td>preg</td><td>17.0</td><td>3.91</td><td>2.44</td><td>1.68</td></tr><tr><td>plas</td><td>163.0</td><td>1.32</td><td>1.13</td><td>1.18</td></tr><tr><td>pres</td><td>72.0</td><td>0.15</td><td>0.15</td><td>-0.04</td></tr><tr><td>skin</td><td>41.0</td><td>1.28</td><td>0.68</td><td>0.11</td></tr><tr><td>insu</td><td>114.0</td><td>0.3</td><td>-0.07</td><td>0.02</td></tr><tr><td>mass</td><td>40.9</td><td>1.13</td><td>1.46</td><td>1.08</td></tr><tr><td>pedi</td><td>0.82</td><td>1.04</td><td>1.43</td><td>0.55</td></tr><tr><td>age</td><td>47.0</td><td>1.17</td><td>1.5</td><td>0.23</td></tr><tr><td>Bias</td><td>-5.21</td><td>-0.96</td><td>-1.0</td><td>None</td></tr><tr><td>Neg_evi</td><td>-6.7</td><td>-1.07</td><td>-1.04</td><td>None</td></tr><tr><td>Pos_evi</td><td>9.63</td><td>4.87</td><td>4.85</td><td>None</td></tr><tr><td>Proba</td><td>[&nbsp0.051&nbsp&nbsp0.949]</td><td>[&nbsp0.022&nbsp&nbsp0.978]</td><td>[&nbsp0.022&nbsp&nbsp0.978]</td><td>None</td></tr></table>"
      ],
      "text/plain": [
       "<ipy_table.IpyTable at 0x1ae5e9b0>"
      ]
     },
     "execution_count": 22,
     "metadata": {},
     "output_type": "execute_result"
    }
   ],
   "source": [
    "print \"Information gain scaling: Most positive(tested_positive) instances based on probability\"\n",
    "print \"Index of test: \",Most_positive_3\n",
    "Most_pos_instance_table3"
   ]
  },
  {
   "cell_type": "code",
   "execution_count": 23,
   "metadata": {
    "collapsed": false
   },
   "outputs": [],
   "source": [
    "# most negative, \"tested_negative\" -- Evidence\n",
    "\n",
    "# Original features\n",
    "negative_evi_index_ori = np.argmax(abs(neg_evi_ori))\n",
    "Most_neg_evi_instance_ori = instance(header[:class_index],X_test_ori[negative_evi_index_ori], X_test_ss[negative_evi_index_ori],\n",
    "                                     X_test_ig[negative_evi_index_ori], clf_ori, clf_ss, clf_ig)\n",
    "Most_neg_evi_instance_table1 = Most_neg_evi_instance_ori.get_information(1)\n",
    "\n",
    "# Standard scaling\n",
    "negative_evi_index_ss = np.argmax(abs(neg_evi_ss))\n",
    "Most_neg_evi_instance_ss = instance(header[:class_index],X_test_ori[negative_evi_index_ss], X_test_ss[negative_evi_index_ss],\n",
    "                                     X_test_ig[negative_evi_index_ss], clf_ori, clf_ss, clf_ig)\n",
    "Most_neg_evi_instance_table2 = Most_neg_evi_instance_ss.get_information(2)\n",
    "\n",
    "# Information gain scaling\n",
    "negative_evi_index_ig = np.argmax(abs(neg_evi_ig))\n",
    "Most_neg_evi_instance_ig = instance(header[:class_index],X_test_ori[negative_evi_index_ig], X_test_ss[negative_evi_index_ig],\n",
    "                                     X_test_ig[negative_evi_index_ig], clf_ori, clf_ss, clf_ig)\n",
    "Most_neg_evi_instance_table3 = Most_neg_evi_instance_ig.get_information(3)"
   ]
  },
  {
   "cell_type": "code",
   "execution_count": 24,
   "metadata": {
    "collapsed": false
   },
   "outputs": [
    {
     "name": "stdout",
     "output_type": "stream",
     "text": [
      "Original: Most negative(tested_negative) instances based on evidence\n",
      "Index of test:  145\n"
     ]
    },
    {
     "data": {
      "text/html": [
       "<table border=\"1\" cellpadding=\"3\" cellspacing=\"0\"  style=\"border:1px solid black;border-collapse:collapse;\"><tr><td>Features</td><td>Ori_value</td><td>ss_value</td><td>ig_value</td><td>w&nbsp*&nbspv</td></tr><tr><td>preg</td><td>9.0</td><td>1.53</td><td>0.58</td><td>1.3</td></tr><tr><td>plas</td><td>171.0</td><td>1.57</td><td>1.38</td><td>4.32</td></tr><tr><td>pres</td><td>110.0</td><td>2.11</td><td>2.0</td><td>-2.01</td></tr><tr><td>skin</td><td>24.0</td><td>0.22</td><td>-0.24</td><td>0.19</td></tr><tr><td>insu</td><td>240.0</td><td>1.39</td><td>0.97</td><td>-0.35</td></tr><tr><td>mass</td><td>45.4</td><td>1.7</td><td>1.94</td><td>2.17</td></tr><tr><td>pedi</td><td>0.72</td><td>0.75</td><td>1.19</td><td>0.51</td></tr><tr><td>age</td><td>54.0</td><td>1.77</td><td>2.06</td><td>0.24</td></tr><tr><td>Bias</td><td>-5.21</td><td>-0.96</td><td>-1.0</td><td>None</td></tr><tr><td>Neg_evi</td><td>-7.58</td><td>-1.89</td><td>-1.88</td><td>None</td></tr><tr><td>Pos_evi</td><td>8.72</td><td>4.08</td><td>4.05</td><td>None</td></tr><tr><td>Proba</td><td>[&nbsp0.241&nbsp&nbsp0.759]</td><td>[&nbsp0.1&nbsp&nbsp0.9]</td><td>[&nbsp0.103&nbsp&nbsp0.897]</td><td>None</td></tr></table>"
      ],
      "text/plain": [
       "<ipy_table.IpyTable at 0x1b023400>"
      ]
     },
     "execution_count": 24,
     "metadata": {},
     "output_type": "execute_result"
    }
   ],
   "source": [
    "print \"Original: Most negative(tested_negative) instances based on evidence\"\n",
    "print \"Index of test: \",negative_evi_index_ori\n",
    "Most_neg_evi_instance_table1"
   ]
  },
  {
   "cell_type": "code",
   "execution_count": 25,
   "metadata": {
    "collapsed": false
   },
   "outputs": [
    {
     "name": "stdout",
     "output_type": "stream",
     "text": [
      "Standard scaling: Most negative(tested_negative) instances based on evidence\n",
      "Index of test:  238\n"
     ]
    },
    {
     "data": {
      "text/html": [
       "<table border=\"1\" cellpadding=\"3\" cellspacing=\"0\"  style=\"border:1px solid black;border-collapse:collapse;\"><tr><td>Features</td><td>Ori_value</td><td>ss_value</td><td>ig_value</td><td>w&nbsp*&nbspv</td></tr><tr><td>preg</td><td>1.0</td><td>-0.84</td><td>-1.28</td><td>-0.45</td></tr><tr><td>plas</td><td>0.0</td><td>-3.78</td><td>-4.04</td><td>-3.99</td></tr><tr><td>pres</td><td>48.0</td><td>-1.09</td><td>-1.03</td><td>0.31</td></tr><tr><td>skin</td><td>20.0</td><td>-0.03</td><td>-0.46</td><td>0.0</td></tr><tr><td>insu</td><td>0.0</td><td>-0.69</td><td>-1.01</td><td>0.17</td></tr><tr><td>mass</td><td>24.7</td><td>-0.93</td><td>-0.23</td><td>-0.58</td></tr><tr><td>pedi</td><td>0.14</td><td>-1.0</td><td>-0.24</td><td>-0.33</td></tr><tr><td>age</td><td>22.0</td><td>-0.96</td><td>-0.53</td><td>-0.15</td></tr><tr><td>Bias</td><td>-5.21</td><td>-0.96</td><td>-1.0</td><td>None</td></tr><tr><td>Neg_evi</td><td>-6.09</td><td>-6.46</td><td>-6.53</td><td>None</td></tr><tr><td>Pos_evi</td><td>1.68</td><td>0.48</td><td>0.56</td><td>None</td></tr><tr><td>Proba</td><td>[&nbsp0.988&nbsp&nbsp0.012]</td><td>[&nbsp0.997&nbsp&nbsp0.003]</td><td>[&nbsp0.997&nbsp&nbsp0.003]</td><td>None</td></tr></table>"
      ],
      "text/plain": [
       "<ipy_table.IpyTable at 0x1ae5eac8>"
      ]
     },
     "execution_count": 25,
     "metadata": {},
     "output_type": "execute_result"
    }
   ],
   "source": [
    "print \"Standard scaling: Most negative(tested_negative) instances based on evidence\"\n",
    "print \"Index of test: \",negative_evi_index_ss\n",
    "Most_neg_evi_instance_table2"
   ]
  },
  {
   "cell_type": "code",
   "execution_count": 26,
   "metadata": {
    "collapsed": false
   },
   "outputs": [
    {
     "name": "stdout",
     "output_type": "stream",
     "text": [
      "Information gain scaling: Most negative(tested_negative) instances based on evidence\n",
      "Index of test:  238\n"
     ]
    },
    {
     "data": {
      "text/html": [
       "<table border=\"1\" cellpadding=\"3\" cellspacing=\"0\"  style=\"border:1px solid black;border-collapse:collapse;\"><tr><td>Features</td><td>Ori_value</td><td>ss_value</td><td>ig_value</td><td>w&nbsp*&nbspv</td></tr><tr><td>preg</td><td>1.0</td><td>-0.84</td><td>-1.28</td><td>-0.88</td></tr><tr><td>plas</td><td>0.0</td><td>-3.78</td><td>-4.04</td><td>-4.23</td></tr><tr><td>pres</td><td>48.0</td><td>-1.09</td><td>-1.03</td><td>0.3</td></tr><tr><td>skin</td><td>20.0</td><td>-0.03</td><td>-0.46</td><td>-0.08</td></tr><tr><td>insu</td><td>0.0</td><td>-0.69</td><td>-1.01</td><td>0.26</td></tr><tr><td>mass</td><td>24.7</td><td>-0.93</td><td>-0.23</td><td>-0.17</td></tr><tr><td>pedi</td><td>0.14</td><td>-1.0</td><td>-0.24</td><td>-0.09</td></tr><tr><td>age</td><td>22.0</td><td>-0.96</td><td>-0.53</td><td>-0.08</td></tr><tr><td>Bias</td><td>-5.21</td><td>-0.96</td><td>-1.0</td><td>None</td></tr><tr><td>Neg_evi</td><td>-6.09</td><td>-6.46</td><td>-6.53</td><td>None</td></tr><tr><td>Pos_evi</td><td>1.68</td><td>0.48</td><td>0.56</td><td>None</td></tr><tr><td>Proba</td><td>[&nbsp0.988&nbsp&nbsp0.012]</td><td>[&nbsp0.997&nbsp&nbsp0.003]</td><td>[&nbsp0.997&nbsp&nbsp0.003]</td><td>None</td></tr></table>"
      ],
      "text/plain": [
       "<ipy_table.IpyTable at 0x1b023438>"
      ]
     },
     "execution_count": 26,
     "metadata": {},
     "output_type": "execute_result"
    }
   ],
   "source": [
    "print \"Information gain scaling: Most negative(tested_negative) instances based on evidence\"\n",
    "print \"Index of test: \",negative_evi_index_ig\n",
    "Most_neg_evi_instance_table3"
   ]
  },
  {
   "cell_type": "code",
   "execution_count": 27,
   "metadata": {
    "collapsed": false
   },
   "outputs": [],
   "source": [
    "# most positive, \"tested_positive\" -- Evidence \n",
    "\n",
    "# Original features\n",
    "positive_evi_index_ori = np.argmax(pos_evi_ori)\n",
    "Most_pos_evi_instance_ori = instance(header[:class_index],X_test_ori[positive_evi_index_ori], X_test_ss[positive_evi_index_ori],\n",
    "                                     X_test_ig[positive_evi_index_ori], clf_ori, clf_ss, clf_ig)\n",
    "Most_pos_evi_instance_table1 = Most_pos_evi_instance_ori.get_information(1)\n",
    "\n",
    "# Standard scaling\n",
    "positive_evi_index_ss = np.argmax(pos_evi_ss)\n",
    "Most_pos_evi_instance_ss = instance(header[:class_index],X_test_ori[positive_evi_index_ss], X_test_ss[positive_evi_index_ss],\n",
    "                                     X_test_ig[positive_evi_index_ss], clf_ori, clf_ss, clf_ig)\n",
    "Most_pos_evi_instance_table2 = Most_pos_evi_instance_ss.get_information(2)\n",
    "\n",
    "# Information gain scaling\n",
    "positive_evi_index_ig = np.argmax(pos_evi_ig)\n",
    "Most_pos_evi_instance_ig = instance(header[:class_index],X_test_ori[positive_evi_index_ig], X_test_ss[positive_evi_index_ig],\n",
    "                                     X_test_ig[positive_evi_index_ig], clf_ori, clf_ss, clf_ig)\n",
    "Most_pos_evi_instance_table3 = Most_pos_evi_instance_ig.get_information(3)"
   ]
  },
  {
   "cell_type": "code",
   "execution_count": 28,
   "metadata": {
    "collapsed": false
   },
   "outputs": [
    {
     "name": "stdout",
     "output_type": "stream",
     "text": [
      "Original: Most positive(tested_positive) instances based on evidence\n",
      "Index of test:  199\n"
     ]
    },
    {
     "data": {
      "text/html": [
       "<table border=\"1\" cellpadding=\"3\" cellspacing=\"0\"  style=\"border:1px solid black;border-collapse:collapse;\"><tr><td>Features</td><td>Ori_value</td><td>ss_value</td><td>ig_value</td><td>w&nbsp*&nbspv</td></tr><tr><td>preg</td><td>17.0</td><td>3.91</td><td>2.44</td><td>2.45</td></tr><tr><td>plas</td><td>163.0</td><td>1.32</td><td>1.13</td><td>4.11</td></tr><tr><td>pres</td><td>72.0</td><td>0.15</td><td>0.15</td><td>-1.32</td></tr><tr><td>skin</td><td>41.0</td><td>1.28</td><td>0.68</td><td>0.33</td></tr><tr><td>insu</td><td>114.0</td><td>0.3</td><td>-0.07</td><td>-0.17</td></tr><tr><td>mass</td><td>40.9</td><td>1.13</td><td>1.46</td><td>1.96</td></tr><tr><td>pedi</td><td>0.82</td><td>1.04</td><td>1.43</td><td>0.57</td></tr><tr><td>age</td><td>47.0</td><td>1.17</td><td>1.5</td><td>0.21</td></tr><tr><td>Bias</td><td>-5.21</td><td>-0.96</td><td>-1.0</td><td>None</td></tr><tr><td>Neg_evi</td><td>-6.7</td><td>-1.07</td><td>-1.04</td><td>None</td></tr><tr><td>Pos_evi</td><td>9.63</td><td>4.87</td><td>4.85</td><td>None</td></tr><tr><td>Proba</td><td>[&nbsp0.051&nbsp&nbsp0.949]</td><td>[&nbsp0.022&nbsp&nbsp0.978]</td><td>[&nbsp0.022&nbsp&nbsp0.978]</td><td>None</td></tr></table>"
      ],
      "text/plain": [
       "<ipy_table.IpyTable at 0x1b0235f8>"
      ]
     },
     "execution_count": 28,
     "metadata": {},
     "output_type": "execute_result"
    }
   ],
   "source": [
    "print \"Original: Most positive(tested_positive) instances based on evidence\"\n",
    "print \"Index of test: \",positive_evi_index_ori\n",
    "Most_pos_evi_instance_table1"
   ]
  },
  {
   "cell_type": "code",
   "execution_count": 29,
   "metadata": {
    "collapsed": false
   },
   "outputs": [
    {
     "name": "stdout",
     "output_type": "stream",
     "text": [
      "Standard scaling: Most positive(tested_positive) instances based on evidence\n",
      "Index of test:  199\n"
     ]
    },
    {
     "data": {
      "text/html": [
       "<table border=\"1\" cellpadding=\"3\" cellspacing=\"0\"  style=\"border:1px solid black;border-collapse:collapse;\"><tr><td>Features</td><td>Ori_value</td><td>ss_value</td><td>ig_value</td><td>w&nbsp*&nbspv</td></tr><tr><td>preg</td><td>17.0</td><td>3.91</td><td>2.44</td><td>2.07</td></tr><tr><td>plas</td><td>163.0</td><td>1.32</td><td>1.13</td><td>1.39</td></tr><tr><td>pres</td><td>72.0</td><td>0.15</td><td>0.15</td><td>-0.04</td></tr><tr><td>skin</td><td>41.0</td><td>1.28</td><td>0.68</td><td>0.17</td></tr><tr><td>insu</td><td>114.0</td><td>0.3</td><td>-0.07</td><td>-0.07</td></tr><tr><td>mass</td><td>40.9</td><td>1.13</td><td>1.46</td><td>0.71</td></tr><tr><td>pedi</td><td>0.82</td><td>1.04</td><td>1.43</td><td>0.34</td></tr><tr><td>age</td><td>47.0</td><td>1.17</td><td>1.5</td><td>0.18</td></tr><tr><td>Bias</td><td>-5.21</td><td>-0.96</td><td>-1.0</td><td>None</td></tr><tr><td>Neg_evi</td><td>-6.7</td><td>-1.07</td><td>-1.04</td><td>None</td></tr><tr><td>Pos_evi</td><td>9.63</td><td>4.87</td><td>4.85</td><td>None</td></tr><tr><td>Proba</td><td>[&nbsp0.051&nbsp&nbsp0.949]</td><td>[&nbsp0.022&nbsp&nbsp0.978]</td><td>[&nbsp0.022&nbsp&nbsp0.978]</td><td>None</td></tr></table>"
      ],
      "text/plain": [
       "<ipy_table.IpyTable at 0x1ae5ee80>"
      ]
     },
     "execution_count": 29,
     "metadata": {},
     "output_type": "execute_result"
    }
   ],
   "source": [
    "print \"Standard scaling: Most positive(tested_positive) instances based on evidence\"\n",
    "print \"Index of test: \",positive_evi_index_ss\n",
    "Most_pos_evi_instance_table2"
   ]
  },
  {
   "cell_type": "code",
   "execution_count": 30,
   "metadata": {
    "collapsed": false
   },
   "outputs": [
    {
     "name": "stdout",
     "output_type": "stream",
     "text": [
      "Information gain scaling: Most positive(tested_positive) instances based on evidence\n",
      "Index of test:  199\n"
     ]
    },
    {
     "data": {
      "text/html": [
       "<table border=\"1\" cellpadding=\"3\" cellspacing=\"0\"  style=\"border:1px solid black;border-collapse:collapse;\"><tr><td>Features</td><td>Ori_value</td><td>ss_value</td><td>ig_value</td><td>w&nbsp*&nbspv</td></tr><tr><td>preg</td><td>17.0</td><td>3.91</td><td>2.44</td><td>1.68</td></tr><tr><td>plas</td><td>163.0</td><td>1.32</td><td>1.13</td><td>1.18</td></tr><tr><td>pres</td><td>72.0</td><td>0.15</td><td>0.15</td><td>-0.04</td></tr><tr><td>skin</td><td>41.0</td><td>1.28</td><td>0.68</td><td>0.11</td></tr><tr><td>insu</td><td>114.0</td><td>0.3</td><td>-0.07</td><td>0.02</td></tr><tr><td>mass</td><td>40.9</td><td>1.13</td><td>1.46</td><td>1.08</td></tr><tr><td>pedi</td><td>0.82</td><td>1.04</td><td>1.43</td><td>0.55</td></tr><tr><td>age</td><td>47.0</td><td>1.17</td><td>1.5</td><td>0.23</td></tr><tr><td>Bias</td><td>-5.21</td><td>-0.96</td><td>-1.0</td><td>None</td></tr><tr><td>Neg_evi</td><td>-6.7</td><td>-1.07</td><td>-1.04</td><td>None</td></tr><tr><td>Pos_evi</td><td>9.63</td><td>4.87</td><td>4.85</td><td>None</td></tr><tr><td>Proba</td><td>[&nbsp0.051&nbsp&nbsp0.949]</td><td>[&nbsp0.022&nbsp&nbsp0.978]</td><td>[&nbsp0.022&nbsp&nbsp0.978]</td><td>None</td></tr></table>"
      ],
      "text/plain": [
       "<ipy_table.IpyTable at 0x1b023518>"
      ]
     },
     "execution_count": 30,
     "metadata": {},
     "output_type": "execute_result"
    }
   ],
   "source": [
    "print \"Information gain scaling: Most positive(tested_positive) instances based on evidence\"\n",
    "print \"Index of test: \",positive_evi_index_ig\n",
    "Most_pos_evi_instance_table3"
   ]
  },
  {
   "cell_type": "code",
   "execution_count": 31,
   "metadata": {
    "collapsed": false
   },
   "outputs": [],
   "source": [
    "# unc_1 Top 1 uncertain instances\n",
    "\n",
    "# Original features\n",
    "uncertains_ori = np.min(y_pred_prob_ori, axis=1)\n",
    "uis_ori = np.argsort(uncertains_ori)[::-1]\n",
    "top10_uis_ori = uis_ori[:10]\n",
    "uncertains_1_ori = instance(header[:class_index],X_test_ori[uis_ori[0]], X_test_ss[uis_ori[0]],\n",
    "                                     X_test_ig[uis_ori[0]], clf_ori, clf_ss, clf_ig)\n",
    "uncertains_1_ori_table = uncertains_1_ori.get_information(1)\n",
    "\n",
    "# Standard scaling\n",
    "uncertains_ss = np.min(y_pred_prob_ss, axis=1)\n",
    "uis_ss = np.argsort(uncertains_ss)[::-1]\n",
    "top10_uis_ss = uis_ss[:10]\n",
    "uncertains_1_ss = instance(header[:class_index],X_test_ori[uis_ss[0]], X_test_ss[uis_ss[0]], X_test_ig[uis_ss[0]], clf_ori, clf_ss, clf_ig)\n",
    "uncertains_1_ss_table = uncertains_1_ss.get_information(2)\n",
    "\n",
    "# Information gain scaling\n",
    "uncertains_ig = np.min(y_pred_prob_ig, axis=1)\n",
    "uis_ig = np.argsort(uncertains_ig)[::-1]\n",
    "top10_uis_ig = uis_ig[:10]\n",
    "uncertains_1_ig = instance(header[:class_index],X_test_ori[uis_ig[0]], X_test_ss[uis_ig[0]], X_test_ig[uis_ig[0]], clf_ori, clf_ss, clf_ig)\n",
    "uncertains_1_ig_table = uncertains_1_ig.get_information(3)"
   ]
  },
  {
   "cell_type": "code",
   "execution_count": 32,
   "metadata": {
    "collapsed": false
   },
   "outputs": [
    {
     "name": "stdout",
     "output_type": "stream",
     "text": [
      "Original: the most uncertain instance based on probability\n",
      "Index of test:  45\n",
      "Actual label 0\n"
     ]
    },
    {
     "data": {
      "text/html": [
       "<table border=\"1\" cellpadding=\"3\" cellspacing=\"0\"  style=\"border:1px solid black;border-collapse:collapse;\"><tr><td>Features</td><td>Ori_value</td><td>ss_value</td><td>ig_value</td><td>w&nbsp*&nbspv</td></tr><tr><td>preg</td><td>12.0</td><td>2.42</td><td>1.28</td><td>1.73</td></tr><tr><td>plas</td><td>121.0</td><td>0.0</td><td>-0.21</td><td>3.05</td></tr><tr><td>pres</td><td>78.0</td><td>0.46</td><td>0.44</td><td>-1.43</td></tr><tr><td>skin</td><td>17.0</td><td>-0.22</td><td>-0.62</td><td>0.14</td></tr><tr><td>insu</td><td>0.0</td><td>-0.69</td><td>-1.01</td><td>-0.0</td></tr><tr><td>mass</td><td>26.5</td><td>-0.7</td><td>-0.04</td><td>1.27</td></tr><tr><td>pedi</td><td>0.26</td><td>-0.64</td><td>0.05</td><td>0.18</td></tr><tr><td>age</td><td>62.0</td><td>2.45</td><td>2.71</td><td>0.27</td></tr><tr><td>Bias</td><td>-5.21</td><td>-0.96</td><td>-1.0</td><td>None</td></tr><tr><td>Neg_evi</td><td>-6.64</td><td>-1.76</td><td>-1.48</td><td>None</td></tr><tr><td>Pos_evi</td><td>6.64</td><td>1.84</td><td>1.58</td><td>None</td></tr><tr><td>Proba</td><td>[&nbsp0.499&nbsp&nbsp0.501]</td><td>[&nbsp0.48&nbsp&nbsp0.52]</td><td>[&nbsp0.476&nbsp&nbsp0.524]</td><td>None</td></tr></table>"
      ],
      "text/plain": [
       "<ipy_table.IpyTable at 0x1ae5e898>"
      ]
     },
     "execution_count": 32,
     "metadata": {},
     "output_type": "execute_result"
    }
   ],
   "source": [
    "print \"Original: the most uncertain instance based on probability\"\n",
    "print \"Index of test: \",uis_ori[0]\n",
    "print \"Actual label\", y_test[uis_ori[0]]\n",
    "uncertains_1_ori_table"
   ]
  },
  {
   "cell_type": "code",
   "execution_count": 33,
   "metadata": {
    "collapsed": false
   },
   "outputs": [
    {
     "name": "stdout",
     "output_type": "stream",
     "text": [
      "standard scaling: the most uncertain instance based on probability\n",
      "Index of test:  111\n",
      "Actual label 1\n"
     ]
    },
    {
     "data": {
      "text/html": [
       "<table border=\"1\" cellpadding=\"3\" cellspacing=\"0\"  style=\"border:1px solid black;border-collapse:collapse;\"><tr><td>Features</td><td>Ori_value</td><td>ss_value</td><td>ig_value</td><td>w&nbsp*&nbspv</td></tr><tr><td>preg</td><td>0.0</td><td>-1.14</td><td>-1.51</td><td>-0.6</td></tr><tr><td>plas</td><td>181.0</td><td>1.88</td><td>1.7</td><td>1.98</td></tr><tr><td>pres</td><td>88.0</td><td>0.98</td><td>0.93</td><td>-0.27</td></tr><tr><td>skin</td><td>44.0</td><td>1.47</td><td>0.84</td><td>0.2</td></tr><tr><td>insu</td><td>510.0</td><td>3.74</td><td>3.2</td><td>-0.92</td></tr><tr><td>mass</td><td>43.3</td><td>1.44</td><td>1.72</td><td>0.9</td></tr><tr><td>pedi</td><td>0.22</td><td>-0.75</td><td>-0.04</td><td>-0.25</td></tr><tr><td>age</td><td>26.0</td><td>-0.62</td><td>-0.2</td><td>-0.1</td></tr><tr><td>Bias</td><td>-5.21</td><td>-0.96</td><td>-1.0</td><td>None</td></tr><tr><td>Neg_evi</td><td>-7.57</td><td>-3.1</td><td>-3.18</td><td>None</td></tr><tr><td>Pos_evi</td><td>7.27</td><td>3.08</td><td>3.18</td><td>None</td></tr><tr><td>Proba</td><td>[&nbsp0.577&nbsp&nbsp0.423]</td><td>[&nbsp0.504&nbsp&nbsp0.496]</td><td>[&nbsp0.499&nbsp&nbsp0.501]</td><td>None</td></tr></table>"
      ],
      "text/plain": [
       "<ipy_table.IpyTable at 0x1ae5e5c0>"
      ]
     },
     "execution_count": 33,
     "metadata": {},
     "output_type": "execute_result"
    }
   ],
   "source": [
    "print \"standard scaling: the most uncertain instance based on probability\"\n",
    "print \"Index of test: \",uis_ss[0]\n",
    "print \"Actual label\", y_test[uis_ss[0]]\n",
    "uncertains_1_ss_table"
   ]
  },
  {
   "cell_type": "code",
   "execution_count": 34,
   "metadata": {
    "collapsed": false
   },
   "outputs": [
    {
     "name": "stdout",
     "output_type": "stream",
     "text": [
      "Information gain scaling: the most uncertain instance based on probability\n",
      "Index of test:  111\n",
      "Actual label 1\n"
     ]
    },
    {
     "data": {
      "text/html": [
       "<table border=\"1\" cellpadding=\"3\" cellspacing=\"0\"  style=\"border:1px solid black;border-collapse:collapse;\"><tr><td>Features</td><td>Ori_value</td><td>ss_value</td><td>ig_value</td><td>w&nbsp*&nbspv</td></tr><tr><td>preg</td><td>0.0</td><td>-1.14</td><td>-1.51</td><td>-1.04</td></tr><tr><td>plas</td><td>181.0</td><td>1.88</td><td>1.7</td><td>1.78</td></tr><tr><td>pres</td><td>88.0</td><td>0.98</td><td>0.93</td><td>-0.27</td></tr><tr><td>skin</td><td>44.0</td><td>1.47</td><td>0.84</td><td>0.14</td></tr><tr><td>insu</td><td>510.0</td><td>3.74</td><td>3.2</td><td>-0.82</td></tr><tr><td>mass</td><td>43.3</td><td>1.44</td><td>1.72</td><td>1.26</td></tr><tr><td>pedi</td><td>0.22</td><td>-0.75</td><td>-0.04</td><td>-0.01</td></tr><tr><td>age</td><td>26.0</td><td>-0.62</td><td>-0.2</td><td>-0.03</td></tr><tr><td>Bias</td><td>-5.21</td><td>-0.96</td><td>-1.0</td><td>None</td></tr><tr><td>Neg_evi</td><td>-7.57</td><td>-3.1</td><td>-3.18</td><td>None</td></tr><tr><td>Pos_evi</td><td>7.27</td><td>3.08</td><td>3.18</td><td>None</td></tr><tr><td>Proba</td><td>[&nbsp0.577&nbsp&nbsp0.423]</td><td>[&nbsp0.504&nbsp&nbsp0.496]</td><td>[&nbsp0.499&nbsp&nbsp0.501]</td><td>None</td></tr></table>"
      ],
      "text/plain": [
       "<ipy_table.IpyTable at 0x1ae5e518>"
      ]
     },
     "execution_count": 34,
     "metadata": {},
     "output_type": "execute_result"
    }
   ],
   "source": [
    "print \"Information gain scaling: the most uncertain instance based on probability\"\n",
    "print \"Index of test: \",uis_ig[0]\n",
    "print \"Actual label\", y_test[uis_ig[0]]\n",
    "uncertains_1_ig_table"
   ]
  },
  {
   "cell_type": "code",
   "execution_count": 35,
   "metadata": {
    "collapsed": false
   },
   "outputs": [
    {
     "name": "stdout",
     "output_type": "stream",
     "text": [
      "[ 45 182  40  75 197 126 235 188  78 179]\n",
      "[111 182 197 186  58 151  45 179  40 172]\n",
      "[111  58 197 186 182  45  51  40 151  78]\n"
     ]
    }
   ],
   "source": [
    "# The indices of top 10 uncertain instances for each classifier\n",
    "\n",
    "print top10_uis_ori\n",
    "print top10_uis_ss\n",
    "print top10_uis_ig"
   ]
  },
  {
   "cell_type": "code",
   "execution_count": 36,
   "metadata": {
    "collapsed": false,
    "scrolled": true
   },
   "outputs": [],
   "source": [
    "# unc_ce from Top 10 uncertain instances\n",
    "\n",
    "# Original features \n",
    "min_evidence_top10_ori = np.min([abs(neg_evi_ori[top10_uis_ori]),abs(pos_evi_ori[top10_uis_ori])], axis=0)\n",
    "index_ce_ori = np.argmax(min_evidence_top10_ori)\n",
    "uncertains_ce_ori = instance(header[:class_index],X_test_ori[top10_uis_ori[index_ce_ori]], X_test_ss[top10_uis_ori[index_ce_ori]],\n",
    "                                     X_test_ig[top10_uis_ori[index_ce_ori]], clf_ori, clf_ss, clf_ig)\n",
    "uncertains_ce_ori_table = uncertains_ce_ori.get_information(1)\n",
    "\n",
    "\n",
    "# Standard scaling\n",
    "min_evidence_top10_ss = np.min([abs(neg_evi_ss[top10_uis_ss]),abs(pos_evi_ss[top10_uis_ss])], axis=0)\n",
    "index_ce_ss = np.argmax(min_evidence_top10_ss)\n",
    "uncertains_ce_ss = instance(header[:class_index],X_test_ori[top10_uis_ss[index_ce_ss]], X_test_ss[top10_uis_ss[index_ce_ss]],\n",
    "                                     X_test_ig[top10_uis_ss[index_ce_ss]], clf_ori, clf_ss, clf_ig)\n",
    "uncertains_ce_ss_table = uncertains_ce_ss.get_information(2)\n",
    "\n",
    "\n",
    "# Information gain scaling\n",
    "min_evidence_top10_ig = np.min([abs(neg_evi_ig[top10_uis_ig]),abs(pos_evi_ig[top10_uis_ig])], axis=0)\n",
    "index_ce_ig = np.argmax(min_evidence_top10_ig)\n",
    "uncertains_ce_ig = instance(header[:class_index],X_test_ori[top10_uis_ig[index_ce_ig]], X_test_ss[top10_uis_ig[index_ce_ig]],\n",
    "                                     X_test_ig[top10_uis_ig[index_ce_ig]], clf_ori, clf_ss, clf_ig)\n",
    "uncertains_ce_ig_table = uncertains_ce_ig.get_information(3)"
   ]
  },
  {
   "cell_type": "code",
   "execution_count": 37,
   "metadata": {
    "collapsed": false
   },
   "outputs": [
    {
     "name": "stdout",
     "output_type": "stream",
     "text": [
      "Original: the most conflicting instance among 10 uncertain instances based on evidence\n",
      "Index of test:  40\n",
      "Actual label 1\n"
     ]
    },
    {
     "data": {
      "text/html": [
       "<table border=\"1\" cellpadding=\"3\" cellspacing=\"0\"  style=\"border:1px solid black;border-collapse:collapse;\"><tr><td>Features</td><td>Ori_value</td><td>ss_value</td><td>ig_value</td><td>w&nbsp*&nbspv</td></tr><tr><td>preg</td><td>3.0</td><td>-0.25</td><td>-0.81</td><td>0.43</td></tr><tr><td>plas</td><td>158.0</td><td>1.16</td><td>0.97</td><td>3.99</td></tr><tr><td>pres</td><td>76.0</td><td>0.36</td><td>0.34</td><td>-1.39</td></tr><tr><td>skin</td><td>36.0</td><td>0.97</td><td>0.41</td><td>0.29</td></tr><tr><td>insu</td><td>245.0</td><td>1.43</td><td>1.01</td><td>-0.36</td></tr><tr><td>mass</td><td>31.6</td><td>-0.05</td><td>0.49</td><td>1.51</td></tr><tr><td>pedi</td><td>0.85</td><td>1.14</td><td>1.51</td><td>0.6</td></tr><tr><td>age</td><td>28.0</td><td>-0.45</td><td>-0.04</td><td>0.12</td></tr><tr><td>Bias</td><td>-5.21</td><td>-0.96</td><td>-1.0</td><td>None</td></tr><tr><td>Neg_evi</td><td>-6.96</td><td>-1.64</td><td>-1.93</td><td>None</td></tr><tr><td>Pos_evi</td><td>6.94</td><td>1.73</td><td>2.03</td><td>None</td></tr><tr><td>Proba</td><td>[&nbsp0.505&nbsp&nbsp0.495]</td><td>[&nbsp0.478&nbsp&nbsp0.522]</td><td>[&nbsp0.474&nbsp&nbsp0.526]</td><td>None</td></tr></table>"
      ],
      "text/plain": [
       "<ipy_table.IpyTable at 0x1b102cf8>"
      ]
     },
     "execution_count": 37,
     "metadata": {},
     "output_type": "execute_result"
    }
   ],
   "source": [
    "print \"Original: the most conflicting instance among 10 uncertain instances based on evidence\"\n",
    "print \"Index of test: \", top10_uis_ori[index_ce_ori]\n",
    "print \"Actual label\", y_test[top10_uis_ori[index_ce_ori]]\n",
    "uncertains_ce_ori_table"
   ]
  },
  {
   "cell_type": "code",
   "execution_count": 38,
   "metadata": {
    "collapsed": false
   },
   "outputs": [
    {
     "name": "stdout",
     "output_type": "stream",
     "text": [
      "Standard scaling: the most conflicting instance among 10 uncertain instances based on evidence\n",
      "Index of test:  111\n",
      "Actual label 1\n"
     ]
    },
    {
     "data": {
      "text/html": [
       "<table border=\"1\" cellpadding=\"3\" cellspacing=\"0\"  style=\"border:1px solid black;border-collapse:collapse;\"><tr><td>Features</td><td>Ori_value</td><td>ss_value</td><td>ig_value</td><td>w&nbsp*&nbspv</td></tr><tr><td>preg</td><td>0.0</td><td>-1.14</td><td>-1.51</td><td>-0.6</td></tr><tr><td>plas</td><td>181.0</td><td>1.88</td><td>1.7</td><td>1.98</td></tr><tr><td>pres</td><td>88.0</td><td>0.98</td><td>0.93</td><td>-0.27</td></tr><tr><td>skin</td><td>44.0</td><td>1.47</td><td>0.84</td><td>0.2</td></tr><tr><td>insu</td><td>510.0</td><td>3.74</td><td>3.2</td><td>-0.92</td></tr><tr><td>mass</td><td>43.3</td><td>1.44</td><td>1.72</td><td>0.9</td></tr><tr><td>pedi</td><td>0.22</td><td>-0.75</td><td>-0.04</td><td>-0.25</td></tr><tr><td>age</td><td>26.0</td><td>-0.62</td><td>-0.2</td><td>-0.1</td></tr><tr><td>Bias</td><td>-5.21</td><td>-0.96</td><td>-1.0</td><td>None</td></tr><tr><td>Neg_evi</td><td>-7.57</td><td>-3.1</td><td>-3.18</td><td>None</td></tr><tr><td>Pos_evi</td><td>7.27</td><td>3.08</td><td>3.18</td><td>None</td></tr><tr><td>Proba</td><td>[&nbsp0.577&nbsp&nbsp0.423]</td><td>[&nbsp0.504&nbsp&nbsp0.496]</td><td>[&nbsp0.499&nbsp&nbsp0.501]</td><td>None</td></tr></table>"
      ],
      "text/plain": [
       "<ipy_table.IpyTable at 0x1b102d68>"
      ]
     },
     "execution_count": 38,
     "metadata": {},
     "output_type": "execute_result"
    }
   ],
   "source": [
    "print \"Standard scaling: the most conflicting instance among 10 uncertain instances based on evidence\"\n",
    "print \"Index of test: \", top10_uis_ss[index_ce_ss]\n",
    "print \"Actual label\", y_test[top10_uis_ss[index_ce_ss]]\n",
    "uncertains_ce_ss_table"
   ]
  },
  {
   "cell_type": "code",
   "execution_count": 39,
   "metadata": {
    "collapsed": false
   },
   "outputs": [
    {
     "name": "stdout",
     "output_type": "stream",
     "text": [
      "Information gain scaling: the most conflicting instance among 10 uncertain instances based on evidence\n",
      "Index of test:  111\n",
      "Actual label 1\n"
     ]
    },
    {
     "data": {
      "text/html": [
       "<table border=\"1\" cellpadding=\"3\" cellspacing=\"0\"  style=\"border:1px solid black;border-collapse:collapse;\"><tr><td>Features</td><td>Ori_value</td><td>ss_value</td><td>ig_value</td><td>w&nbsp*&nbspv</td></tr><tr><td>preg</td><td>0.0</td><td>-1.14</td><td>-1.51</td><td>-1.04</td></tr><tr><td>plas</td><td>181.0</td><td>1.88</td><td>1.7</td><td>1.78</td></tr><tr><td>pres</td><td>88.0</td><td>0.98</td><td>0.93</td><td>-0.27</td></tr><tr><td>skin</td><td>44.0</td><td>1.47</td><td>0.84</td><td>0.14</td></tr><tr><td>insu</td><td>510.0</td><td>3.74</td><td>3.2</td><td>-0.82</td></tr><tr><td>mass</td><td>43.3</td><td>1.44</td><td>1.72</td><td>1.26</td></tr><tr><td>pedi</td><td>0.22</td><td>-0.75</td><td>-0.04</td><td>-0.01</td></tr><tr><td>age</td><td>26.0</td><td>-0.62</td><td>-0.2</td><td>-0.03</td></tr><tr><td>Bias</td><td>-5.21</td><td>-0.96</td><td>-1.0</td><td>None</td></tr><tr><td>Neg_evi</td><td>-7.57</td><td>-3.1</td><td>-3.18</td><td>None</td></tr><tr><td>Pos_evi</td><td>7.27</td><td>3.08</td><td>3.18</td><td>None</td></tr><tr><td>Proba</td><td>[&nbsp0.577&nbsp&nbsp0.423]</td><td>[&nbsp0.504&nbsp&nbsp0.496]</td><td>[&nbsp0.499&nbsp&nbsp0.501]</td><td>None</td></tr></table>"
      ],
      "text/plain": [
       "<ipy_table.IpyTable at 0x1b102d30>"
      ]
     },
     "execution_count": 39,
     "metadata": {},
     "output_type": "execute_result"
    }
   ],
   "source": [
    "print \"Information gain scaling: the most conflicting instance among 10 uncertain instances based on evidence\"\n",
    "print \"Index of test: \", top10_uis_ig[index_ce_ig]\n",
    "print \"Actual label\", y_test[top10_uis_ig[index_ce_ig]]\n",
    "uncertains_ce_ig_table"
   ]
  },
  {
   "cell_type": "code",
   "execution_count": 40,
   "metadata": {
    "collapsed": false,
    "scrolled": true
   },
   "outputs": [],
   "source": [
    "# unc_ie from Top 10 uncertain instances \n",
    "\n",
    "# Original features\n",
    "max_evidence_top10_ori = np.max([abs(neg_evi_ori[top10_uis_ori]),abs(pos_evi_ori[top10_uis_ori])], axis=0)\n",
    "index_ie_ori = np.argmin(max_evidence_top10_ori)\n",
    "uncertains_ie_ori = instance(header[:class_index],X_test_ori[top10_uis_ori[index_ie_ori]], X_test_ss[top10_uis_ori[index_ie_ori]],\n",
    "                                     X_test_ig[top10_uis_ori[index_ie_ori]], clf_ori, clf_ss, clf_ig)\n",
    "uncertains_ie_ori_table = uncertains_ie_ori.get_information(1)\n",
    "\n",
    "# Standard scaling\n",
    "max_evidence_top10_ss = np.max([abs(neg_evi_ss[top10_uis_ss]),abs(pos_evi_ss[top10_uis_ss])], axis=0)\n",
    "index_ie_ss = np.argmin(max_evidence_top10_ss)\n",
    "uncertains_ie_ss = instance(header[:class_index],X_test_ori[top10_uis_ss[index_ie_ss]], X_test_ss[top10_uis_ss[index_ie_ss]],\n",
    "                                     X_test_ig[top10_uis_ss[index_ie_ss]], clf_ori, clf_ss, clf_ig)\n",
    "uncertains_ie_ss_table = uncertains_ie_ss.get_information(2)\n",
    "\n",
    "# IG scaling\n",
    "max_evidence_top10_ig = np.max([abs(neg_evi_ig[top10_uis_ig]),abs(pos_evi_ig[top10_uis_ig])], axis=0)\n",
    "index_ie_ig = np.argmin(max_evidence_top10_ig)\n",
    "uncertains_ie_ig = instance(header[:class_index],X_test_ori[top10_uis_ig[index_ie_ig]], X_test_ss[top10_uis_ig[index_ie_ig]],\n",
    "                                     X_test_ig[top10_uis_ig[index_ie_ig]], clf_ori, clf_ss, clf_ig)\n",
    "uncertains_ie_ig_table = uncertains_ie_ig.get_information(3)"
   ]
  },
  {
   "cell_type": "code",
   "execution_count": 41,
   "metadata": {
    "collapsed": false
   },
   "outputs": [
    {
     "name": "stdout",
     "output_type": "stream",
     "text": [
      "Original: the most leasting instance among 10 uncertain instances based on evidence\n",
      "Index of test:  197\n",
      "Actual label 1\n"
     ]
    },
    {
     "data": {
      "text/html": [
       "<table border=\"1\" cellpadding=\"3\" cellspacing=\"0\"  style=\"border:1px solid black;border-collapse:collapse;\"><tr><td>Features</td><td>Ori_value</td><td>ss_value</td><td>ig_value</td><td>w&nbsp*&nbspv</td></tr><tr><td>preg</td><td>4.0</td><td>0.05</td><td>-0.58</td><td>0.58</td></tr><tr><td>plas</td><td>136.0</td><td>0.47</td><td>0.27</td><td>3.43</td></tr><tr><td>pres</td><td>70.0</td><td>0.05</td><td>0.05</td><td>-1.28</td></tr><tr><td>skin</td><td>0.0</td><td>-1.29</td><td>-1.54</td><td>0.0</td></tr><tr><td>insu</td><td>0.0</td><td>-0.69</td><td>-1.01</td><td>-0.0</td></tr><tr><td>mass</td><td>31.2</td><td>-0.1</td><td>0.45</td><td>1.49</td></tr><tr><td>pedi</td><td>1.18</td><td>2.14</td><td>2.33</td><td>0.83</td></tr><tr><td>age</td><td>22.0</td><td>-0.96</td><td>-0.53</td><td>0.1</td></tr><tr><td>Bias</td><td>-5.21</td><td>-0.96</td><td>-1.0</td><td>None</td></tr><tr><td>Neg_evi</td><td>-6.49</td><td>-1.36</td><td>-1.76</td><td>None</td></tr><tr><td>Pos_evi</td><td>6.43</td><td>1.4</td><td>1.77</td><td>None</td></tr><tr><td>Proba</td><td>[&nbsp0.516&nbsp&nbsp0.484]</td><td>[&nbsp0.49&nbsp&nbsp0.51]</td><td>[&nbsp0.496&nbsp&nbsp0.504]</td><td>None</td></tr></table>"
      ],
      "text/plain": [
       "<ipy_table.IpyTable at 0x1afc4438>"
      ]
     },
     "execution_count": 41,
     "metadata": {},
     "output_type": "execute_result"
    }
   ],
   "source": [
    "print \"Original: the most leasting instance among 10 uncertain instances based on evidence\"\n",
    "print \"Index of test: \", top10_uis_ori[index_ie_ori]\n",
    "print \"Actual label\", y_test[top10_uis_ori[index_ie_ori]]\n",
    "uncertains_ie_ori_table"
   ]
  },
  {
   "cell_type": "code",
   "execution_count": 42,
   "metadata": {
    "collapsed": false
   },
   "outputs": [
    {
     "name": "stdout",
     "output_type": "stream",
     "text": [
      "Standard scaling: the most leasting instance among 10 uncertain instances based on evidence\n",
      "Index of test:  186\n",
      "Actual label 0\n"
     ]
    },
    {
     "data": {
      "text/html": [
       "<table border=\"1\" cellpadding=\"3\" cellspacing=\"0\"  style=\"border:1px solid black;border-collapse:collapse;\"><tr><td>Features</td><td>Ori_value</td><td>ss_value</td><td>ig_value</td><td>w&nbsp*&nbspv</td></tr><tr><td>preg</td><td>4.0</td><td>0.05</td><td>-0.58</td><td>0.02</td></tr><tr><td>plas</td><td>154.0</td><td>1.04</td><td>0.84</td><td>1.09</td></tr><tr><td>pres</td><td>72.0</td><td>0.15</td><td>0.15</td><td>-0.04</td></tr><tr><td>skin</td><td>29.0</td><td>0.53</td><td>0.03</td><td>0.07</td></tr><tr><td>insu</td><td>126.0</td><td>0.4</td><td>0.03</td><td>-0.1</td></tr><tr><td>mass</td><td>31.3</td><td>-0.09</td><td>0.46</td><td>-0.06</td></tr><tr><td>pedi</td><td>0.34</td><td>-0.4</td><td>0.25</td><td>-0.13</td></tr><tr><td>age</td><td>37.0</td><td>0.32</td><td>0.69</td><td>0.05</td></tr><tr><td>Bias</td><td>-5.21</td><td>-0.96</td><td>-1.0</td><td>None</td></tr><tr><td>Neg_evi</td><td>-6.72</td><td>-1.29</td><td>-1.45</td><td>None</td></tr><tr><td>Pos_evi</td><td>6.59</td><td>1.24</td><td>1.43</td><td>None</td></tr><tr><td>Proba</td><td>[&nbsp0.53&nbsp&nbsp0.47]</td><td>[&nbsp0.512&nbsp&nbsp0.488]</td><td>[&nbsp0.507&nbsp&nbsp0.493]</td><td>None</td></tr></table>"
      ],
      "text/plain": [
       "<ipy_table.IpyTable at 0x1ae5e710>"
      ]
     },
     "execution_count": 42,
     "metadata": {},
     "output_type": "execute_result"
    }
   ],
   "source": [
    "print \"Standard scaling: the most leasting instance among 10 uncertain instances based on evidence\"\n",
    "print \"Index of test: \", top10_uis_ss[index_ie_ss]\n",
    "print \"Actual label\", y_test[top10_uis_ss[index_ie_ss]]\n",
    "uncertains_ie_ss_table"
   ]
  },
  {
   "cell_type": "code",
   "execution_count": 43,
   "metadata": {
    "collapsed": false
   },
   "outputs": [
    {
     "name": "stdout",
     "output_type": "stream",
     "text": [
      "Information gain scaling: the most leasting instance among 10 uncertain instances based on evidence\n",
      "Index of test:  182\n",
      "Actual label 0\n"
     ]
    },
    {
     "data": {
      "text/html": [
       "<table border=\"1\" cellpadding=\"3\" cellspacing=\"0\"  style=\"border:1px solid black;border-collapse:collapse;\"><tr><td>Features</td><td>Ori_value</td><td>ss_value</td><td>ig_value</td><td>w&nbsp*&nbspv</td></tr><tr><td>preg</td><td>10.0</td><td>1.83</td><td>0.81</td><td>0.56</td></tr><tr><td>plas</td><td>122.0</td><td>0.03</td><td>-0.17</td><td>-0.18</td></tr><tr><td>pres</td><td>78.0</td><td>0.46</td><td>0.44</td><td>-0.13</td></tr><tr><td>skin</td><td>31.0</td><td>0.66</td><td>0.14</td><td>0.02</td></tr><tr><td>insu</td><td>0.0</td><td>-0.69</td><td>-1.01</td><td>0.26</td></tr><tr><td>mass</td><td>27.6</td><td>-0.56</td><td>0.07</td><td>0.05</td></tr><tr><td>pedi</td><td>0.51</td><td>0.12</td><td>0.68</td><td>0.26</td></tr><tr><td>age</td><td>45.0</td><td>1.0</td><td>1.33</td><td>0.21</td></tr><tr><td>Bias</td><td>-5.21</td><td>-0.96</td><td>-1.0</td><td>None</td></tr><tr><td>Neg_evi</td><td>-6.64</td><td>-1.44</td><td>-1.31</td><td>None</td></tr><tr><td>Pos_evi</td><td>6.65</td><td>1.46</td><td>1.36</td><td>None</td></tr><tr><td>Proba</td><td>[&nbsp0.498&nbsp&nbsp0.502]</td><td>[&nbsp0.494&nbsp&nbsp0.506]</td><td>[&nbsp0.487&nbsp&nbsp0.513]</td><td>None</td></tr></table>"
      ],
      "text/plain": [
       "<ipy_table.IpyTable at 0x1b102e80>"
      ]
     },
     "execution_count": 43,
     "metadata": {},
     "output_type": "execute_result"
    }
   ],
   "source": [
    "print \"Information gain scaling: the most leasting instance among 10 uncertain instances based on evidence\"\n",
    "print \"Index of test: \", top10_uis_ig[index_ie_ig]\n",
    "print \"Actual label\", y_test[top10_uis_ig[index_ie_ig]]\n",
    "uncertains_ie_ig_table"
   ]
  },
  {
   "cell_type": "code",
   "execution_count": 44,
   "metadata": {
    "collapsed": false
   },
   "outputs": [],
   "source": [
    "# Least negative among Top 10 possitive \n",
    "\n",
    "# Original features\n",
    "top_positive_index_ori = np.argsort(pos_evi_ori)[::-1]\n",
    "tp_ori = top_positive_index_ori[:10]\n",
    "neg_info_ori = neg_evi_ori[tp_ori]\n",
    "index_least_neg_ori = np.argmin(neg_info_ori)\n",
    "least_neg_instance_ori = instance(header[:class_index],X_test_ori[tp_ori[index_least_neg_ori]], X_test_ss[tp_ori[index_least_neg_ori]],\n",
    "                                  X_test_ig[tp_ori[index_least_neg_ori]], clf_ori, clf_ss, clf_ig)\n",
    "least_neg_instance_ori_table1 = least_neg_instance_ori.get_information(1)\n",
    "\n",
    "# Standard scaling\n",
    "top_positive_index_ss = np.argsort(pos_evi_ss)[::-1]\n",
    "tp_ss = top_positive_index_ss[:10]\n",
    "neg_info_ss = neg_evi_ss[tp_ss]\n",
    "index_least_neg_ss = np.argmin(neg_info_ss)\n",
    "least_neg_instance_ss = instance(header[:class_index],X_test_ori[tp_ss[index_least_neg_ss]], X_test_ss[tp_ss[index_least_neg_ss]],\n",
    "                                  X_test_ig[tp_ss[index_least_neg_ss]], clf_ori, clf_ss, clf_ig)\n",
    "least_neg_instance_ss_table1 = least_neg_instance_ss.get_information(2)\n",
    "\n",
    "# Information gain scaling\n",
    "top_positive_index_ig = np.argsort(pos_evi_ig)[::-1]\n",
    "tp_ig = top_positive_index_ig[:10]\n",
    "neg_info_ig = neg_evi_ig[tp_ig]\n",
    "index_least_neg_ig = np.argmin(neg_info_ig)\n",
    "least_neg_instance_ig = instance(header[:class_index],X_test_ori[tp_ig[index_least_neg_ig]], X_test_ss[tp_ig[index_least_neg_ig]],\n",
    "                                  X_test_ig[tp_ig[index_least_neg_ig]], clf_ori, clf_ss, clf_ig)\n",
    "least_neg_instance_ig_table1 = least_neg_instance_ig.get_information(3)"
   ]
  },
  {
   "cell_type": "code",
   "execution_count": 45,
   "metadata": {
    "collapsed": false
   },
   "outputs": [
    {
     "name": "stdout",
     "output_type": "stream",
     "text": [
      "Original: Least negative in top 10 positive instances\n",
      "Index of test: 145\n",
      "Actual label 1\n"
     ]
    },
    {
     "data": {
      "text/html": [
       "<table border=\"1\" cellpadding=\"3\" cellspacing=\"0\"  style=\"border:1px solid black;border-collapse:collapse;\"><tr><td>Features</td><td>Ori_value</td><td>ss_value</td><td>ig_value</td><td>w&nbsp*&nbspv</td></tr><tr><td>preg</td><td>9.0</td><td>1.53</td><td>0.58</td><td>1.3</td></tr><tr><td>plas</td><td>171.0</td><td>1.57</td><td>1.38</td><td>4.32</td></tr><tr><td>pres</td><td>110.0</td><td>2.11</td><td>2.0</td><td>-2.01</td></tr><tr><td>skin</td><td>24.0</td><td>0.22</td><td>-0.24</td><td>0.19</td></tr><tr><td>insu</td><td>240.0</td><td>1.39</td><td>0.97</td><td>-0.35</td></tr><tr><td>mass</td><td>45.4</td><td>1.7</td><td>1.94</td><td>2.17</td></tr><tr><td>pedi</td><td>0.72</td><td>0.75</td><td>1.19</td><td>0.51</td></tr><tr><td>age</td><td>54.0</td><td>1.77</td><td>2.06</td><td>0.24</td></tr><tr><td>Bias</td><td>-5.21</td><td>-0.96</td><td>-1.0</td><td>None</td></tr><tr><td>Neg_evi</td><td>-7.58</td><td>-1.89</td><td>-1.88</td><td>None</td></tr><tr><td>Pos_evi</td><td>8.72</td><td>4.08</td><td>4.05</td><td>None</td></tr><tr><td>Proba</td><td>[&nbsp0.241&nbsp&nbsp0.759]</td><td>[&nbsp0.1&nbsp&nbsp0.9]</td><td>[&nbsp0.103&nbsp&nbsp0.897]</td><td>None</td></tr></table>"
      ],
      "text/plain": [
       "<ipy_table.IpyTable at 0x1b148390>"
      ]
     },
     "execution_count": 45,
     "metadata": {},
     "output_type": "execute_result"
    }
   ],
   "source": [
    "print \"Original: Least negative in top 10 positive instances\"\n",
    "print \"Index of test:\",tp_ori[index_least_neg_ori]\n",
    "print \"Actual label\", y_test[tp_ori[index_least_neg_ori]]\n",
    "least_neg_instance_ori_table1"
   ]
  },
  {
   "cell_type": "code",
   "execution_count": 46,
   "metadata": {
    "collapsed": false
   },
   "outputs": [
    {
     "name": "stdout",
     "output_type": "stream",
     "text": [
      "Standard scaling: Least negative in top 10 positive instances\n",
      "Index of test: 0\n",
      "Actual label 1\n"
     ]
    },
    {
     "data": {
      "text/html": [
       "<table border=\"1\" cellpadding=\"3\" cellspacing=\"0\"  style=\"border:1px solid black;border-collapse:collapse;\"><tr><td>Features</td><td>Ori_value</td><td>ss_value</td><td>ig_value</td><td>w&nbsp*&nbspv</td></tr><tr><td>preg</td><td>3.0</td><td>-0.25</td><td>-0.81</td><td>-0.13</td></tr><tr><td>plas</td><td>173.0</td><td>1.63</td><td>1.44</td><td>1.72</td></tr><tr><td>pres</td><td>82.0</td><td>0.67</td><td>0.63</td><td>-0.19</td></tr><tr><td>skin</td><td>48.0</td><td>1.72</td><td>1.05</td><td>0.23</td></tr><tr><td>insu</td><td>465.0</td><td>3.34</td><td>2.83</td><td>-0.82</td></tr><tr><td>mass</td><td>38.4</td><td>0.81</td><td>1.2</td><td>0.51</td></tr><tr><td>pedi</td><td>2.14</td><td>5.03</td><td>4.68</td><td>1.65</td></tr><tr><td>age</td><td>25.0</td><td>-0.7</td><td>-0.28</td><td>-0.11</td></tr><tr><td>Bias</td><td>-5.21</td><td>-0.96</td><td>-1.0</td><td>None</td></tr><tr><td>Neg_evi</td><td>-7.4</td><td>-2.21</td><td>-2.51</td><td>None</td></tr><tr><td>Pos_evi</td><td>8.64</td><td>4.11</td><td>4.39</td><td>None</td></tr><tr><td>Proba</td><td>[&nbsp0.225&nbsp&nbsp0.775]</td><td>[&nbsp0.13&nbsp&nbsp0.87]</td><td>[&nbsp0.133&nbsp&nbsp0.867]</td><td>None</td></tr></table>"
      ],
      "text/plain": [
       "<ipy_table.IpyTable at 0x1b148400>"
      ]
     },
     "execution_count": 46,
     "metadata": {},
     "output_type": "execute_result"
    }
   ],
   "source": [
    "print \"Standard scaling: Least negative in top 10 positive instances\"\n",
    "print \"Index of test:\",tp_ss[index_least_neg_ss]\n",
    "print \"Actual label\", y_test[tp_ss[index_least_neg_ss]]\n",
    "least_neg_instance_ss_table1"
   ]
  },
  {
   "cell_type": "code",
   "execution_count": 47,
   "metadata": {
    "collapsed": false
   },
   "outputs": [
    {
     "name": "stdout",
     "output_type": "stream",
     "text": [
      "Information gain scaling: Least negative in top 10 positive instances\n",
      "Index of test: 0\n",
      "Actual label 1\n"
     ]
    },
    {
     "data": {
      "text/html": [
       "<table border=\"1\" cellpadding=\"3\" cellspacing=\"0\"  style=\"border:1px solid black;border-collapse:collapse;\"><tr><td>Features</td><td>Ori_value</td><td>ss_value</td><td>ig_value</td><td>w&nbsp*&nbspv</td></tr><tr><td>preg</td><td>3.0</td><td>-0.25</td><td>-0.81</td><td>-0.56</td></tr><tr><td>plas</td><td>173.0</td><td>1.63</td><td>1.44</td><td>1.51</td></tr><tr><td>pres</td><td>82.0</td><td>0.67</td><td>0.63</td><td>-0.19</td></tr><tr><td>skin</td><td>48.0</td><td>1.72</td><td>1.05</td><td>0.18</td></tr><tr><td>insu</td><td>465.0</td><td>3.34</td><td>2.83</td><td>-0.72</td></tr><tr><td>mass</td><td>38.4</td><td>0.81</td><td>1.2</td><td>0.88</td></tr><tr><td>pedi</td><td>2.14</td><td>5.03</td><td>4.68</td><td>1.82</td></tr><tr><td>age</td><td>25.0</td><td>-0.7</td><td>-0.28</td><td>-0.04</td></tr><tr><td>Bias</td><td>-5.21</td><td>-0.96</td><td>-1.0</td><td>None</td></tr><tr><td>Neg_evi</td><td>-7.4</td><td>-2.21</td><td>-2.51</td><td>None</td></tr><tr><td>Pos_evi</td><td>8.64</td><td>4.11</td><td>4.39</td><td>None</td></tr><tr><td>Proba</td><td>[&nbsp0.225&nbsp&nbsp0.775]</td><td>[&nbsp0.13&nbsp&nbsp0.87]</td><td>[&nbsp0.133&nbsp&nbsp0.867]</td><td>None</td></tr></table>"
      ],
      "text/plain": [
       "<ipy_table.IpyTable at 0x1b1483c8>"
      ]
     },
     "execution_count": 47,
     "metadata": {},
     "output_type": "execute_result"
    }
   ],
   "source": [
    "print \"Information gain scaling: Least negative in top 10 positive instances\"\n",
    "print \"Index of test:\",tp_ig[index_least_neg_ig]\n",
    "print \"Actual label\", y_test[tp_ig[index_least_neg_ig]]\n",
    "least_neg_instance_ig_table1"
   ]
  },
  {
   "cell_type": "code",
   "execution_count": 48,
   "metadata": {
    "collapsed": false
   },
   "outputs": [
    {
     "name": "stdout",
     "output_type": "stream",
     "text": [
      "[199   6 145   0 247  53  39 206 220 207]\n",
      "[199  39   0   6 145 247  53 220  23 233]\n",
      "[199   0  39 145   6  23  53 233 247 139]\n"
     ]
    }
   ],
   "source": [
    "# The indices of top 10 positive based on positive evidence\n",
    "\n",
    "print tp_ori\n",
    "print tp_ss\n",
    "print tp_ig"
   ]
  },
  {
   "cell_type": "code",
   "execution_count": 49,
   "metadata": {
    "collapsed": false
   },
   "outputs": [],
   "source": [
    "# Least positive among Top 10 negative instances\n",
    "\n",
    "# Original features\n",
    "top_negative_index_ori = np.argsort(abs(neg_evi_ori))[::-1]\n",
    "tn_ori = top_negative_index_ori[:10]\n",
    "pos_info_ori = pos_evi_ori[tp_ori]\n",
    "index_least_pos_ori = np.argmin(pos_info_ori)\n",
    "least_pos_instance_ori = instance(header[:class_index],X_test_ori[tn_ori[index_least_pos_ori]], X_test_ss[tn_ori[index_least_pos_ori]],\n",
    "                                  X_test_ig[tn_ori[index_least_pos_ori]], clf_ori, clf_ss, clf_ig)\n",
    "least_pos_instance_ori_table1 = least_pos_instance_ori.get_information(1)\n",
    "\n",
    "# Standard scaling\n",
    "top_negative_index_ss = np.argsort(abs(neg_evi_ss))[::-1]\n",
    "tn_ss = top_negative_index_ss[:10]\n",
    "pos_info_ss = pos_evi_ss[tp_ss]\n",
    "index_least_pos_ss = np.argmin(pos_info_ss)\n",
    "least_pos_instance_ss = instance(header[:class_index],X_test_ori[tn_ss[index_least_pos_ss]], X_test_ss[tn_ss[index_least_pos_ss]],\n",
    "                                  X_test_ig[tn_ss[index_least_pos_ss]], clf_ori, clf_ss, clf_ig)\n",
    "least_pos_instance_ss_table1 = least_pos_instance_ss.get_information(2)\n",
    "\n",
    "\n",
    "# Information gain scaling\n",
    "top_negative_index_ig = np.argsort(abs(neg_evi_ig))[::-1]\n",
    "tn_ig = top_negative_index_ig[:10]\n",
    "pos_info_ig = pos_evi_ig[tp_ig]\n",
    "index_least_pos_ig = np.argmin(pos_info_ig)\n",
    "least_pos_instance_ig = instance(header[:class_index],X_test_ori[tn_ig[index_least_pos_ig]], X_test_ss[tn_ig[index_least_pos_ig]],\n",
    "                                  X_test_ig[tn_ig[index_least_pos_ig]], clf_ori, clf_ss, clf_ig)\n",
    "least_pos_instance_ig_table1 = least_pos_instance_ig.get_information(3)"
   ]
  },
  {
   "cell_type": "code",
   "execution_count": 50,
   "metadata": {
    "collapsed": false
   },
   "outputs": [
    {
     "name": "stdout",
     "output_type": "stream",
     "text": [
      "Original: Least positive in top 10 negative instances\n",
      "Index of test: 208\n",
      "Actual label 1\n"
     ]
    },
    {
     "data": {
      "text/html": [
       "<table border=\"1\" cellpadding=\"3\" cellspacing=\"0\"  style=\"border:1px solid black;border-collapse:collapse;\"><tr><td>Features</td><td>Ori_value</td><td>ss_value</td><td>ig_value</td><td>w&nbsp*&nbspv</td></tr><tr><td>preg</td><td>7.0</td><td>0.94</td><td>0.12</td><td>1.01</td></tr><tr><td>plas</td><td>168.0</td><td>1.47</td><td>1.28</td><td>4.24</td></tr><tr><td>pres</td><td>88.0</td><td>0.98</td><td>0.93</td><td>-1.61</td></tr><tr><td>skin</td><td>42.0</td><td>1.35</td><td>0.73</td><td>0.34</td></tr><tr><td>insu</td><td>321.0</td><td>2.09</td><td>1.64</td><td>-0.47</td></tr><tr><td>mass</td><td>38.2</td><td>0.79</td><td>1.18</td><td>1.83</td></tr><tr><td>pedi</td><td>0.79</td><td>0.95</td><td>1.35</td><td>0.55</td></tr><tr><td>age</td><td>40.0</td><td>0.58</td><td>0.93</td><td>0.18</td></tr><tr><td>Bias</td><td>-5.21</td><td>-0.96</td><td>-1.0</td><td>None</td></tr><tr><td>Neg_evi</td><td>-7.3</td><td>-1.74</td><td>-1.69</td><td>None</td></tr><tr><td>Pos_evi</td><td>8.14</td><td>3.13</td><td>3.09</td><td>None</td></tr><tr><td>Proba</td><td>[&nbsp0.3&nbsp&nbsp0.7]</td><td>[&nbsp0.2&nbsp&nbsp0.8]</td><td>[&nbsp0.199&nbsp&nbsp0.801]</td><td>None</td></tr></table>"
      ],
      "text/plain": [
       "<ipy_table.IpyTable at 0x1afc4cc0>"
      ]
     },
     "execution_count": 50,
     "metadata": {},
     "output_type": "execute_result"
    }
   ],
   "source": [
    "print \"Original: Least positive in top 10 negative instances\"\n",
    "print \"Index of test:\",tn_ori[index_least_pos_ori]\n",
    "print \"Actual label\", y_test[tn_ori[index_least_pos_ori]]\n",
    "least_pos_instance_ori_table1"
   ]
  },
  {
   "cell_type": "code",
   "execution_count": 51,
   "metadata": {
    "collapsed": false
   },
   "outputs": [
    {
     "name": "stdout",
     "output_type": "stream",
     "text": [
      "Standard scaling: Least positive in top 10 negative instances\n",
      "Index of test: 244\n",
      "Actual label 0\n"
     ]
    },
    {
     "data": {
      "text/html": [
       "<table border=\"1\" cellpadding=\"3\" cellspacing=\"0\"  style=\"border:1px solid black;border-collapse:collapse;\"><tr><td>Features</td><td>Ori_value</td><td>ss_value</td><td>ig_value</td><td>w&nbsp*&nbspv</td></tr><tr><td>preg</td><td>1.0</td><td>-0.84</td><td>-1.28</td><td>-0.45</td></tr><tr><td>plas</td><td>71.0</td><td>-1.56</td><td>-1.79</td><td>-1.65</td></tr><tr><td>pres</td><td>62.0</td><td>-0.37</td><td>-0.34</td><td>0.1</td></tr><tr><td>skin</td><td>0.0</td><td>-1.29</td><td>-1.54</td><td>-0.17</td></tr><tr><td>insu</td><td>0.0</td><td>-0.69</td><td>-1.01</td><td>0.17</td></tr><tr><td>mass</td><td>21.8</td><td>-1.29</td><td>-0.53</td><td>-0.81</td></tr><tr><td>pedi</td><td>0.42</td><td>-0.17</td><td>0.44</td><td>-0.06</td></tr><tr><td>age</td><td>26.0</td><td>-0.62</td><td>-0.2</td><td>-0.1</td></tr><tr><td>Bias</td><td>-5.21</td><td>-0.96</td><td>-1.0</td><td>None</td></tr><tr><td>Neg_evi</td><td>-6.35</td><td>-4.19</td><td>-4.44</td><td>None</td></tr><tr><td>Pos_evi</td><td>3.39</td><td>0.27</td><td>0.53</td><td>None</td></tr><tr><td>Proba</td><td>[&nbsp0.951&nbsp&nbsp0.049]</td><td>[&nbsp0.98&nbsp&nbsp0.02]</td><td>[&nbsp0.98&nbsp&nbsp0.02]</td><td>None</td></tr></table>"
      ],
      "text/plain": [
       "<ipy_table.IpyTable at 0x1afc44e0>"
      ]
     },
     "execution_count": 51,
     "metadata": {},
     "output_type": "execute_result"
    }
   ],
   "source": [
    "print \"Standard scaling: Least positive in top 10 negative instances\"\n",
    "print \"Index of test:\",tn_ss[index_least_pos_ss]\n",
    "print \"Actual label\", y_test[tn_ss[index_least_pos_ss]]\n",
    "least_pos_instance_ss_table1"
   ]
  },
  {
   "cell_type": "code",
   "execution_count": 52,
   "metadata": {
    "collapsed": false
   },
   "outputs": [
    {
     "name": "stdout",
     "output_type": "stream",
     "text": [
      "Information gain scaling: Least positive in top 10 negative instances\n",
      "Index of test: 171\n",
      "Actual label 0\n"
     ]
    },
    {
     "data": {
      "text/html": [
       "<table border=\"1\" cellpadding=\"3\" cellspacing=\"0\"  style=\"border:1px solid black;border-collapse:collapse;\"><tr><td>Features</td><td>Ori_value</td><td>ss_value</td><td>ig_value</td><td>w&nbsp*&nbspv</td></tr><tr><td>preg</td><td>1.0</td><td>-0.84</td><td>-1.28</td><td>-0.88</td></tr><tr><td>plas</td><td>96.0</td><td>-0.78</td><td>-1.0</td><td>-1.05</td></tr><tr><td>pres</td><td>122.0</td><td>2.73</td><td>2.59</td><td>-0.76</td></tr><tr><td>skin</td><td>0.0</td><td>-1.29</td><td>-1.54</td><td>-0.26</td></tr><tr><td>insu</td><td>0.0</td><td>-0.69</td><td>-1.01</td><td>0.26</td></tr><tr><td>mass</td><td>22.4</td><td>-1.22</td><td>-0.47</td><td>-0.35</td></tr><tr><td>pedi</td><td>0.21</td><td>-0.8</td><td>-0.08</td><td>-0.03</td></tr><tr><td>age</td><td>27.0</td><td>-0.53</td><td>-0.12</td><td>-0.02</td></tr><tr><td>Bias</td><td>-5.21</td><td>-0.96</td><td>-1.0</td><td>None</td></tr><tr><td>Neg_evi</td><td>-7.44</td><td>-4.28</td><td>-4.34</td><td>None</td></tr><tr><td>Pos_evi</td><td>3.9</td><td>0.17</td><td>0.26</td><td>None</td></tr><tr><td>Proba</td><td>[&nbsp0.972&nbsp&nbsp0.028]</td><td>[&nbsp0.984&nbsp&nbsp0.016]</td><td>[&nbsp0.983&nbsp&nbsp0.017]</td><td>None</td></tr></table>"
      ],
      "text/plain": [
       "<ipy_table.IpyTable at 0x1b1488d0>"
      ]
     },
     "execution_count": 52,
     "metadata": {},
     "output_type": "execute_result"
    }
   ],
   "source": [
    "print \"Information gain scaling: Least positive in top 10 negative instances\"\n",
    "print \"Index of test:\",tn_ig[index_least_pos_ig]\n",
    "print \"Actual label\", y_test[tn_ig[index_least_pos_ig]]\n",
    "least_pos_instance_ig_table1"
   ]
  },
  {
   "cell_type": "code",
   "execution_count": 53,
   "metadata": {
    "collapsed": false
   },
   "outputs": [
    {
     "name": "stdout",
     "output_type": "stream",
     "text": [
      "[145 111 160  87  74 171   0 118 220 208]\n",
      "[238 204 152  10 213 201  19 171 165 244]\n",
      "[238 204  10 152 213 201  19 244 165 171]\n"
     ]
    }
   ],
   "source": [
    "# The indices of top 10 negative based on negative evidence\n",
    "\n",
    "print tn_ori\n",
    "print tn_ss\n",
    "print tn_ig"
   ]
  }
 ],
 "metadata": {
  "kernelspec": {
   "display_name": "Python 2",
   "language": "python",
   "name": "python2"
  },
  "language_info": {
   "codemirror_mode": {
    "name": "ipython",
    "version": 2
   },
   "file_extension": ".py",
   "mimetype": "text/x-python",
   "name": "python",
   "nbconvert_exporter": "python",
   "pygments_lexer": "ipython2",
   "version": "2.7.10"
  }
 },
 "nbformat": 4,
 "nbformat_minor": 0
}
