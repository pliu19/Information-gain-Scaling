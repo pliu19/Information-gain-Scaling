{
 "cells": [
  {
   "cell_type": "code",
   "execution_count": 1,
   "metadata": {
    "collapsed": true
   },
   "outputs": [],
   "source": [
    "import numpy as np\n",
    "import matplotlib.pyplot as plt\n",
    "from sklearn.metrics import accuracy_score\n",
    "from sklearn.preprocessing import scale\n",
    "from sklearn.cross_validation import train_test_split, ShuffleSplit\n",
    "from classifiers import TransparentLogisticRegression, TransparentLinearRegression\n",
    "from matplotlib import pylab as pl\n",
    "from scipy.sparse import diags\n",
    "from IPython import display\n",
    "from scale import decision_tree_scale\n",
    "from IPython.display import display, HTML\n",
    "from ipy_table import *\n",
    "import math\n",
    "import scipy.stats"
   ]
  },
  {
   "cell_type": "code",
   "execution_count": 2,
   "metadata": {
    "collapsed": true
   },
   "outputs": [],
   "source": [
    "# Value of PDF(Gaussian Distribution)\n",
    "def proba(mean, std, x):\n",
    "    \n",
    "    result = 1 / (std * np.sqrt(2 * math.pi)) * np.exp(-np.square(x - mean)/(2 * np.square(std)))\n",
    "    \n",
    "    return result"
   ]
  },
  {
   "cell_type": "code",
   "execution_count": 3,
   "metadata": {
    "collapsed": false
   },
   "outputs": [],
   "source": [
    "def function(mean1, mean2, var1, var2):\n",
    "    \n",
    "    theta1 = (var1 - var2)\n",
    "    theta0 = (var2*mean1 - var1*mean2)\n",
    "    a = \"I'm %s. I'm %d year old\" % ('Vamei', 99)\n",
    "    \n",
    "    print \"%s * x + (%s) \" % (theta1, theta0)"
   ]
  },
  {
   "cell_type": "code",
   "execution_count": 4,
   "metadata": {
    "collapsed": true
   },
   "outputs": [],
   "source": [
    "# breast-w\n",
    "# source link: https://archive.ics.uci.edu/ml/datasets/Breast+Cancer+Wisconsin+%28Original%29\n",
    "# relevant paper: Multisurface method of pattern separation for medical diagnosis applied to breast cytology\n",
    "\n",
    "data = \"breast-w\"\n",
    "dataset = \"breast-w.csv\"\n",
    "class_index = 9\n",
    "num_cols = 10\n",
    "classes = ['benign', 'malignant']\n",
    "read_cols = [i for i in range(num_cols) if i != class_index]\n",
    "file_path = \"D:\\\\IIT_Master\\\\2016 Spring\\\\CS597\\\\uci\\\\uci\\\\uci-tar\\\\nominal\\\\\"+dataset\n",
    "\n",
    "\n",
    "data = \"diabetes\"\n",
    "dataset = \"diabetes.csv\"\n",
    "class_index = 8\n",
    "num_cols = 9\n",
    "classes= ['tested_negative', 'tested_positive']\n",
    "read_cols = [i for i in range(num_cols) if i != class_index]\n",
    "file_path = \"D:\\\\IIT_Master\\\\2016 Spring\\\\CS597\\\\uci\\\\uci\\\\uci-tar\\\\nominal\\\\\"+dataset"
   ]
  },
  {
   "cell_type": "code",
   "execution_count": 5,
   "metadata": {
    "collapsed": true
   },
   "outputs": [],
   "source": [
    "# ['Clump_Thickness' 'Cell_Size_Uniformity' 'Cell_Shape_Uniformity' 'Marginal_Adhesion' 'Single_Epi_Cell_Size' 'Bare_Nuclei' 'Bland_Chromatin'\n",
    "#  'Normal_Nucleoli' 'Mitoses' \n",
    "\n",
    "with open(file_path, 'r') as f:\n",
    "    header = f.readline()\n",
    "    #print header\n",
    "    #header = np.fromstring(\"a, b\", dtype=np.str_, sep=',')\n",
    "    header = np.array(header.split(','))\n",
    "    feature_names = header[read_cols]"
   ]
  },
  {
   "cell_type": "code",
   "execution_count": 6,
   "metadata": {
    "collapsed": false
   },
   "outputs": [
    {
     "name": "stdout",
     "output_type": "stream",
     "text": [
      "The shape of this data set: (768L, 8L)\n"
     ]
    }
   ],
   "source": [
    "# Loading the data\n",
    "\n",
    "X = np.loadtxt(file_path, dtype=float, delimiter=\",\", skiprows=1, \\\n",
    "                   usecols=read_cols)\n",
    "y = np.loadtxt(file_path, dtype=int, delimiter=\",\", skiprows=1, \\\n",
    "                   usecols=(class_index,), converters={class_index: lambda x: classes.index(x)})\n",
    "\n",
    "num_inst, num_feat = np.shape(X)\n",
    "print \"The shape of this data set:\",np.shape(X)"
   ]
  },
  {
   "cell_type": "code",
   "execution_count": 7,
   "metadata": {
    "collapsed": false
   },
   "outputs": [
    {
     "name": "stdout",
     "output_type": "stream",
     "text": [
      "\n",
      "preg\n",
      "-4.85944645935 * x + (1.78385029361) \n",
      "\n",
      "plas\n",
      "-334.337366696 * x + (15439.3316579) \n",
      "\n",
      "pres\n",
      "-134.552324144 * x + (8314.46908795) \n",
      "\n",
      "skin\n",
      "-90.1387770425 * x + (1219.28152184) \n",
      "\n",
      "insu\n",
      "-9408.1054137 * x + (339498.826507) \n",
      "\n",
      "mass\n",
      "6.46174014124 * x + (-481.355256561) \n",
      "\n",
      "pedi\n",
      "-0.0488574034127 * x + (0.0102145303626) \n",
      "\n",
      "age\n",
      "16.0082020717 * x + (-1297.7785146) \n"
     ]
    }
   ],
   "source": [
    "positive_index = np.where(y==1)\n",
    "\n",
    "negative_index = np.where(y==0)\n",
    "\n",
    "\n",
    "for i in range(num_feat):\n",
    "    curren_features = X[:,i]\n",
    "    X_positive = curren_features[positive_index]\n",
    "    X_negative = curren_features[negative_index]\n",
    "    \n",
    "    print \"\"\n",
    "    print feature_names[i]\n",
    "#     print \"Negative mean and var: \", np.mean(X_negative), np.var(X_negative)\n",
    "#     print \"Positive mean and var: \", np.mean(X_positive), np.var(X_positive)\n",
    "    # print \"\"\n",
    "    \n",
    "    mean_pos = np.mean(X_positive)\n",
    "    std_pos = np.std(X_positive)\n",
    "    var_pos = np.var(X_positive)\n",
    "    \n",
    "    \n",
    "    mean_neg = np.mean(X_negative)\n",
    "    std_neg = np.std(X_negative)\n",
    "    var_neg = np.var(X_negative)\n",
    "    \n",
    "    function(mean_neg, mean_pos, var_neg, var_pos)\n",
    "    \n",
    "    unique_value = np.unique(curren_features)\n",
    "    \n",
    "    feature_array = []\n",
    "    \n",
    "    for j in unique_value:\n",
    "        \n",
    "        pos_proba = scipy.stats.norm(mean_pos, std_pos).pdf(j)\n",
    "        neg_proba = scipy.stats.norm(mean_neg, std_neg).pdf(j)        \n",
    "        ratio = neg_proba/pos_proba\n",
    "        \n",
    "        temp_list = [j, neg_proba, pos_proba, ratio]\n",
    "        feature_array.append(temp_list)\n",
    "        \n",
    "    feature_array = np.asarray(feature_array, dtype = np.float32)\n",
    "    # print feature_array\n",
    "    file_name = data + \"_\" + feature_names[i] + \".csv\"\n",
    "    np.savetxt(file_name,feature_array, delimiter=',')"
   ]
  },
  {
   "cell_type": "code",
   "execution_count": null,
   "metadata": {
    "collapsed": true
   },
   "outputs": [],
   "source": [
    ""
   ]
  },
  {
   "cell_type": "code",
   "execution_count": null,
   "metadata": {
    "collapsed": true
   },
   "outputs": [],
   "source": [
    ""
   ]
  },
  {
   "cell_type": "code",
   "execution_count": null,
   "metadata": {
    "collapsed": true
   },
   "outputs": [],
   "source": [
    ""
   ]
  },
  {
   "cell_type": "code",
   "execution_count": null,
   "metadata": {
    "collapsed": true
   },
   "outputs": [],
   "source": [
    ""
   ]
  },
  {
   "cell_type": "code",
   "execution_count": null,
   "metadata": {
    "collapsed": true
   },
   "outputs": [],
   "source": [
    ""
   ]
  }
 ],
 "metadata": {
  "kernelspec": {
   "display_name": "Python 2",
   "language": "python",
   "name": "python2"
  },
  "language_info": {
   "codemirror_mode": {
    "name": "ipython",
    "version": 2.0
   },
   "file_extension": ".py",
   "mimetype": "text/x-python",
   "name": "python",
   "nbconvert_exporter": "python",
   "pygments_lexer": "ipython2",
   "version": "2.7.10"
  }
 },
 "nbformat": 4,
 "nbformat_minor": 0
}