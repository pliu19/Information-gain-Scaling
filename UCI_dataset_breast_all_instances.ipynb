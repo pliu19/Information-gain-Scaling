{
 "cells": [
  {
   "cell_type": "code",
   "execution_count": 34,
   "metadata": {
    "collapsed": false,
    "scrolled": true
   },
   "outputs": [],
   "source": [
    "import numpy as np\n",
    "import matplotlib.pyplot as plt\n",
    "from sklearn.metrics import accuracy_score\n",
    "from sklearn.preprocessing import scale\n",
    "from sklearn.cross_validation import train_test_split, ShuffleSplit\n",
    "from classifiers import TransparentLogisticRegression, TransparentLinearRegression\n",
    "from matplotlib import pylab as pl\n",
    "from scipy.sparse import diags\n",
    "from IPython import display\n",
    "from scale import decision_tree_scale\n",
    "from IPython.display import display, HTML\n",
    "from ipy_table import *\n",
    "from IPython.display import Image"
   ]
  },
  {
   "cell_type": "code",
   "execution_count": 2,
   "metadata": {
    "collapsed": true
   },
   "outputs": [],
   "source": [
    "# calculate # of instances between mean and splitting points for each feature\n",
    "def get_num_instances(X, mean1, mean2):\n",
    "    # m is # of instances, n is # of features, also the length of mean1 and mean2\n",
    "    m, n = np.shape(X)\n",
    "    result = []\n",
    "    for i in range(n):\n",
    "        current_feature = X[:,i]\n",
    "        if mean1[i]>mean2[i]:\n",
    "            a = mean2[i]\n",
    "            b = mean1[i]\n",
    "        else:\n",
    "            a = mean1[i]\n",
    "            b = mean2[i]\n",
    "        num = ((current_feature > a) & (current_feature < b)).sum()\n",
    "        result.append(num)\n",
    "   \n",
    "    return result"
   ]
  },
  {
   "cell_type": "code",
   "execution_count": 3,
   "metadata": {
    "collapsed": true
   },
   "outputs": [],
   "source": [
    "def transform(X, mns, sstd, axis=0):\n",
    "    X = np.asanyarray(X)\n",
    "    if axis and mns.ndim < X.ndim:\n",
    "\n",
    "        return ((X - np.expand_dims(mns, axis=axis)) /\n",
    "                    np.expand_dims(sstd, axis=axis))\n",
    "    else:\n",
    "\n",
    "        return (X - mns) / sstd"
   ]
  },
  {
   "cell_type": "code",
   "execution_count": 4,
   "metadata": {
    "collapsed": false
   },
   "outputs": [],
   "source": [
    "# combine header and table \n",
    "def combine_table(header, table):\n",
    "\n",
    "    result = np.concatenate((header, table), axis=0)\n",
    "    return result"
   ]
  },
  {
   "cell_type": "code",
   "execution_count": 5,
   "metadata": {
    "collapsed": false,
    "scrolled": true
   },
   "outputs": [],
   "source": [
    "# breast-w\n",
    "# source link: https://archive.ics.uci.edu/ml/datasets/Breast+Cancer+Wisconsin+%28Original%29\n",
    "# relevant paper: Multisurface method of pattern separation for medical diagnosis applied to breast cytology\n",
    "\n",
    "dataset = \"breast-w.csv\"\n",
    "class_index = 9\n",
    "num_cols = 10\n",
    "classes = ['benign', 'malignant']\n",
    "read_cols = [i for i in range(num_cols) if i != class_index]\n",
    "file_path = \"D:\\\\IIT_Master\\\\2016 Spring\\\\CS597\\\\uci\\\\uci\\\\uci-tar\\\\nominal\\\\\"+dataset"
   ]
  },
  {
   "cell_type": "code",
   "execution_count": 6,
   "metadata": {
    "collapsed": false,
    "scrolled": true
   },
   "outputs": [],
   "source": [
    "# ['Clump_Thickness' 'Cell_Size_Uniformity' 'Cell_Shape_Uniformity' 'Marginal_Adhesion' 'Single_Epi_Cell_Size' 'Bare_Nuclei' 'Bland_Chromatin'\n",
    "#  'Normal_Nucleoli' 'Mitoses' \n",
    "\n",
    "\n",
    "with open(file_path, 'r') as f:\n",
    "    header = f.readline()\n",
    "    #print header\n",
    "    #header = np.fromstring(\"a, b\", dtype=np.str_, sep=',')\n",
    "    header = np.array(header.split(','))\n",
    "    feature_names = header[read_cols]"
   ]
  },
  {
   "cell_type": "code",
   "execution_count": 7,
   "metadata": {
    "collapsed": false,
    "scrolled": true
   },
   "outputs": [
    {
     "name": "stdout",
     "output_type": "stream",
     "text": [
      "The shape of this data set: (699L, 9L)\n"
     ]
    }
   ],
   "source": [
    "# Loading the data and splitting the train, test\n",
    "\n",
    "X = np.loadtxt(file_path, dtype=float, delimiter=\",\", skiprows=1, \\\n",
    "                   usecols=read_cols)\n",
    "y = np.loadtxt(file_path, dtype=int, delimiter=\",\", skiprows=1, \\\n",
    "                   usecols=(class_index,), converters={class_index: lambda x: classes.index(x)})\n",
    "\n",
    "num_inst, num_feat = np.shape(X)\n",
    "print \"The shape of this data set:\",np.shape(X)"
   ]
  },
  {
   "cell_type": "code",
   "execution_count": 8,
   "metadata": {
    "collapsed": false
   },
   "outputs": [
    {
     "data": {
      "text/plain": [
       "TransparentLogisticRegression(C=1.0, class_weight=None, dual=False,\n",
       "               fit_intercept=True, intercept_scaling=1, max_iter=100,\n",
       "               multi_class='ovr', n_jobs=1, penalty='l2',\n",
       "               random_state=None, solver='liblinear', tol=0.0001,\n",
       "               verbose=0, warm_start=False)"
      ]
     },
     "execution_count": 8,
     "metadata": {},
     "output_type": "execute_result"
    }
   ],
   "source": [
    "clf_ori = TransparentLogisticRegression()\n",
    "clf_ss = TransparentLogisticRegression()\n",
    "clf_ig = TransparentLogisticRegression()\n",
    "\n",
    "# Original feature\n",
    "\n",
    "X_ori = np.copy(X)\n",
    "\n",
    "# standard scaling \n",
    "\n",
    "X_ss = scale(X)\n",
    "\n",
    "X_mean_ss = np.mean(X, axis=0)\n",
    "X_std_ss = np.std(X, axis=0)\n",
    "\n",
    "# Information scaling\n",
    "\n",
    "X_ig = clf_ig.fit_transform(X, y)\n",
    "\n",
    "clf_ori.fit(X_ori, y)\n",
    "clf_ss.fit(X_ss, y)\n",
    "clf_ig.fit(X_ig, y)"
   ]
  },
  {
   "cell_type": "code",
   "execution_count": 9,
   "metadata": {
    "collapsed": false
   },
   "outputs": [
    {
     "name": "stdout",
     "output_type": "stream",
     "text": [
      "[-6.26469047]\n",
      "[-1.11181652]\n",
      "[-0.34540258]\n"
     ]
    },
    {
     "data": {
      "text/html": [
       "<table border=\"1\" cellpadding=\"3\" cellspacing=\"0\"  style=\"border:1px solid black;border-collapse:collapse;\"><tr><td>Clump_Thickness</td><td>0.268355839817</td><td>1.30750883564</td><td>1.59962074247</td></tr><tr><td>Cell_Size_Uniformity</td><td>0.161035620531</td><td>0.236655931212</td><td>0.241573593667</td></tr><tr><td>Cell_Shape_Uniformity</td><td>0.271254625375</td><td>0.830354848911</td><td>0.847119824084</td></tr><tr><td>Marginal_Adhesion</td><td>0.133038684375</td><td>0.597417327214</td><td>0.614026393774</td></tr><tr><td>Single_Epi_Cell_Size</td><td>-0.0554833619829</td><td>0.171602386436</td><td>0.180287026627</td></tr><tr><td>Bare_Nuclei</td><td>0.359258389322</td><td>1.35692360143</td><td>1.36453617317</td></tr><tr><td>Bland_Chromatin</td><td>0.18807739954</td><td>0.89801269866</td><td>0.904534205638</td></tr><tr><td>Normal_Nucleoli</td><td>0.147251749675</td><td>0.429887548103</td><td>0.438723613738</td></tr><tr><td>Mitoses</td><td>0.228714026473</td><td>0.793664689779</td><td>0.77048722654</td></tr></table>"
      ],
      "text/plain": [
       "<ipy_table.IpyTable at 0x3e9c550>"
      ]
     },
     "metadata": {},
     "output_type": "display_data"
    }
   ],
   "source": [
    "print clf_ori.intercept_\n",
    "print clf_ss.intercept_\n",
    "print clf_ig.intercept_\n",
    "\n",
    "array1 = np.array([feature_names, clf_ori.coef_[0], clf_ss.coef_[0], clf_ig.coef_[0]])\n",
    "display(make_table(array1.T))"
   ]
  },
  {
   "cell_type": "code",
   "execution_count": 10,
   "metadata": {
    "collapsed": false
   },
   "outputs": [
    {
     "data": {
      "text/plain": [
       "array([[ 1,  1,  1,  1,  1,  1,  1,  1,  1],\n",
       "       [ 2,  2,  2,  2,  2,  2,  2,  2,  2],\n",
       "       [ 3,  3,  3,  3,  3,  3,  3,  3,  3],\n",
       "       [ 4,  4,  4,  4,  4,  4,  4,  4,  4],\n",
       "       [ 5,  5,  5,  5,  5,  5,  5,  5,  5],\n",
       "       [ 6,  6,  6,  6,  6,  6,  6,  6,  6],\n",
       "       [ 7,  7,  7,  7,  7,  7,  7,  7,  7],\n",
       "       [ 8,  8,  8,  8,  8,  8,  8,  8,  8],\n",
       "       [ 9,  9,  9,  9,  9,  9,  9,  9,  9],\n",
       "       [10, 10, 10, 10, 10, 10, 10, 10, 10]])"
      ]
     },
     "execution_count": 10,
     "metadata": {},
     "output_type": "execute_result"
    }
   ],
   "source": [
    "a = np.array([1,2,3,4,5,6,7,8,9,10])\n",
    "\n",
    "b = np.array([a, a, a, a, a, a, a, a, a])\n",
    "\n",
    "b.T"
   ]
  },
  {
   "cell_type": "code",
   "execution_count": 11,
   "metadata": {
    "collapsed": false
   },
   "outputs": [
    {
     "name": "stdout",
     "output_type": "stream",
     "text": [
      "This is feature table.\n"
     ]
    },
    {
     "data": {
      "text/html": [
       "<table border=\"1\" cellpadding=\"3\" cellspacing=\"0\"  style=\"border:1px solid black;border-collapse:collapse;\"><tr><td>-1.2147</td><td>-0.7000</td><td>-0.7433</td><td>-0.6332</td><td>-1.0015</td><td>-0.7070</td><td>-1.0005</td><td>-0.6118</td><td>-0.3439</td></tr><tr><td>-0.8593</td><td>-0.3720</td><td>-0.4066</td><td>-0.2828</td><td>-0.5496</td><td>-0.4292</td><td>-0.5901</td><td>-0.2841</td><td>0.2396</td></tr><tr><td>-0.5039</td><td>-0.0441</td><td>-0.0698</td><td>0.0677</td><td>-0.0976</td><td>-0.1513</td><td>-0.1797</td><td>0.0436</td><td>0.8231</td></tr><tr><td>-0.1485</td><td>0.2838</td><td>0.2669</td><td>0.4182</td><td>0.3543</td><td>0.1265</td><td>0.2307</td><td>0.3713</td><td>1.4065</td></tr><tr><td>0.2069</td><td>0.6118</td><td>0.6036</td><td>0.7686</td><td>0.8062</td><td>0.4043</td><td>0.6411</td><td>0.6990</td><td>1.9900</td></tr><tr><td>0.5623</td><td>0.9397</td><td>0.9403</td><td>1.1191</td><td>1.2582</td><td>0.6822</td><td>1.0516</td><td>1.0267</td><td>2.5735</td></tr><tr><td>0.9177</td><td>1.2677</td><td>1.2770</td><td>1.4696</td><td>1.7101</td><td>0.9600</td><td>1.4620</td><td>1.3545</td><td>3.1570</td></tr><tr><td>1.2731</td><td>1.5956</td><td>1.6138</td><td>1.8200</td><td>2.1620</td><td>1.2378</td><td>1.8724</td><td>1.6822</td><td>3.7405</td></tr><tr><td>1.6285</td><td>1.9236</td><td>1.9505</td><td>2.1705</td><td>2.6140</td><td>1.5157</td><td>2.2828</td><td>2.0099</td><td>4.3239</td></tr><tr><td>1.9839</td><td>2.2515</td><td>2.2872</td><td>2.5210</td><td>3.0659</td><td>1.7935</td><td>2.6932</td><td>2.3376</td><td>4.9074</td></tr></table>"
      ],
      "text/plain": [
       "<ipy_table.IpyTable at 0x1af36160>"
      ]
     },
     "metadata": {},
     "output_type": "display_data"
    },
    {
     "name": "stdout",
     "output_type": "stream",
     "text": [
      "This is evi table.\n"
     ]
    },
    {
     "data": {
      "text/html": [
       "<table border=\"1\" cellpadding=\"3\" cellspacing=\"0\"  style=\"border:1px solid black;border-collapse:collapse;\"><tr><td>-1.5882</td><td>-0.1657</td><td>-0.6172</td><td>-0.3783</td><td>-0.1719</td><td>-0.9593</td><td>-0.8984</td><td>-0.2630</td><td>-0.2730</td></tr><tr><td>-1.1235</td><td>-0.0880</td><td>-0.3376</td><td>-0.1689</td><td>-0.0943</td><td>-0.5823</td><td>-0.5299</td><td>-0.1221</td><td>0.1901</td></tr><tr><td>-0.6588</td><td>-0.0104</td><td>-0.0580</td><td>0.0404</td><td>-0.0168</td><td>-0.2053</td><td>-0.1613</td><td>0.0187</td><td>0.6532</td></tr><tr><td>-0.1941</td><td>0.0672</td><td>0.2216</td><td>0.2498</td><td>0.0608</td><td>0.1717</td><td>0.2072</td><td>0.1596</td><td>1.1163</td></tr><tr><td>0.2706</td><td>0.1448</td><td>0.5012</td><td>0.4592</td><td>0.1384</td><td>0.5487</td><td>0.5758</td><td>0.3005</td><td>1.5794</td></tr><tr><td>0.7353</td><td>0.2224</td><td>0.7808</td><td>0.6686</td><td>0.2159</td><td>0.9257</td><td>0.9443</td><td>0.4414</td><td>2.0425</td></tr><tr><td>1.1999</td><td>0.3000</td><td>1.0604</td><td>0.8779</td><td>0.2935</td><td>1.3027</td><td>1.3129</td><td>0.5823</td><td>2.5056</td></tr><tr><td>1.6646</td><td>0.3776</td><td>1.3400</td><td>1.0873</td><td>0.3710</td><td>1.6797</td><td>1.6814</td><td>0.7231</td><td>2.9687</td></tr><tr><td>2.1293</td><td>0.4552</td><td>1.6196</td><td>1.2967</td><td>0.4486</td><td>2.0567</td><td>2.0500</td><td>0.8640</td><td>3.4318</td></tr><tr><td>2.5940</td><td>0.5328</td><td>1.8992</td><td>1.5061</td><td>0.5261</td><td>2.4337</td><td>2.4185</td><td>1.0049</td><td>3.8948</td></tr></table>"
      ],
      "text/plain": [
       "<ipy_table.IpyTable at 0x1ae9c160>"
      ]
     },
     "metadata": {},
     "output_type": "display_data"
    }
   ],
   "source": [
    "X_test_ss = transform(b.T, X_mean_ss, X_std_ss)\n",
    "print \"This is feature table.\"\n",
    "display(make_table(X_test_ss))\n",
    "\n",
    "m,n = np.shape(b.T)\n",
    "\n",
    "X_test_ss_evi = []\n",
    "\n",
    "for i in range(num_feat):\n",
    "    temp_Xi = X_test_ss[:,i]\n",
    "    temp_Xi = temp_Xi * clf_ss.coef_[0][i]\n",
    "    X_test_ss_evi.append(temp_Xi)\n",
    "    \n",
    "X_test_ss_evi = np.array(X_test_ss_evi)\n",
    "X_test_ss_evi = X_test_ss_evi.T\n",
    "print \"This is evi table.\"\n",
    "display(make_table(X_test_ss_evi))"
   ]
  },
  {
   "cell_type": "code",
   "execution_count": 12,
   "metadata": {
    "collapsed": false
   },
   "outputs": [
    {
     "name": "stdout",
     "output_type": "stream",
     "text": [
      "This is feature table\n"
     ]
    },
    {
     "data": {
      "text/html": [
       "<table border=\"1\" cellpadding=\"3\" cellspacing=\"0\"  style=\"border:1px solid black;border-collapse:collapse;\"><tr><td>-1.5712</td><td>-0.4816</td><td>-0.4913</td><td>-0.8514</td><td>-0.6450</td><td>-0.7687</td><td>-1.0257</td><td>-0.4881</td><td>-0.2913</td></tr><tr><td>-1.2856</td><td>-0.1605</td><td>-0.1638</td><td>-0.5108</td><td>-0.2150</td><td>-0.4914</td><td>-0.6154</td><td>-0.1627</td><td>0.2913</td></tr><tr><td>-0.9999</td><td>0.1605</td><td>0.1638</td><td>-0.1703</td><td>0.2150</td><td>-0.2142</td><td>-0.2051</td><td>0.1627</td><td>0.8740</td></tr><tr><td>-0.7142</td><td>0.4816</td><td>0.4913</td><td>0.1703</td><td>0.6450</td><td>0.0631</td><td>0.2051</td><td>0.4881</td><td>1.4567</td></tr><tr><td>-0.4285</td><td>0.8027</td><td>0.8189</td><td>0.5108</td><td>1.0750</td><td>0.3404</td><td>0.6154</td><td>0.8134</td><td>2.0394</td></tr><tr><td>-0.1428</td><td>1.1237</td><td>1.1465</td><td>0.8514</td><td>1.5049</td><td>0.6177</td><td>1.0257</td><td>1.1388</td><td>2.6221</td></tr><tr><td>0.1428</td><td>1.4448</td><td>1.4740</td><td>1.1920</td><td>1.9349</td><td>0.8950</td><td>1.4359</td><td>1.4642</td><td>3.2048</td></tr><tr><td>0.4285</td><td>1.7659</td><td>1.8016</td><td>1.5325</td><td>2.3649</td><td>1.1722</td><td>1.8462</td><td>1.7895</td><td>3.7875</td></tr><tr><td>0.7142</td><td>2.0870</td><td>2.1291</td><td>1.8731</td><td>2.7949</td><td>1.4495</td><td>2.2565</td><td>2.1149</td><td>4.3702</td></tr><tr><td>0.9999</td><td>2.4080</td><td>2.4567</td><td>2.2137</td><td>3.2249</td><td>1.7268</td><td>2.6668</td><td>2.4403</td><td>4.9529</td></tr></table>"
      ],
      "text/plain": [
       "<ipy_table.IpyTable at 0x1af13d30>"
      ]
     },
     "metadata": {},
     "output_type": "display_data"
    },
    {
     "name": "stdout",
     "output_type": "stream",
     "text": [
      "This is evi table.\n"
     ]
    },
    {
     "data": {
      "text/html": [
       "<table border=\"1\" cellpadding=\"3\" cellspacing=\"0\"  style=\"border:1px solid black;border-collapse:collapse;\"><tr><td>-2.5134</td><td>-0.1163</td><td>-0.4162</td><td>-0.5228</td><td>-0.1163</td><td>-1.0489</td><td>-0.9278</td><td>-0.2141</td><td>-0.2245</td></tr><tr><td>-2.0564</td><td>-0.0388</td><td>-0.1387</td><td>-0.3137</td><td>-0.0388</td><td>-0.6706</td><td>-0.5567</td><td>-0.0714</td><td>0.2245</td></tr><tr><td>-1.5994</td><td>0.0388</td><td>0.1387</td><td>-0.1046</td><td>0.0388</td><td>-0.2922</td><td>-0.1856</td><td>0.0714</td><td>0.6734</td></tr><tr><td>-1.1425</td><td>0.1163</td><td>0.4162</td><td>0.1046</td><td>0.1163</td><td>0.0861</td><td>0.1856</td><td>0.2141</td><td>1.1224</td></tr><tr><td>-0.6855</td><td>0.1939</td><td>0.6937</td><td>0.3137</td><td>0.1938</td><td>0.4645</td><td>0.5567</td><td>0.3569</td><td>1.5713</td></tr><tr><td>-0.2285</td><td>0.2715</td><td>0.9712</td><td>0.5228</td><td>0.2713</td><td>0.8429</td><td>0.9278</td><td>0.4996</td><td>2.0203</td></tr><tr><td>0.2285</td><td>0.3490</td><td>1.2487</td><td>0.7319</td><td>0.3488</td><td>1.2212</td><td>1.2989</td><td>0.6424</td><td>2.4692</td></tr><tr><td>0.6855</td><td>0.4266</td><td>1.5262</td><td>0.9410</td><td>0.4264</td><td>1.5996</td><td>1.6700</td><td>0.7851</td><td>2.9182</td></tr><tr><td>1.1425</td><td>0.5042</td><td>1.8036</td><td>1.1501</td><td>0.5039</td><td>1.9779</td><td>2.0411</td><td>0.9279</td><td>3.3672</td></tr><tr><td>1.5994</td><td>0.5817</td><td>2.0811</td><td>1.3592</td><td>0.5814</td><td>2.3563</td><td>2.4122</td><td>1.0706</td><td>3.8161</td></tr></table>"
      ],
      "text/plain": [
       "<ipy_table.IpyTable at 0x1ae9c160>"
      ]
     },
     "metadata": {},
     "output_type": "display_data"
    }
   ],
   "source": [
    "X_test_ig = clf_ig.transform(b.T)\n",
    "print \"This is feature table\"\n",
    "display(make_table(X_test_ig))\n",
    "\n",
    "X_test_ig_evi = []\n",
    "\n",
    "for i in range(num_feat):\n",
    "    temp_Xi = X_test_ig[:,i]\n",
    "    temp_Xi = temp_Xi * clf_ig.coef_[0][i]\n",
    "    X_test_ig_evi.append(temp_Xi)\n",
    "    \n",
    "X_test_ig_evi = np.array(X_test_ig_evi)\n",
    "X_test_ig_evi = X_test_ig_evi.T\n",
    "print \"This is evi table.\"\n",
    "display(make_table(X_test_ig_evi))"
   ]
  },
  {
   "cell_type": "code",
   "execution_count": 13,
   "metadata": {
    "collapsed": false
   },
   "outputs": [
    {
     "name": "stdout",
     "output_type": "stream",
     "text": [
      "[[ 0.4981675  0.5018325]]\n",
      "[[ 0.51413917  0.48586083]]\n",
      "-0.015971668182\n"
     ]
    }
   ],
   "source": [
    "most_difference1 = [[6,4,3,4,2,4,3,3,2]]\n",
    "\n",
    "most_difference_ss = transform(most_difference1, X_mean_ss, X_std_ss)\n",
    "most_difference_ig = transform(most_difference1, clf_ig.mns, clf_ig.sstd)\n",
    "\n",
    "a = clf_ss.predict_proba(most_difference_ss)\n",
    "b = clf_ig.predict_proba(most_difference_ig)\n",
    "\n",
    "print a \n",
    "print b \n",
    "\n",
    "print a[0][0] - b[0][0]"
   ]
  },
  {
   "cell_type": "code",
   "execution_count": null,
   "metadata": {
    "collapsed": true
   },
   "outputs": [],
   "source": [
    "# 6\t1\t3\t1\t2\t1\t3\t1\t1\tbenign\n",
    "# 6\t3\t3\t5\t3\t10\t3\t5\t3\tbenign --------This one\n",
    "# 6\t1\t3\t1\t4\t5\t5\t10\t1\tmalignant\n",
    "# 6\t1\t3\t2\t2\t1\t1\t1\t1\tbenign\n",
    "# 6\t3\t3\t3\t3\t2\t6\t1\t1\tbenign\n",
    "# 6\t2\t3\t1\t2\t1\t1\t1\t1\tbenign\n"
   ]
  },
  {
   "cell_type": "code",
   "execution_count": 14,
   "metadata": {
    "collapsed": false
   },
   "outputs": [
    {
     "name": "stdout",
     "output_type": "stream",
     "text": [
      "(array([-1.71233261]), array([ 1.68784136]))\n",
      "[[ 0.49872527  0.50127473]]\n",
      "[[ 0.50612251  0.49387749]]\n",
      "-0.00739723490027\n"
     ]
    }
   ],
   "source": [
    "most_difference2 = [[4,4,4,4,5,4,5,4,1]]\n",
    "\n",
    "most_difference_ss2 = transform(most_difference2, X_mean_ss, X_std_ss)\n",
    "most_difference_ig2 = clf_ig.transform(most_difference2)\n",
    "\n",
    "\n",
    "\n",
    "a = clf_ss.predict_proba(most_difference_ss2)\n",
    "b = clf_ig.predict_proba(most_difference_ig2)\n",
    "\n",
    "predict_evidences_ig = clf_ig.predict_evidences(most_difference_ig2)\n",
    "\n",
    "print predict_evidences_ig\n",
    "\n",
    "print a \n",
    "print b \n",
    "\n",
    "print a[0][0] - b[0][0]"
   ]
  },
  {
   "cell_type": "code",
   "execution_count": null,
   "metadata": {
    "collapsed": true
   },
   "outputs": [],
   "source": []
  },
  {
   "cell_type": "code",
   "execution_count": 15,
   "metadata": {
    "collapsed": false
   },
   "outputs": [],
   "source": [
    "# 4 \t4\t4\t4\t6\t5\t7\t3\t1\tbenign\n",
    "# 4 \t4\t4\t2\t2\t3\t2\t1\t1\tbenign\n",
    "# 4 \t4\t2\t1\t2\t5\t2\t1\t2\tbenign\n",
    "# 5 \t3\t3\t3\t2\t3\t4\t4\t1\tmalignant\n",
    "# 5 \t3\t3\t4\t2\t4\t3\t4\t1\tmalignant\n",
    "# 4 \t6\t5\t6\t7\t3.544656\t4\t9\t1\tbenign\n",
    "\n",
    "\n",
    "# However, when Normal_Nucleoli >= 4, it will be malignant in the most cases."
   ]
  },
  {
   "cell_type": "code",
   "execution_count": 36,
   "metadata": {
    "collapsed": false
   },
   "outputs": [
    {
     "data": {
      "image/png": "[encoded data removed]",
      "text/plain": [
       "<IPython.core.display.Image object>"
      ]
     },
     "execution_count": 36,
     "metadata": {},
     "output_type": "execute_result"
    }
   ],
   "source": [
    "Image(filename='input.png')"
   ]
  },
  {
   "cell_type": "code",
   "execution_count": 35,
   "metadata": {
    "collapsed": false
   },
   "outputs": [
    {
     "data": {
      "image/png": "[encoded data removed]",
      "text/plain": [
       "<IPython.core.display.Image object>"
      ]
     },
     "execution_count": 35,
     "metadata": {},
     "output_type": "execute_result"
    }
   ],
   "source": [
    "\n",
    "Image(filename='plot.png')"
   ]
  },
  {
   "cell_type": "code",
   "execution_count": null,
   "metadata": {
    "collapsed": true
   },
   "outputs": [],
   "source": []
  }
 ],
 "metadata": {
  "kernelspec": {
   "display_name": "Python 2",
   "language": "python",
   "name": "python2"
  },
  "language_info": {
   "codemirror_mode": {
    "name": "ipython",
    "version": 2
   },
   "file_extension": ".py",
   "mimetype": "text/x-python",
   "name": "python",
   "nbconvert_exporter": "python",
   "pygments_lexer": "ipython2",
   "version": "2.7.10"
  }
 },
 "nbformat": 4,
 "nbformat_minor": 0
}
